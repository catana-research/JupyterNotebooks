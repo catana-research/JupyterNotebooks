{
 "cells": [
  {
   "cell_type": "markdown",
   "metadata": {},
   "source": [
    "<div style=\"float:left;font-size:20px;\">\n",
    "    <h1>Interpolation</h1>\n",
    "</div><div style=\"float:right;\"><img src=\"../assets/banner.jpg\"></div>"
   ]
  },
  {
   "cell_type": "markdown",
   "metadata": {},
   "source": [
    "Illustrate option pricing with interpolation pricing and machine learning?"
   ]
  },
  {
   "cell_type": "code",
   "execution_count": 1,
   "metadata": {},
   "outputs": [],
   "source": [
    "import QuantLib as ql\n",
    "import matplotlib.pyplot as plt\n",
    "import numpy as np\n",
    "import pandas as pd"
   ]
  },
  {
   "cell_type": "markdown",
   "metadata": {},
   "source": [
    "## Option Configuration"
   ]
  },
  {
   "cell_type": "code",
   "execution_count": 2,
   "metadata": {},
   "outputs": [],
   "source": [
    "maturity_date = ql.Date(15, 1, 2016)\n",
    "spot_price    = 125\n",
    "strike_price  = 130\n",
    "volatility    = 0.20 # the historical vols or implied vols\n",
    "dividend_rate = 0.0163\n",
    "option_type   = ql.Option.Call"
   ]
  },
  {
   "cell_type": "markdown",
   "metadata": {},
   "source": [
    "## Market configuration"
   ]
  },
  {
   "cell_type": "code",
   "execution_count": 3,
   "metadata": {},
   "outputs": [],
   "source": [
    "risk_free_rate = 0.001\n",
    "day_count      = ql.Actual365Fixed()\n",
    "calendar       = ql.UnitedStates()\n",
    "\n",
    "calculation_date = ql.Date(8, 5, 2015)\n",
    "ql.Settings.instance().evaluationDate = calculation_date"
   ]
  },
  {
   "cell_type": "markdown",
   "metadata": {},
   "source": [
    "## Option objects"
   ]
  },
  {
   "cell_type": "code",
   "execution_count": 4,
   "metadata": {},
   "outputs": [],
   "source": [
    "payoff          = ql.PlainVanillaPayoff(option_type, strike_price)\n",
    "settlement      = calculation_date\n",
    "\n",
    "am_exercise     = ql.AmericanExercise(settlement, maturity_date)\n",
    "american_option = ql.VanillaOption(payoff, am_exercise)\n",
    "\n",
    "eu_exercise     = ql.EuropeanExercise(maturity_date)\n",
    "european_option = ql.VanillaOption(payoff, eu_exercise)"
   ]
  },
  {
   "cell_type": "markdown",
   "metadata": {},
   "source": [
    "## Simulation model - Black-Scholes-Merton"
   ]
  },
  {
   "cell_type": "code",
   "execution_count": 5,
   "metadata": {},
   "outputs": [],
   "source": [
    "spot_handle = ql.QuoteHandle(\n",
    "    ql.SimpleQuote(spot_price)\n",
    ")\n",
    "\n",
    "flat_ts = ql.YieldTermStructureHandle(\n",
    "    ql.FlatForward(calculation_date, risk_free_rate, day_count)\n",
    ")\n",
    "\n",
    "dividend_yield = ql.YieldTermStructureHandle(\n",
    "    ql.FlatForward(calculation_date, dividend_rate, day_count)\n",
    ")\n",
    "\n",
    "flat_vol_ts = ql.BlackVolTermStructureHandle(\n",
    "    ql.BlackConstantVol(calculation_date, calendar, volatility, day_count)\n",
    ")\n",
    "\n",
    "bsm_process = ql.BlackScholesMertonProcess(spot_handle,\n",
    "                                           dividend_yield,\n",
    "                                           flat_ts,\n",
    "                                           flat_vol_ts)"
   ]
  },
  {
   "cell_type": "markdown",
   "metadata": {},
   "source": [
    "## Option Pricing"
   ]
  },
  {
   "cell_type": "markdown",
   "metadata": {},
   "source": [
    "### Theoretical European option price"
   ]
  },
  {
   "cell_type": "code",
   "execution_count": 6,
   "metadata": {},
   "outputs": [
    {
     "name": "stdout",
     "output_type": "stream",
     "text": [
      "5.6122204198955075\n"
     ]
    }
   ],
   "source": [
    "european_option.setPricingEngine(ql.AnalyticEuropeanEngine(bsm_process))\n",
    "bs_price = european_option.NPV()\n",
    "print(bs_price)"
   ]
  },
  {
   "cell_type": "markdown",
   "metadata": {},
   "source": [
    "### Binomial tree pricing"
   ]
  },
  {
   "cell_type": "code",
   "execution_count": 79,
   "metadata": {},
   "outputs": [],
   "source": [
    "def binomial_price(option, bsm_process, steps):\n",
    "    binomial_engine = ql.BinomialVanillaEngine(bsm_process, \"crr\", steps)\n",
    "    option.setPricingEngine(binomial_engine)\n",
    "    return option.NPV()\n",
    "\n",
    "min_steps = 5\n",
    "max_steps = 500\n",
    "\n",
    "steps = range(min_steps, max_steps)\n",
    "eu_prices = [binomial_price(european_option, bsm_process, step) for step in steps]\n",
    "am_prices = [binomial_price(american_option, bsm_process, step) for step in steps]"
   ]
  },
  {
   "cell_type": "code",
   "execution_count": 8,
   "metadata": {},
   "outputs": [
    {
     "data": {
      "text/plain": [
       "<matplotlib.legend.Legend at 0x17d802edeb8>"
      ]
     },
     "execution_count": 8,
     "metadata": {},
     "output_type": "execute_result"
    },
    {
     "data": {
      "image/png": "[encoded data removed]",
      "text/plain": [
       "<Figure size 432x288 with 1 Axes>"
      ]
     },
     "metadata": {
      "needs_background": "light"
     },
     "output_type": "display_data"
    }
   ],
   "source": [
    "plt.plot(steps, eu_prices, label=\"European Option\", lw=2, alpha=0.6)\n",
    "plt.plot(steps, am_prices, label=\"American Option\", lw=2, alpha=0.6)\n",
    "plt.plot([min_steps, max_steps], [bs_price, bs_price], \"r--\", label=\"BSM Price\", lw=2, alpha=0.6)\n",
    "plt.xlabel(\"Steps\")\n",
    "plt.ylabel(\"Price\")\n",
    "#plt.ylim(6.7, 7)\n",
    "plt.title(\"Binomial Tree Price For Varying Steps\")\n",
    "plt.legend()"
   ]
  },
  {
   "cell_type": "code",
   "execution_count": 9,
   "metadata": {},
   "outputs": [],
   "source": [
    "def price_convergence_measure(price):\n",
    "    diff = np.array(price) - np.roll(price, -1)\n",
    "    return diff[:-1]"
   ]
  },
  {
   "cell_type": "code",
   "execution_count": 10,
   "metadata": {},
   "outputs": [
    {
     "data": {
      "text/plain": [
       "array([-0.00444957,  0.00432494, -0.00427525,  0.00415393, -0.00410268,\n",
       "        0.00398416, -0.00393173,  0.00381615, -0.00376316,  0.00365023])"
      ]
     },
     "execution_count": 10,
     "metadata": {},
     "output_type": "execute_result"
    }
   ],
   "source": [
    "price_convergence_measure(am_prices)[-10:]"
   ]
  },
  {
   "cell_type": "code",
   "execution_count": 11,
   "metadata": {},
   "outputs": [
    {
     "name": "stdout",
     "output_type": "stream",
     "text": [
      "8.5 ms ± 769 µs per loop (mean ± std. dev. of 7 runs, 100 loops each)\n"
     ]
    }
   ],
   "source": [
    "%timeit binomial_price(american_option, bsm_process, 1000)"
   ]
  },
  {
   "cell_type": "markdown",
   "metadata": {},
   "source": [
    "## Interpolation pricing"
   ]
  },
  {
   "cell_type": "code",
   "execution_count": 12,
   "metadata": {},
   "outputs": [],
   "source": [
    "min_strike = spot_price - 100\n",
    "max_strike = spot_price + 100"
   ]
  },
  {
   "cell_type": "markdown",
   "metadata": {},
   "source": [
    "### Brute force"
   ]
  },
  {
   "cell_type": "code",
   "execution_count": 80,
   "metadata": {},
   "outputs": [],
   "source": [
    "def strike_prices(strikes, n_steps=1000, settlement=settlement, maturity_date=maturity_date):\n",
    "    am_exercise     = ql.AmericanExercise(settlement, maturity_date)\n",
    "    american_options = [ql.VanillaOption(ql.PlainVanillaPayoff(option_type, strike), am_exercise) for strike in strikes]\n",
    "    prices = [binomial_price(american_option, bsm_process, n_steps) for american_option in american_options]\n",
    "    return strikes, prices"
   ]
  },
  {
   "cell_type": "code",
   "execution_count": 14,
   "metadata": {},
   "outputs": [],
   "source": [
    "def scan_strike_prices(strike_min, strike_max, n_strikes=100, n_steps=1000):\n",
    "    strikes = np.linspace(strike_min, strike_max, n_strikes)\n",
    "    return strike_prices(strikes, n_steps)"
   ]
  },
  {
   "cell_type": "code",
   "execution_count": 23,
   "metadata": {},
   "outputs": [],
   "source": [
    "# 726 ms ± 1.35 ms per loop (mean ± std. dev. of 7 runs, 1 loop each)\n",
    "strikes, prices = scan_strike_prices(min_strike, max_strike)"
   ]
  },
  {
   "cell_type": "code",
   "execution_count": 24,
   "metadata": {},
   "outputs": [
    {
     "data": {
      "text/plain": [
       "[<matplotlib.lines.Line2D at 0x17d804f3c18>]"
      ]
     },
     "execution_count": 24,
     "metadata": {},
     "output_type": "execute_result"
    },
    {
     "data": {
      "image/png": "[encoded data removed]",
      "text/plain": [
       "<Figure size 432x288 with 1 Axes>"
      ]
     },
     "metadata": {
      "needs_background": "light"
     },
     "output_type": "display_data"
    }
   ],
   "source": [
    "plt.plot(strikes, prices)"
   ]
  },
  {
   "cell_type": "markdown",
   "metadata": {},
   "source": [
    "### Interpolation (1D)"
   ]
  },
  {
   "cell_type": "code",
   "execution_count": 25,
   "metadata": {},
   "outputs": [],
   "source": [
    "from scipy import interpolate"
   ]
  },
  {
   "cell_type": "code",
   "execution_count": 26,
   "metadata": {},
   "outputs": [],
   "source": [
    "f_inter = interpolate.interp1d(strikes, prices, kind='cubic')"
   ]
  },
  {
   "cell_type": "code",
   "execution_count": 27,
   "metadata": {},
   "outputs": [],
   "source": [
    "strike_test = np.linspace(min_strike, max_strike, 7)\n",
    "price_test = f_inter(strike_test)\n",
    "price_error = price_test - strike_prices(strike_test)[1]"
   ]
  },
  {
   "cell_type": "code",
   "execution_count": 28,
   "metadata": {},
   "outputs": [
    {
     "data": {
      "text/plain": [
       "<matplotlib.legend.Legend at 0x17d81a71710>"
      ]
     },
     "execution_count": 28,
     "metadata": {},
     "output_type": "execute_result"
    },
    {
     "data": {
      "image/png": "[encoded data removed]",
      "text/plain": [
       "<Figure size 432x288 with 1 Axes>"
      ]
     },
     "metadata": {
      "needs_background": "light"
     },
     "output_type": "display_data"
    }
   ],
   "source": [
    "plt.scatter(strike_test, price_test, c='r', label='Interpolation')\n",
    "plt.plot(strikes, prices, label='Actual')\n",
    "plt.legend()"
   ]
  },
  {
   "cell_type": "markdown",
   "metadata": {},
   "source": [
    "#### Interpolation error"
   ]
  },
  {
   "cell_type": "code",
   "execution_count": 29,
   "metadata": {},
   "outputs": [
    {
     "data": {
      "text/plain": [
       "<matplotlib.legend.Legend at 0x17d81aaaf98>"
      ]
     },
     "execution_count": 29,
     "metadata": {},
     "output_type": "execute_result"
    },
    {
     "data": {
      "image/png": "[encoded data removed]",
      "text/plain": [
       "<Figure size 432x288 with 1 Axes>"
      ]
     },
     "metadata": {
      "needs_background": "light"
     },
     "output_type": "display_data"
    }
   ],
   "source": [
    "plt.scatter(strike_test, price_error, c='black', label='Error')\n",
    "plt.grid(b=True, which='major', axis='y', linestyle='-')\n",
    "plt.legend()"
   ]
  },
  {
   "cell_type": "markdown",
   "metadata": {},
   "source": [
    "### Interpolation (2D)"
   ]
  },
  {
   "cell_type": "code",
   "execution_count": 59,
   "metadata": {},
   "outputs": [],
   "source": [
    "def func(x, y):\n",
    "    return x*(1-x)*np.cos(4*np.pi*x) * np.sin(4*np.pi*y**2)**2\n",
    "\n",
    "grid_x, grid_y = np.mgrid[0:1:100j, 0:1:200j]\n",
    "\n",
    "# Actual results\n",
    "grid_z_actual = func(grid_x, grid_y)\n",
    "\n",
    "# Only know values at 1000 points\n",
    "points = np.random.rand(1000, 2)\n",
    "values = func(points[:,0], points[:,1])\n",
    "\n",
    "# Grid interpolation\n",
    "from scipy.interpolate import griddata\n",
    "grid_z2 = griddata(points, values, (grid_x, grid_y), method='cubic')"
   ]
  },
  {
   "cell_type": "code",
   "execution_count": 60,
   "metadata": {},
   "outputs": [
    {
     "data": {
      "image/png": "[encoded data removed]",
      "text/plain": [
       "<Figure size 432x288 with 2 Axes>"
      ]
     },
     "metadata": {
      "needs_background": "light"
     },
     "output_type": "display_data"
    }
   ],
   "source": [
    "# Original\n",
    "plt.subplot(121)\n",
    "plt.imshow(grid_z_actual.T, extent=(0,1,0,1), origin='lower')\n",
    "plt.plot(points[:,0], points[:,1], 'k.', ms=1)\n",
    "plt.title('Original')\n",
    "\n",
    "# Interpolation\n",
    "plt.subplot(122)\n",
    "plt.imshow(grid_z2.T, extent=(0,1,0,1), origin='lower')\n",
    "plt.title('Cubic');"
   ]
  },
  {
   "cell_type": "code",
   "execution_count": 74,
   "metadata": {},
   "outputs": [
    {
     "data": {
      "image/png": "[encoded data removed]",
      "text/plain": [
       "<Figure size 432x288 with 2 Axes>"
      ]
     },
     "metadata": {
      "needs_background": "light"
     },
     "output_type": "display_data"
    }
   ],
   "source": [
    "ratio = grid_z_actual/grid_z2\n",
    "\n",
    "plt.imshow(ratio.T, extent=(0,1,0,1), origin='lower')\n",
    "plt.colorbar()\n",
    "plt.title('Interpolation/Original');"
   ]
  },
  {
   "cell_type": "code",
   "execution_count": 81,
   "metadata": {},
   "outputs": [],
   "source": [
    "def am_option_price(strike, day_delta, settlement_date, maturity_date, steps=500):\n",
    "    am_exercise     = ql.AmericanExercise(settlement, maturity_date)\n",
    "    american_option = ql.VanillaOption(ql.PlainVanillaPayoff(option_type, strike), am_exercise)\n",
    "    price = binomial_price(american_option, bsm_process, steps)\n",
    "    return price"
   ]
  },
  {
   "cell_type": "code",
   "execution_count": 82,
   "metadata": {},
   "outputs": [
    {
     "data": {
      "text/plain": [
       "100j"
      ]
     },
     "execution_count": 82,
     "metadata": {},
     "output_type": "execute_result"
    }
   ],
   "source": [
    "def func(x, y):\n",
    "    return x*(1-x)*np.cos(4*np.pi*x) * np.sin(4*np.pi*y**2)**2\n",
    "\n",
    "grid_strike, grid_mat = np.mgrid[100:200:100j, 0:1:200j]"
   ]
  },
  {
   "cell_type": "code",
   "execution_count": 84,
   "metadata": {},
   "outputs": [
    {
     "data": {
      "text/plain": [
       "Date(9,5,2015)"
      ]
     },
     "execution_count": 84,
     "metadata": {},
     "output_type": "execute_result"
    }
   ],
   "source": [
    "a = ql.Date(8, 5, 2015)\n",
    "a += 1\n",
    "a"
   ]
  },
  {
   "cell_type": "markdown",
   "metadata": {},
   "source": [
    "## Chebyshev"
   ]
  },
  {
   "cell_type": "code",
   "execution_count": 30,
   "metadata": {},
   "outputs": [
    {
     "data": {
      "image/png": "[encoded data removed]",
      "text/plain": [
       "<Figure size 432x288 with 1 Axes>"
      ]
     },
     "metadata": {
      "needs_background": "light"
     },
     "output_type": "display_data"
    }
   ],
   "source": [
    "import numpy as np\n",
    "import matplotlib.pyplot as plt\n",
    "N = 30\n",
    "M = 15\n",
    "x = np.cos (np.pi * np.arange(N + 1) / N)\n",
    "y = np.cos (np.pi * np.arange(M + 1) / M)\n",
    "xx, yy = np.meshgrid(x, y)\n",
    "plt.plot(xx, yy, \"ko\", markersize = 3);"
   ]
  },
  {
   "cell_type": "code",
   "execution_count": 31,
   "metadata": {},
   "outputs": [
    {
     "ename": "SyntaxError",
     "evalue": "invalid syntax (<ipython-input-31-669e54416b06>, line 4)",
     "output_type": "error",
     "traceback": [
      "\u001b[1;36m  File \u001b[1;32m\"<ipython-input-31-669e54416b06>\"\u001b[1;36m, line \u001b[1;32m4\u001b[0m\n\u001b[1;33m    np.polynomial.chebyshev.Chebyshev.interpolate(, 3)\u001b[0m\n\u001b[1;37m                                                  ^\u001b[0m\n\u001b[1;31mSyntaxError\u001b[0m\u001b[1;31m:\u001b[0m invalid syntax\n"
     ]
    }
   ],
   "source": [
    "x = np.arange(N + 1)\n",
    "y = np.arange(N + 1)\n",
    "c = np.arange(N + 1)\n",
    "np.polynomial.chebyshev.Chebyshev.interpolate(, 3)"
   ]
  },
  {
   "cell_type": "markdown",
   "metadata": {},
   "source": [
    "## Trade population"
   ]
  },
  {
   "cell_type": "code",
   "execution_count": 32,
   "metadata": {},
   "outputs": [
    {
     "data": {
      "text/html": [
       "<div>\n",
       "<style scoped>\n",
       "    .dataframe tbody tr th:only-of-type {\n",
       "        vertical-align: middle;\n",
       "    }\n",
       "\n",
       "    .dataframe tbody tr th {\n",
       "        vertical-align: top;\n",
       "    }\n",
       "\n",
       "    .dataframe thead th {\n",
       "        text-align: right;\n",
       "    }\n",
       "</style>\n",
       "<table border=\"1\" class=\"dataframe\">\n",
       "  <thead>\n",
       "    <tr style=\"text-align: right;\">\n",
       "      <th></th>\n",
       "      <th>Ticker</th>\n",
       "      <th>Spot</th>\n",
       "      <th>DividendRate</th>\n",
       "    </tr>\n",
       "  </thead>\n",
       "  <tbody>\n",
       "    <tr>\n",
       "      <th>0</th>\n",
       "      <td>AAPL</td>\n",
       "      <td>151</td>\n",
       "      <td>0.006834</td>\n",
       "    </tr>\n",
       "    <tr>\n",
       "      <th>1</th>\n",
       "      <td>SPY</td>\n",
       "      <td>192</td>\n",
       "      <td>0.012797</td>\n",
       "    </tr>\n",
       "  </tbody>\n",
       "</table>\n",
       "</div>"
      ],
      "text/plain": [
       "  Ticker  Spot  DividendRate\n",
       "0   AAPL   151      0.006834\n",
       "1    SPY   192      0.012797"
      ]
     },
     "execution_count": 32,
     "metadata": {},
     "output_type": "execute_result"
    }
   ],
   "source": [
    "n_trades = 100\n",
    "tickers = ['AAPL', 'SPY']\n",
    "currencies = ['USD']\n",
    "products = ['AmericanOption']\n",
    "maturities = [ql.Date(15, 1, 2016)]\n",
    "\n",
    "np.random.seed(42)\n",
    "quantities = np.linspace(-100000, 100000, 21)\n",
    "\n",
    "tick_data = pd.DataFrame({'Ticker': tickers,\n",
    "                          'Spot': np.random.randint(100, 200, len(tickers)),\n",
    "                          'DividendRate': np.random.uniform(0.005, 0.015, len(tickers)),\n",
    "                         })\n",
    "tick_data"
   ]
  },
  {
   "cell_type": "code",
   "execution_count": 33,
   "metadata": {},
   "outputs": [
    {
     "data": {
      "text/html": [
       "<div>\n",
       "<style scoped>\n",
       "    .dataframe tbody tr th:only-of-type {\n",
       "        vertical-align: middle;\n",
       "    }\n",
       "\n",
       "    .dataframe tbody tr th {\n",
       "        vertical-align: top;\n",
       "    }\n",
       "\n",
       "    .dataframe thead th {\n",
       "        text-align: right;\n",
       "    }\n",
       "</style>\n",
       "<table border=\"1\" class=\"dataframe\">\n",
       "  <thead>\n",
       "    <tr style=\"text-align: right;\">\n",
       "      <th></th>\n",
       "      <th>TradeID</th>\n",
       "      <th>Ticker</th>\n",
       "      <th>Currency</th>\n",
       "      <th>Product</th>\n",
       "      <th>Call</th>\n",
       "      <th>Maturity</th>\n",
       "      <th>Quantity</th>\n",
       "      <th>Strike</th>\n",
       "      <th>Instrument</th>\n",
       "    </tr>\n",
       "  </thead>\n",
       "  <tbody>\n",
       "    <tr>\n",
       "      <th>0</th>\n",
       "      <td>EQ1</td>\n",
       "      <td>AAPL</td>\n",
       "      <td>USD</td>\n",
       "      <td>AmericanOption</td>\n",
       "      <td>False</td>\n",
       "      <td>January 15th, 2016</td>\n",
       "      <td>-70000.0</td>\n",
       "      <td>151</td>\n",
       "      <td>AAPL.151.False</td>\n",
       "    </tr>\n",
       "    <tr>\n",
       "      <th>1</th>\n",
       "      <td>EQ2</td>\n",
       "      <td>AAPL</td>\n",
       "      <td>USD</td>\n",
       "      <td>AmericanOption</td>\n",
       "      <td>False</td>\n",
       "      <td>January 15th, 2016</td>\n",
       "      <td>-60000.0</td>\n",
       "      <td>151</td>\n",
       "      <td>AAPL.151.False</td>\n",
       "    </tr>\n",
       "    <tr>\n",
       "      <th>2</th>\n",
       "      <td>EQ3</td>\n",
       "      <td>SPY</td>\n",
       "      <td>USD</td>\n",
       "      <td>AmericanOption</td>\n",
       "      <td>True</td>\n",
       "      <td>January 15th, 2016</td>\n",
       "      <td>-40000.0</td>\n",
       "      <td>192</td>\n",
       "      <td>SPY.192.True</td>\n",
       "    </tr>\n",
       "    <tr>\n",
       "      <th>3</th>\n",
       "      <td>EQ4</td>\n",
       "      <td>AAPL</td>\n",
       "      <td>USD</td>\n",
       "      <td>AmericanOption</td>\n",
       "      <td>False</td>\n",
       "      <td>January 15th, 2016</td>\n",
       "      <td>20000.0</td>\n",
       "      <td>151</td>\n",
       "      <td>AAPL.151.False</td>\n",
       "    </tr>\n",
       "    <tr>\n",
       "      <th>4</th>\n",
       "      <td>EQ5</td>\n",
       "      <td>AAPL</td>\n",
       "      <td>USD</td>\n",
       "      <td>AmericanOption</td>\n",
       "      <td>True</td>\n",
       "      <td>January 15th, 2016</td>\n",
       "      <td>40000.0</td>\n",
       "      <td>151</td>\n",
       "      <td>AAPL.151.True</td>\n",
       "    </tr>\n",
       "    <tr>\n",
       "      <th>...</th>\n",
       "      <td>...</td>\n",
       "      <td>...</td>\n",
       "      <td>...</td>\n",
       "      <td>...</td>\n",
       "      <td>...</td>\n",
       "      <td>...</td>\n",
       "      <td>...</td>\n",
       "      <td>...</td>\n",
       "      <td>...</td>\n",
       "    </tr>\n",
       "    <tr>\n",
       "      <th>95</th>\n",
       "      <td>EQ96</td>\n",
       "      <td>SPY</td>\n",
       "      <td>USD</td>\n",
       "      <td>AmericanOption</td>\n",
       "      <td>True</td>\n",
       "      <td>January 15th, 2016</td>\n",
       "      <td>-40000.0</td>\n",
       "      <td>192</td>\n",
       "      <td>SPY.192.True</td>\n",
       "    </tr>\n",
       "    <tr>\n",
       "      <th>96</th>\n",
       "      <td>EQ97</td>\n",
       "      <td>SPY</td>\n",
       "      <td>USD</td>\n",
       "      <td>AmericanOption</td>\n",
       "      <td>True</td>\n",
       "      <td>January 15th, 2016</td>\n",
       "      <td>50000.0</td>\n",
       "      <td>192</td>\n",
       "      <td>SPY.192.True</td>\n",
       "    </tr>\n",
       "    <tr>\n",
       "      <th>97</th>\n",
       "      <td>EQ98</td>\n",
       "      <td>SPY</td>\n",
       "      <td>USD</td>\n",
       "      <td>AmericanOption</td>\n",
       "      <td>False</td>\n",
       "      <td>January 15th, 2016</td>\n",
       "      <td>50000.0</td>\n",
       "      <td>192</td>\n",
       "      <td>SPY.192.False</td>\n",
       "    </tr>\n",
       "    <tr>\n",
       "      <th>98</th>\n",
       "      <td>EQ99</td>\n",
       "      <td>SPY</td>\n",
       "      <td>USD</td>\n",
       "      <td>AmericanOption</td>\n",
       "      <td>True</td>\n",
       "      <td>January 15th, 2016</td>\n",
       "      <td>90000.0</td>\n",
       "      <td>192</td>\n",
       "      <td>SPY.192.True</td>\n",
       "    </tr>\n",
       "    <tr>\n",
       "      <th>99</th>\n",
       "      <td>EQ100</td>\n",
       "      <td>SPY</td>\n",
       "      <td>USD</td>\n",
       "      <td>AmericanOption</td>\n",
       "      <td>False</td>\n",
       "      <td>January 15th, 2016</td>\n",
       "      <td>60000.0</td>\n",
       "      <td>192</td>\n",
       "      <td>SPY.192.False</td>\n",
       "    </tr>\n",
       "  </tbody>\n",
       "</table>\n",
       "<p>100 rows × 9 columns</p>\n",
       "</div>"
      ],
      "text/plain": [
       "   TradeID Ticker Currency         Product   Call            Maturity  \\\n",
       "0      EQ1   AAPL      USD  AmericanOption  False  January 15th, 2016   \n",
       "1      EQ2   AAPL      USD  AmericanOption  False  January 15th, 2016   \n",
       "2      EQ3    SPY      USD  AmericanOption   True  January 15th, 2016   \n",
       "3      EQ4   AAPL      USD  AmericanOption  False  January 15th, 2016   \n",
       "4      EQ5   AAPL      USD  AmericanOption   True  January 15th, 2016   \n",
       "..     ...    ...      ...             ...    ...                 ...   \n",
       "95    EQ96    SPY      USD  AmericanOption   True  January 15th, 2016   \n",
       "96    EQ97    SPY      USD  AmericanOption   True  January 15th, 2016   \n",
       "97    EQ98    SPY      USD  AmericanOption  False  January 15th, 2016   \n",
       "98    EQ99    SPY      USD  AmericanOption   True  January 15th, 2016   \n",
       "99   EQ100    SPY      USD  AmericanOption  False  January 15th, 2016   \n",
       "\n",
       "    Quantity  Strike      Instrument  \n",
       "0   -70000.0     151  AAPL.151.False  \n",
       "1   -60000.0     151  AAPL.151.False  \n",
       "2   -40000.0     192    SPY.192.True  \n",
       "3    20000.0     151  AAPL.151.False  \n",
       "4    40000.0     151   AAPL.151.True  \n",
       "..       ...     ...             ...  \n",
       "95  -40000.0     192    SPY.192.True  \n",
       "96   50000.0     192    SPY.192.True  \n",
       "97   50000.0     192   SPY.192.False  \n",
       "98   90000.0     192    SPY.192.True  \n",
       "99   60000.0     192   SPY.192.False  \n",
       "\n",
       "[100 rows x 9 columns]"
      ]
     },
     "execution_count": 33,
     "metadata": {},
     "output_type": "execute_result"
    }
   ],
   "source": [
    "\n",
    "population = pd.DataFrame({'TradeID': ['EQ{}'.format(i + 1) for i in range(n_trades)],\n",
    "                           'Ticker': np.random.choice(tickers, size=n_trades),\n",
    "                           'Currency': np.random.choice(currencies, size=n_trades),\n",
    "                           'Product': np.random.choice(products, size=n_trades),\n",
    "                           'Call': np.random.choice([True, False], size=n_trades),\n",
    "                           'Maturity': np.random.choice(maturities, size=n_trades),\n",
    "                           'Quantity': np.random.choice(quantities, size=n_trades),\n",
    "                          })\n",
    "population['Strike'] = population.apply(lambda row: tick_data[tick_data['Ticker']==row['Ticker']]['Spot'].values[0], axis=1)\n",
    "population['Instrument'] = population['Ticker'] + '.' + population['Strike'].astype('str') + '.' + population['Call'].astype('str')\n",
    "population"
   ]
  },
  {
   "cell_type": "code",
   "execution_count": 34,
   "metadata": {},
   "outputs": [
    {
     "data": {
      "text/html": [
       "<div>\n",
       "<style scoped>\n",
       "    .dataframe tbody tr th:only-of-type {\n",
       "        vertical-align: middle;\n",
       "    }\n",
       "\n",
       "    .dataframe tbody tr th {\n",
       "        vertical-align: top;\n",
       "    }\n",
       "\n",
       "    .dataframe thead th {\n",
       "        text-align: right;\n",
       "    }\n",
       "</style>\n",
       "<table border=\"1\" class=\"dataframe\">\n",
       "  <thead>\n",
       "    <tr style=\"text-align: right;\">\n",
       "      <th></th>\n",
       "      <th>Ticker</th>\n",
       "      <th>Spot</th>\n",
       "      <th>DividendRate</th>\n",
       "    </tr>\n",
       "  </thead>\n",
       "  <tbody>\n",
       "    <tr>\n",
       "      <th>0</th>\n",
       "      <td>AAPL</td>\n",
       "      <td>151</td>\n",
       "      <td>0.006834</td>\n",
       "    </tr>\n",
       "    <tr>\n",
       "      <th>1</th>\n",
       "      <td>SPY</td>\n",
       "      <td>192</td>\n",
       "      <td>0.012797</td>\n",
       "    </tr>\n",
       "  </tbody>\n",
       "</table>\n",
       "</div>"
      ],
      "text/plain": [
       "  Ticker  Spot  DividendRate\n",
       "0   AAPL   151      0.006834\n",
       "1    SPY   192      0.012797"
      ]
     },
     "execution_count": 34,
     "metadata": {},
     "output_type": "execute_result"
    }
   ],
   "source": [
    "tick_data"
   ]
  }
 ],
 "metadata": {
  "kernelspec": {
   "display_name": "Python 3",
   "language": "python",
   "name": "python3"
  },
  "language_info": {
   "codemirror_mode": {
    "name": "ipython",
    "version": 3
   },
   "file_extension": ".py",
   "mimetype": "text/x-python",
   "name": "python",
   "nbconvert_exporter": "python",
   "pygments_lexer": "ipython3",
   "version": "3.6.7"
  }
 },
 "nbformat": 4,
 "nbformat_minor": 4
}
