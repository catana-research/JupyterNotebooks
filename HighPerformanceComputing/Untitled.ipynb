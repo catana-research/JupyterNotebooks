{
 "cells": [
  {
   "cell_type": "markdown",
   "metadata": {},
   "source": [
    "<div style=\"float:left;font-size:20px;\">\n",
    "    <h1>Pandas</h1>\n",
    "</div><div style=\"float:right;\"><img src=\"../assets/banner.jpg\"></div>"
   ]
  },
  {
   "cell_type": "code",
   "execution_count": 3,
   "metadata": {},
   "outputs": [],
   "source": [
    "import pandas as pd"
   ]
  },
  {
   "cell_type": "markdown",
   "metadata": {},
   "source": [
    "## Tips"
   ]
  },
  {
   "cell_type": "markdown",
   "metadata": {},
   "source": [
    "### Error: value is trying to be set on a copy of a slice from a DataFrame\n",
    "For efficiency in Pandas, selections and slices return a reference to the original data known as a view. If this error occurs it is because you are trying make an assignment of a view of data. To fix this issue, simply prepend any operation that throws this error with a `.copy()` to ensure that view is copied into a new memory location when assigned."
   ]
  },
  {
   "cell_type": "markdown",
   "metadata": {},
   "source": [
    "### View a non-truncated view of a DataFrame\n",
    "\n",
    "Easy way:  \n",
    "```print(df.to_string())```\n",
    "\n",
    "Complicated way:  \n",
    "```\n",
    "with pd.option_context('display.max_rows', None, 'display.max_columns', None):  \n",
    "    print(df)\n",
    "```\n"
   ]
  }
 ],
 "metadata": {
  "kernelspec": {
   "display_name": "Python 3",
   "language": "python",
   "name": "python3"
  },
  "language_info": {
   "codemirror_mode": {
    "name": "ipython",
    "version": 3
   },
   "file_extension": ".py",
   "mimetype": "text/x-python",
   "name": "python",
   "nbconvert_exporter": "python",
   "pygments_lexer": "ipython3",
   "version": "3.6.7"
  }
 },
 "nbformat": 4,
 "nbformat_minor": 4
}
