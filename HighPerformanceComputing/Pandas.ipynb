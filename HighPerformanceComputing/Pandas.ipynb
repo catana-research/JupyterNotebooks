{
 "cells": [
  {
   "cell_type": "markdown",
   "metadata": {},
   "source": [
    "<div style=\"float:left;font-size:20px;\">\n",
    "    <h1>Pandas</h1>\n",
    "</div><div style=\"float:right;\"><img src=\"../assets/banner.jpg\"></div>"
   ]
  },
  {
   "cell_type": "code",
   "execution_count": 1,
   "metadata": {},
   "outputs": [],
   "source": [
    "import pandas as pd\n",
    "import numpy as np"
   ]
  },
  {
   "cell_type": "markdown",
   "metadata": {},
   "source": [
    "## Tips"
   ]
  },
  {
   "cell_type": "markdown",
   "metadata": {},
   "source": [
    "### Error: value is trying to be set on a copy of a slice from a DataFrame\n",
    "For efficiency in Pandas, selections and slices return a reference to the original data known as a view. If this error occurs it is because you are trying make an assignment of a view of data. To fix this issue, simply prepend any operation that throws this error with a `.copy()` to ensure that view is copied into a new memory location when assigned."
   ]
  },
  {
   "cell_type": "markdown",
   "metadata": {},
   "source": [
    "### View a non-truncated view of a DataFrame\n",
    "\n",
    "Easy way:  \n",
    "```print(df.to_string())```\n",
    "\n",
    "Complicated way:  \n",
    "```\n",
    "with pd.option_context('display.max_rows', None, 'display.max_columns', None):  \n",
    "    print(df)\n",
    "```\n"
   ]
  },
  {
   "cell_type": "markdown",
   "metadata": {},
   "source": [
    "# Optimised Pandas"
   ]
  },
  {
   "cell_type": "markdown",
   "metadata": {},
   "source": [
    "References:\n",
    "- https://pandas.pydata.org/pandas-docs/stable/user_guide/enhancingperf.html\n",
    "- Python for Data Analysis\n",
    "- https://medium.com/bigdatarepublic/advanced-pandas-optimize-speed-and-memory-a654b53be6c2\n",
    "- https://jakevdp.github.io/PythonDataScienceHandbook/03.12-performance-eval-and-query.html\n"
   ]
  },
  {
   "cell_type": "markdown",
   "metadata": {},
   "source": [
    "## Berlin Airbnb dataset"
   ]
  },
  {
   "cell_type": "code",
   "execution_count": 2,
   "metadata": {},
   "outputs": [],
   "source": [
    "path = 'V:/Kaggle/Berlin Airbnb Data/'\n",
    "\n",
    "listings = pd.read_csv(path + 'listings.csv')\n",
    "reviews  = pd.read_csv(path + 'reviews.csv')"
   ]
  },
  {
   "cell_type": "markdown",
   "metadata": {},
   "source": [
    "### Listings"
   ]
  },
  {
   "cell_type": "code",
   "execution_count": 3,
   "metadata": {},
   "outputs": [
    {
     "data": {
      "text/html": [
       "<div>\n",
       "<style scoped>\n",
       "    .dataframe tbody tr th:only-of-type {\n",
       "        vertical-align: middle;\n",
       "    }\n",
       "\n",
       "    .dataframe tbody tr th {\n",
       "        vertical-align: top;\n",
       "    }\n",
       "\n",
       "    .dataframe thead th {\n",
       "        text-align: right;\n",
       "    }\n",
       "</style>\n",
       "<table border=\"1\" class=\"dataframe\">\n",
       "  <thead>\n",
       "    <tr style=\"text-align: right;\">\n",
       "      <th></th>\n",
       "      <th>id</th>\n",
       "      <th>name</th>\n",
       "      <th>host_id</th>\n",
       "      <th>host_name</th>\n",
       "      <th>neighbourhood_group</th>\n",
       "      <th>neighbourhood</th>\n",
       "      <th>latitude</th>\n",
       "      <th>longitude</th>\n",
       "      <th>room_type</th>\n",
       "      <th>price</th>\n",
       "      <th>minimum_nights</th>\n",
       "      <th>number_of_reviews</th>\n",
       "      <th>last_review</th>\n",
       "      <th>reviews_per_month</th>\n",
       "      <th>calculated_host_listings_count</th>\n",
       "      <th>availability_365</th>\n",
       "    </tr>\n",
       "  </thead>\n",
       "  <tbody>\n",
       "    <tr>\n",
       "      <th>0</th>\n",
       "      <td>2015</td>\n",
       "      <td>Berlin-Mitte Value! Quiet courtyard/very central</td>\n",
       "      <td>2217</td>\n",
       "      <td>Ian</td>\n",
       "      <td>Mitte</td>\n",
       "      <td>Brunnenstr. Süd</td>\n",
       "      <td>52.534537</td>\n",
       "      <td>13.402557</td>\n",
       "      <td>Entire home/apt</td>\n",
       "      <td>60</td>\n",
       "      <td>4</td>\n",
       "      <td>118</td>\n",
       "      <td>2018-10-28</td>\n",
       "      <td>3.76</td>\n",
       "      <td>4</td>\n",
       "      <td>141</td>\n",
       "    </tr>\n",
       "    <tr>\n",
       "      <th>1</th>\n",
       "      <td>2695</td>\n",
       "      <td>Prenzlauer Berg close to Mauerpark</td>\n",
       "      <td>2986</td>\n",
       "      <td>Michael</td>\n",
       "      <td>Pankow</td>\n",
       "      <td>Prenzlauer Berg Nordwest</td>\n",
       "      <td>52.548513</td>\n",
       "      <td>13.404553</td>\n",
       "      <td>Private room</td>\n",
       "      <td>17</td>\n",
       "      <td>2</td>\n",
       "      <td>6</td>\n",
       "      <td>2018-10-01</td>\n",
       "      <td>1.42</td>\n",
       "      <td>1</td>\n",
       "      <td>0</td>\n",
       "    </tr>\n",
       "    <tr>\n",
       "      <th>2</th>\n",
       "      <td>3176</td>\n",
       "      <td>Fabulous Flat in great Location</td>\n",
       "      <td>3718</td>\n",
       "      <td>Britta</td>\n",
       "      <td>Pankow</td>\n",
       "      <td>Prenzlauer Berg Südwest</td>\n",
       "      <td>52.534996</td>\n",
       "      <td>13.417579</td>\n",
       "      <td>Entire home/apt</td>\n",
       "      <td>90</td>\n",
       "      <td>62</td>\n",
       "      <td>143</td>\n",
       "      <td>2017-03-20</td>\n",
       "      <td>1.25</td>\n",
       "      <td>1</td>\n",
       "      <td>220</td>\n",
       "    </tr>\n",
       "    <tr>\n",
       "      <th>3</th>\n",
       "      <td>3309</td>\n",
       "      <td>BerlinSpot Schöneberg near KaDeWe</td>\n",
       "      <td>4108</td>\n",
       "      <td>Jana</td>\n",
       "      <td>Tempelhof - Schöneberg</td>\n",
       "      <td>Schöneberg-Nord</td>\n",
       "      <td>52.498855</td>\n",
       "      <td>13.349065</td>\n",
       "      <td>Private room</td>\n",
       "      <td>26</td>\n",
       "      <td>5</td>\n",
       "      <td>25</td>\n",
       "      <td>2018-08-16</td>\n",
       "      <td>0.39</td>\n",
       "      <td>1</td>\n",
       "      <td>297</td>\n",
       "    </tr>\n",
       "    <tr>\n",
       "      <th>4</th>\n",
       "      <td>7071</td>\n",
       "      <td>BrightRoom with sunny greenview!</td>\n",
       "      <td>17391</td>\n",
       "      <td>Bright</td>\n",
       "      <td>Pankow</td>\n",
       "      <td>Helmholtzplatz</td>\n",
       "      <td>52.543157</td>\n",
       "      <td>13.415091</td>\n",
       "      <td>Private room</td>\n",
       "      <td>42</td>\n",
       "      <td>2</td>\n",
       "      <td>197</td>\n",
       "      <td>2018-11-04</td>\n",
       "      <td>1.75</td>\n",
       "      <td>1</td>\n",
       "      <td>26</td>\n",
       "    </tr>\n",
       "  </tbody>\n",
       "</table>\n",
       "</div>"
      ],
      "text/plain": [
       "     id                                              name  host_id host_name  \\\n",
       "0  2015  Berlin-Mitte Value! Quiet courtyard/very central     2217       Ian   \n",
       "1  2695                Prenzlauer Berg close to Mauerpark     2986   Michael   \n",
       "2  3176                   Fabulous Flat in great Location     3718    Britta   \n",
       "3  3309                 BerlinSpot Schöneberg near KaDeWe     4108      Jana   \n",
       "4  7071                  BrightRoom with sunny greenview!    17391    Bright   \n",
       "\n",
       "      neighbourhood_group             neighbourhood   latitude  longitude  \\\n",
       "0                   Mitte           Brunnenstr. Süd  52.534537  13.402557   \n",
       "1                  Pankow  Prenzlauer Berg Nordwest  52.548513  13.404553   \n",
       "2                  Pankow   Prenzlauer Berg Südwest  52.534996  13.417579   \n",
       "3  Tempelhof - Schöneberg           Schöneberg-Nord  52.498855  13.349065   \n",
       "4                  Pankow            Helmholtzplatz  52.543157  13.415091   \n",
       "\n",
       "         room_type  price  minimum_nights  number_of_reviews last_review  \\\n",
       "0  Entire home/apt     60               4                118  2018-10-28   \n",
       "1     Private room     17               2                  6  2018-10-01   \n",
       "2  Entire home/apt     90              62                143  2017-03-20   \n",
       "3     Private room     26               5                 25  2018-08-16   \n",
       "4     Private room     42               2                197  2018-11-04   \n",
       "\n",
       "   reviews_per_month  calculated_host_listings_count  availability_365  \n",
       "0               3.76                               4               141  \n",
       "1               1.42                               1                 0  \n",
       "2               1.25                               1               220  \n",
       "3               0.39                               1               297  \n",
       "4               1.75                               1                26  "
      ]
     },
     "execution_count": 3,
     "metadata": {},
     "output_type": "execute_result"
    }
   ],
   "source": [
    "listings.head()"
   ]
  },
  {
   "cell_type": "code",
   "execution_count": 4,
   "metadata": {},
   "outputs": [
    {
     "name": "stdout",
     "output_type": "stream",
     "text": [
      "<class 'pandas.core.frame.DataFrame'>\n",
      "RangeIndex: 22552 entries, 0 to 22551\n",
      "Data columns (total 16 columns):\n",
      "id                                22552 non-null int64\n",
      "name                              22493 non-null object\n",
      "host_id                           22552 non-null int64\n",
      "host_name                         22526 non-null object\n",
      "neighbourhood_group               22552 non-null object\n",
      "neighbourhood                     22552 non-null object\n",
      "latitude                          22552 non-null float64\n",
      "longitude                         22552 non-null float64\n",
      "room_type                         22552 non-null object\n",
      "price                             22552 non-null int64\n",
      "minimum_nights                    22552 non-null int64\n",
      "number_of_reviews                 22552 non-null int64\n",
      "last_review                       18644 non-null object\n",
      "reviews_per_month                 18638 non-null float64\n",
      "calculated_host_listings_count    22552 non-null int64\n",
      "availability_365                  22552 non-null int64\n",
      "dtypes: float64(3), int64(7), object(6)\n",
      "memory usage: 2.8+ MB\n"
     ]
    }
   ],
   "source": [
    "listings.info()"
   ]
  },
  {
   "cell_type": "markdown",
   "metadata": {},
   "source": [
    "### Reviews"
   ]
  },
  {
   "cell_type": "code",
   "execution_count": 5,
   "metadata": {},
   "outputs": [
    {
     "data": {
      "text/html": [
       "<div>\n",
       "<style scoped>\n",
       "    .dataframe tbody tr th:only-of-type {\n",
       "        vertical-align: middle;\n",
       "    }\n",
       "\n",
       "    .dataframe tbody tr th {\n",
       "        vertical-align: top;\n",
       "    }\n",
       "\n",
       "    .dataframe thead th {\n",
       "        text-align: right;\n",
       "    }\n",
       "</style>\n",
       "<table border=\"1\" class=\"dataframe\">\n",
       "  <thead>\n",
       "    <tr style=\"text-align: right;\">\n",
       "      <th></th>\n",
       "      <th>listing_id</th>\n",
       "      <th>date</th>\n",
       "    </tr>\n",
       "  </thead>\n",
       "  <tbody>\n",
       "    <tr>\n",
       "      <th>0</th>\n",
       "      <td>2015</td>\n",
       "      <td>2016-04-11</td>\n",
       "    </tr>\n",
       "    <tr>\n",
       "      <th>1</th>\n",
       "      <td>2015</td>\n",
       "      <td>2016-04-15</td>\n",
       "    </tr>\n",
       "    <tr>\n",
       "      <th>2</th>\n",
       "      <td>2015</td>\n",
       "      <td>2016-04-26</td>\n",
       "    </tr>\n",
       "    <tr>\n",
       "      <th>3</th>\n",
       "      <td>2015</td>\n",
       "      <td>2016-05-10</td>\n",
       "    </tr>\n",
       "    <tr>\n",
       "      <th>4</th>\n",
       "      <td>2015</td>\n",
       "      <td>2016-05-14</td>\n",
       "    </tr>\n",
       "  </tbody>\n",
       "</table>\n",
       "</div>"
      ],
      "text/plain": [
       "   listing_id        date\n",
       "0        2015  2016-04-11\n",
       "1        2015  2016-04-15\n",
       "2        2015  2016-04-26\n",
       "3        2015  2016-05-10\n",
       "4        2015  2016-05-14"
      ]
     },
     "execution_count": 5,
     "metadata": {},
     "output_type": "execute_result"
    }
   ],
   "source": [
    "reviews.head()"
   ]
  },
  {
   "cell_type": "code",
   "execution_count": 6,
   "metadata": {},
   "outputs": [
    {
     "name": "stdout",
     "output_type": "stream",
     "text": [
      "<class 'pandas.core.frame.DataFrame'>\n",
      "RangeIndex: 401963 entries, 0 to 401962\n",
      "Data columns (total 2 columns):\n",
      "listing_id    401963 non-null int64\n",
      "date          401963 non-null object\n",
      "dtypes: int64(1), object(1)\n",
      "memory usage: 6.1+ MB\n"
     ]
    }
   ],
   "source": [
    "reviews.info()"
   ]
  },
  {
   "cell_type": "markdown",
   "metadata": {},
   "source": [
    "# Merges"
   ]
  },
  {
   "cell_type": "markdown",
   "metadata": {},
   "source": [
    "### Indices"
   ]
  },
  {
   "cell_type": "markdown",
   "metadata": {},
   "source": [
    "Merges are more efficient on dataframes with indices"
   ]
  },
  {
   "cell_type": "code",
   "execution_count": 7,
   "metadata": {},
   "outputs": [
    {
     "name": "stdout",
     "output_type": "stream",
     "text": [
      "210 ms ± 3.47 ms per loop (mean ± std. dev. of 7 runs, 1 loop each)\n"
     ]
    }
   ],
   "source": [
    "%%timeit\n",
    "listings.merge(reviews, left_on='id', right_on='listing_id')"
   ]
  },
  {
   "cell_type": "code",
   "execution_count": 8,
   "metadata": {},
   "outputs": [],
   "source": [
    "reviews_ = reviews.set_index('listing_id')\n",
    "listings_ = listings.set_index('id')"
   ]
  },
  {
   "cell_type": "code",
   "execution_count": 9,
   "metadata": {},
   "outputs": [
    {
     "name": "stdout",
     "output_type": "stream",
     "text": [
      "168 ms ± 961 µs per loop (mean ± std. dev. of 7 runs, 10 loops each)\n"
     ]
    }
   ],
   "source": [
    "%%timeit\n",
    "listings_.merge(reviews_, left_index=True, right_index=True)"
   ]
  },
  {
   "cell_type": "markdown",
   "metadata": {},
   "source": [
    "### Filtering"
   ]
  },
  {
   "cell_type": "markdown",
   "metadata": {},
   "source": [
    "Always perform all the required filtering prior to merges or other operations"
   ]
  },
  {
   "cell_type": "code",
   "execution_count": 10,
   "metadata": {},
   "outputs": [],
   "source": [
    "listings_filtered = listings[:int(len(listings)/10)]"
   ]
  },
  {
   "cell_type": "code",
   "execution_count": 11,
   "metadata": {},
   "outputs": [
    {
     "name": "stdout",
     "output_type": "stream",
     "text": [
      "3.7 ms ± 17.8 µs per loop (mean ± std. dev. of 7 runs, 100 loops each)\n"
     ]
    }
   ],
   "source": [
    "%%timeit\n",
    "listings_filtered.merge(reviews_, left_index=True, right_index=True)"
   ]
  },
  {
   "cell_type": "markdown",
   "metadata": {},
   "source": [
    "# Single value access"
   ]
  },
  {
   "cell_type": "markdown",
   "metadata": {},
   "source": [
    "`at` is more efficient than `loc` for accessing single values."
   ]
  },
  {
   "cell_type": "code",
   "execution_count": 12,
   "metadata": {},
   "outputs": [
    {
     "data": {
      "text/plain": [
       "id                                                             3309\n",
       "name                              BerlinSpot Schöneberg near KaDeWe\n",
       "host_id                                                        4108\n",
       "host_name                                                      Jana\n",
       "neighbourhood_group                          Tempelhof - Schöneberg\n",
       "neighbourhood                                       Schöneberg-Nord\n",
       "latitude                                                    52.4989\n",
       "longitude                                                   13.3491\n",
       "room_type                                              Private room\n",
       "price                                                            26\n",
       "minimum_nights                                                    5\n",
       "number_of_reviews                                                25\n",
       "last_review                                              2018-08-16\n",
       "reviews_per_month                                              0.39\n",
       "calculated_host_listings_count                                    1\n",
       "availability_365                                                297\n",
       "Name: 3, dtype: object"
      ]
     },
     "execution_count": 12,
     "metadata": {},
     "output_type": "execute_result"
    }
   ],
   "source": [
    "listings.loc[3]"
   ]
  },
  {
   "cell_type": "code",
   "execution_count": 13,
   "metadata": {},
   "outputs": [
    {
     "name": "stderr",
     "output_type": "stream",
     "text": [
      "C:\\Users\\Mark\\.conda\\envs\\CatAna\\lib\\site-packages\\pandas\\core\\indexing.py:961: FutureWarning: \n",
      "Passing list-likes to .loc or [] with any missing label will raise\n",
      "KeyError in the future, you can use .reindex() as an alternative.\n",
      "\n",
      "See the documentation here:\n",
      "https://pandas.pydata.org/pandas-docs/stable/user_guide/indexing.html#deprecate-loc-reindex-listlike\n",
      "  return getattr(section, self.name)[new_key]\n"
     ]
    },
    {
     "data": {
      "text/plain": [
       "price          26\n",
       "norm_price    NaN\n",
       "Name: 3, dtype: object"
      ]
     },
     "execution_count": 13,
     "metadata": {},
     "output_type": "execute_result"
    }
   ],
   "source": [
    "listings.loc[3, ['price', 'norm_price']]"
   ]
  },
  {
   "cell_type": "code",
   "execution_count": 14,
   "metadata": {},
   "outputs": [
    {
     "name": "stdout",
     "output_type": "stream",
     "text": [
      "720 µs ± 4.06 µs per loop (mean ± std. dev. of 7 runs, 1000 loops each)\n"
     ]
    }
   ],
   "source": [
    "%%timeit\n",
    "listings[listings['id'] == 3309]['price']"
   ]
  },
  {
   "cell_type": "code",
   "execution_count": 15,
   "metadata": {},
   "outputs": [
    {
     "name": "stdout",
     "output_type": "stream",
     "text": [
      "211 µs ± 1.91 µs per loop (mean ± std. dev. of 7 runs, 1000 loops each)\n"
     ]
    }
   ],
   "source": [
    "%%timeit\n",
    "listings.loc[3]['price']"
   ]
  },
  {
   "cell_type": "code",
   "execution_count": 16,
   "metadata": {},
   "outputs": [
    {
     "name": "stdout",
     "output_type": "stream",
     "text": [
      "8.48 µs ± 37.1 ns per loop (mean ± std. dev. of 7 runs, 100000 loops each)\n"
     ]
    }
   ],
   "source": [
    "%%timeit\n",
    "listings.loc[3, 'price']"
   ]
  },
  {
   "cell_type": "code",
   "execution_count": 17,
   "metadata": {},
   "outputs": [
    {
     "name": "stdout",
     "output_type": "stream",
     "text": [
      "5.52 µs ± 30.6 ns per loop (mean ± std. dev. of 7 runs, 100000 loops each)\n"
     ]
    }
   ],
   "source": [
    "%%timeit\n",
    "listings.at[3, 'price']"
   ]
  },
  {
   "cell_type": "markdown",
   "metadata": {},
   "source": [
    "# Vectorize"
   ]
  },
  {
   "cell_type": "markdown",
   "metadata": {},
   "source": [
    "`vectorize` is the most efficient followed by `map`/`apply`. Avoid `iterrows()`. \n",
    "`apply` works on a row / column basis of a DataFrame, `applymap` works element-wise on a DataFrame, and `map` works element-wise on a Series.\n",
    "\n",
    "Demonstrate with an example in normalising the price data."
   ]
  },
  {
   "cell_type": "code",
   "execution_count": 18,
   "metadata": {},
   "outputs": [],
   "source": [
    "min_price = listings['price'].min()\n",
    "max_price = listings['price'].max()"
   ]
  },
  {
   "cell_type": "markdown",
   "metadata": {},
   "source": [
    "### Iterrows"
   ]
  },
  {
   "cell_type": "code",
   "execution_count": 19,
   "metadata": {},
   "outputs": [
    {
     "name": "stdout",
     "output_type": "stream",
     "text": [
      "2.41 s ± 17.1 ms per loop (mean ± std. dev. of 7 runs, 1 loop each)\n"
     ]
    }
   ],
   "source": [
    "%%timeit\n",
    "norm_prices = np.zeros(len(listings,))\n",
    "for i, row in listings.iterrows():\n",
    "    norm_prices[i] = (row['price'] - min_price) / (max_price - min_price)\n",
    "listings['norm_price'] = norm_prices"
   ]
  },
  {
   "cell_type": "markdown",
   "metadata": {},
   "source": [
    "### iloc"
   ]
  },
  {
   "cell_type": "code",
   "execution_count": 20,
   "metadata": {},
   "outputs": [
    {
     "name": "stdout",
     "output_type": "stream",
     "text": [
      "210 ms ± 2.75 ms per loop (mean ± std. dev. of 7 runs, 1 loop each)\n"
     ]
    }
   ],
   "source": [
    "%%timeit\n",
    "norm_prices = np.zeros(len(listings,))\n",
    "for i in range(len(norm_prices)):\n",
    "    norm_prices[i] = (listings.loc[i, 'price'] - min_price) / (max_price - min_price)\n",
    "listings['norm_price'] = norm_prices"
   ]
  },
  {
   "cell_type": "markdown",
   "metadata": {},
   "source": [
    "### map"
   ]
  },
  {
   "cell_type": "code",
   "execution_count": 21,
   "metadata": {},
   "outputs": [
    {
     "name": "stdout",
     "output_type": "stream",
     "text": [
      "17.1 ms ± 155 µs per loop (mean ± std. dev. of 7 runs, 100 loops each)\n"
     ]
    }
   ],
   "source": [
    "%%timeit \n",
    "listings['norm_price'] = listings['price'].map(lambda x: (x - min_price) / (max_price - min_price))"
   ]
  },
  {
   "cell_type": "markdown",
   "metadata": {},
   "source": [
    "### apply"
   ]
  },
  {
   "cell_type": "code",
   "execution_count": 22,
   "metadata": {},
   "outputs": [
    {
     "name": "stdout",
     "output_type": "stream",
     "text": [
      "16.9 ms ± 153 µs per loop (mean ± std. dev. of 7 runs, 100 loops each)\n"
     ]
    }
   ],
   "source": [
    "%%timeit \n",
    "listings['norm_price'] = listings['price'].apply(lambda x: (x - min_price) / (max_price - min_price))"
   ]
  },
  {
   "cell_type": "markdown",
   "metadata": {},
   "source": [
    "### Vectorize"
   ]
  },
  {
   "cell_type": "code",
   "execution_count": 23,
   "metadata": {},
   "outputs": [
    {
     "name": "stdout",
     "output_type": "stream",
     "text": [
      "451 µs ± 7.74 µs per loop (mean ± std. dev. of 7 runs, 1000 loops each)\n"
     ]
    }
   ],
   "source": [
    "%%timeit\n",
    "listings['norm_price'] = (listings['price'] - min_price) / (max_price - min_price)"
   ]
  },
  {
   "cell_type": "markdown",
   "metadata": {},
   "source": [
    "In Summary:\n",
    "\n",
    "Operation | Relative speed\n",
    "----------|---------------\n",
    "iterrows  | 1\n",
    "iloc      | 10\n",
    "map/apply | 134\n",
    "vectorize | 5200"
   ]
  },
  {
   "cell_type": "markdown",
   "metadata": {},
   "source": [
    "## Memory utilisation"
   ]
  },
  {
   "cell_type": "markdown",
   "metadata": {},
   "source": [
    "Types are automatically inferred from `csv` files which can lead to an inefficient underlying storage format. Other data formats, such as `parquet` and `pickle`, can define the data type and use the most efficient data type. Commonly repeated data can be further compressed by using the `category` datatype.\n",
    "\n",
    "For example below the integer datatypes are assigned the largest container where `number_of_reviews` is between 0 and 498."
   ]
  },
  {
   "cell_type": "code",
   "execution_count": 24,
   "metadata": {},
   "outputs": [
    {
     "data": {
      "text/html": [
       "<div>\n",
       "<style scoped>\n",
       "    .dataframe tbody tr th:only-of-type {\n",
       "        vertical-align: middle;\n",
       "    }\n",
       "\n",
       "    .dataframe tbody tr th {\n",
       "        vertical-align: top;\n",
       "    }\n",
       "\n",
       "    .dataframe thead th {\n",
       "        text-align: right;\n",
       "    }\n",
       "</style>\n",
       "<table border=\"1\" class=\"dataframe\">\n",
       "  <thead>\n",
       "    <tr style=\"text-align: right;\">\n",
       "      <th></th>\n",
       "      <th>id</th>\n",
       "      <th>host_id</th>\n",
       "      <th>latitude</th>\n",
       "      <th>longitude</th>\n",
       "      <th>price</th>\n",
       "      <th>minimum_nights</th>\n",
       "      <th>number_of_reviews</th>\n",
       "      <th>reviews_per_month</th>\n",
       "      <th>calculated_host_listings_count</th>\n",
       "      <th>availability_365</th>\n",
       "      <th>norm_price</th>\n",
       "    </tr>\n",
       "  </thead>\n",
       "  <tbody>\n",
       "    <tr>\n",
       "      <th>count</th>\n",
       "      <td>2.255200e+04</td>\n",
       "      <td>2.255200e+04</td>\n",
       "      <td>22552.000000</td>\n",
       "      <td>22552.000000</td>\n",
       "      <td>22552.000000</td>\n",
       "      <td>22552.000000</td>\n",
       "      <td>22552.000000</td>\n",
       "      <td>18638.000000</td>\n",
       "      <td>22552.000000</td>\n",
       "      <td>22552.000000</td>\n",
       "      <td>22552.000000</td>\n",
       "    </tr>\n",
       "    <tr>\n",
       "      <th>mean</th>\n",
       "      <td>1.571560e+07</td>\n",
       "      <td>5.403355e+07</td>\n",
       "      <td>52.509824</td>\n",
       "      <td>13.406107</td>\n",
       "      <td>67.143668</td>\n",
       "      <td>7.157059</td>\n",
       "      <td>17.840679</td>\n",
       "      <td>1.135525</td>\n",
       "      <td>1.918233</td>\n",
       "      <td>79.852829</td>\n",
       "      <td>0.007460</td>\n",
       "    </tr>\n",
       "    <tr>\n",
       "      <th>std</th>\n",
       "      <td>8.552069e+06</td>\n",
       "      <td>5.816290e+07</td>\n",
       "      <td>0.030825</td>\n",
       "      <td>0.057964</td>\n",
       "      <td>220.266210</td>\n",
       "      <td>40.665073</td>\n",
       "      <td>36.769624</td>\n",
       "      <td>1.507082</td>\n",
       "      <td>3.667257</td>\n",
       "      <td>119.368162</td>\n",
       "      <td>0.024474</td>\n",
       "    </tr>\n",
       "    <tr>\n",
       "      <th>min</th>\n",
       "      <td>2.015000e+03</td>\n",
       "      <td>2.217000e+03</td>\n",
       "      <td>52.345803</td>\n",
       "      <td>13.103557</td>\n",
       "      <td>0.000000</td>\n",
       "      <td>1.000000</td>\n",
       "      <td>0.000000</td>\n",
       "      <td>0.010000</td>\n",
       "      <td>1.000000</td>\n",
       "      <td>0.000000</td>\n",
       "      <td>0.000000</td>\n",
       "    </tr>\n",
       "    <tr>\n",
       "      <th>25%</th>\n",
       "      <td>8.065954e+06</td>\n",
       "      <td>9.240002e+06</td>\n",
       "      <td>52.489065</td>\n",
       "      <td>13.375411</td>\n",
       "      <td>30.000000</td>\n",
       "      <td>2.000000</td>\n",
       "      <td>1.000000</td>\n",
       "      <td>0.180000</td>\n",
       "      <td>1.000000</td>\n",
       "      <td>0.000000</td>\n",
       "      <td>0.003333</td>\n",
       "    </tr>\n",
       "    <tr>\n",
       "      <th>50%</th>\n",
       "      <td>1.686638e+07</td>\n",
       "      <td>3.126711e+07</td>\n",
       "      <td>52.509079</td>\n",
       "      <td>13.416779</td>\n",
       "      <td>45.000000</td>\n",
       "      <td>2.000000</td>\n",
       "      <td>5.000000</td>\n",
       "      <td>0.540000</td>\n",
       "      <td>1.000000</td>\n",
       "      <td>4.000000</td>\n",
       "      <td>0.005000</td>\n",
       "    </tr>\n",
       "    <tr>\n",
       "      <th>75%</th>\n",
       "      <td>2.258393e+07</td>\n",
       "      <td>8.067518e+07</td>\n",
       "      <td>52.532669</td>\n",
       "      <td>13.439259</td>\n",
       "      <td>70.000000</td>\n",
       "      <td>4.000000</td>\n",
       "      <td>16.000000</td>\n",
       "      <td>1.500000</td>\n",
       "      <td>1.000000</td>\n",
       "      <td>129.000000</td>\n",
       "      <td>0.007778</td>\n",
       "    </tr>\n",
       "    <tr>\n",
       "      <th>max</th>\n",
       "      <td>2.986735e+07</td>\n",
       "      <td>2.245081e+08</td>\n",
       "      <td>52.651670</td>\n",
       "      <td>13.757642</td>\n",
       "      <td>9000.000000</td>\n",
       "      <td>5000.000000</td>\n",
       "      <td>498.000000</td>\n",
       "      <td>36.670000</td>\n",
       "      <td>45.000000</td>\n",
       "      <td>365.000000</td>\n",
       "      <td>1.000000</td>\n",
       "    </tr>\n",
       "  </tbody>\n",
       "</table>\n",
       "</div>"
      ],
      "text/plain": [
       "                 id       host_id      latitude     longitude         price  \\\n",
       "count  2.255200e+04  2.255200e+04  22552.000000  22552.000000  22552.000000   \n",
       "mean   1.571560e+07  5.403355e+07     52.509824     13.406107     67.143668   \n",
       "std    8.552069e+06  5.816290e+07      0.030825      0.057964    220.266210   \n",
       "min    2.015000e+03  2.217000e+03     52.345803     13.103557      0.000000   \n",
       "25%    8.065954e+06  9.240002e+06     52.489065     13.375411     30.000000   \n",
       "50%    1.686638e+07  3.126711e+07     52.509079     13.416779     45.000000   \n",
       "75%    2.258393e+07  8.067518e+07     52.532669     13.439259     70.000000   \n",
       "max    2.986735e+07  2.245081e+08     52.651670     13.757642   9000.000000   \n",
       "\n",
       "       minimum_nights  number_of_reviews  reviews_per_month  \\\n",
       "count    22552.000000       22552.000000       18638.000000   \n",
       "mean         7.157059          17.840679           1.135525   \n",
       "std         40.665073          36.769624           1.507082   \n",
       "min          1.000000           0.000000           0.010000   \n",
       "25%          2.000000           1.000000           0.180000   \n",
       "50%          2.000000           5.000000           0.540000   \n",
       "75%          4.000000          16.000000           1.500000   \n",
       "max       5000.000000         498.000000          36.670000   \n",
       "\n",
       "       calculated_host_listings_count  availability_365    norm_price  \n",
       "count                    22552.000000      22552.000000  22552.000000  \n",
       "mean                         1.918233         79.852829      0.007460  \n",
       "std                          3.667257        119.368162      0.024474  \n",
       "min                          1.000000          0.000000      0.000000  \n",
       "25%                          1.000000          0.000000      0.003333  \n",
       "50%                          1.000000          4.000000      0.005000  \n",
       "75%                          1.000000        129.000000      0.007778  \n",
       "max                         45.000000        365.000000      1.000000  "
      ]
     },
     "execution_count": 24,
     "metadata": {},
     "output_type": "execute_result"
    }
   ],
   "source": [
    "listings.describe()"
   ]
  },
  {
   "cell_type": "code",
   "execution_count": 25,
   "metadata": {},
   "outputs": [
    {
     "name": "stdout",
     "output_type": "stream",
     "text": [
      "<class 'pandas.core.frame.DataFrame'>\n",
      "RangeIndex: 22552 entries, 0 to 22551\n",
      "Data columns (total 17 columns):\n",
      "id                                22552 non-null int64\n",
      "name                              22493 non-null object\n",
      "host_id                           22552 non-null int64\n",
      "host_name                         22526 non-null object\n",
      "neighbourhood_group               22552 non-null object\n",
      "neighbourhood                     22552 non-null object\n",
      "latitude                          22552 non-null float64\n",
      "longitude                         22552 non-null float64\n",
      "room_type                         22552 non-null object\n",
      "price                             22552 non-null int64\n",
      "minimum_nights                    22552 non-null int64\n",
      "number_of_reviews                 22552 non-null int64\n",
      "last_review                       18644 non-null object\n",
      "reviews_per_month                 18638 non-null float64\n",
      "calculated_host_listings_count    22552 non-null int64\n",
      "availability_365                  22552 non-null int64\n",
      "norm_price                        22552 non-null float64\n",
      "dtypes: float64(4), int64(7), object(6)\n",
      "memory usage: 2.9+ MB\n"
     ]
    }
   ],
   "source": [
    "listings.info()"
   ]
  },
  {
   "cell_type": "code",
   "execution_count": 26,
   "metadata": {},
   "outputs": [],
   "source": [
    "# Tools for optimising types  automatically:\n",
    "from typing import List\n",
    "\n",
    "def optimize_floats(df: pd.DataFrame) -> pd.DataFrame:\n",
    "    floats = df.select_dtypes(include=['float64']).columns.tolist()\n",
    "    df[floats] = df[floats].apply(pd.to_numeric, downcast='float')\n",
    "    return df\n",
    "\n",
    "def optimize_ints(df: pd.DataFrame) -> pd.DataFrame:\n",
    "    ints = df.select_dtypes(include=['int64']).columns.tolist()\n",
    "    df[ints] = df[ints].apply(pd.to_numeric, downcast='integer')\n",
    "    return df\n",
    "\n",
    "\n",
    "def optimize_objects(df: pd.DataFrame, datetime_features: List[str]) -> pd.DataFrame:\n",
    "    for col in df.select_dtypes(include=['object']):\n",
    "        if col not in datetime_features:\n",
    "            num_unique_values = len(df[col].unique())\n",
    "            num_total_values = len(df[col])\n",
    "            if float(num_unique_values) / num_total_values < 0.5:\n",
    "                df[col] = df[col].astype('category')\n",
    "        else:\n",
    "            df[col] = pd.to_datetime(df[col])\n",
    "    return df\n",
    "\n",
    "def optimize(df: pd.DataFrame, datetime_features: List[str] = []):\n",
    "    return optimize_floats(optimize_ints(optimize_objects(df, datetime_features)))"
   ]
  },
  {
   "cell_type": "code",
   "execution_count": 27,
   "metadata": {},
   "outputs": [],
   "source": [
    "optimized_listings = optimize(listings, ['last_review'])"
   ]
  },
  {
   "cell_type": "code",
   "execution_count": 28,
   "metadata": {},
   "outputs": [
    {
     "name": "stdout",
     "output_type": "stream",
     "text": [
      "<class 'pandas.core.frame.DataFrame'>\n",
      "RangeIndex: 22552 entries, 0 to 22551\n",
      "Data columns (total 17 columns):\n",
      "id                                22552 non-null int32\n",
      "name                              22493 non-null object\n",
      "host_id                           22552 non-null int32\n",
      "host_name                         22526 non-null category\n",
      "neighbourhood_group               22552 non-null category\n",
      "neighbourhood                     22552 non-null category\n",
      "latitude                          22552 non-null float32\n",
      "longitude                         22552 non-null float32\n",
      "room_type                         22552 non-null category\n",
      "price                             22552 non-null int16\n",
      "minimum_nights                    22552 non-null int16\n",
      "number_of_reviews                 22552 non-null int16\n",
      "last_review                       18644 non-null datetime64[ns]\n",
      "reviews_per_month                 18638 non-null float32\n",
      "calculated_host_listings_count    22552 non-null int8\n",
      "availability_365                  22552 non-null int16\n",
      "norm_price                        22552 non-null float32\n",
      "dtypes: category(4), datetime64[ns](1), float32(4), int16(4), int32(2), int8(1), object(1)\n",
      "memory usage: 1.4+ MB\n"
     ]
    }
   ],
   "source": [
    "optimized_listings.info()"
   ]
  },
  {
   "cell_type": "markdown",
   "metadata": {},
   "source": [
    "The memory footprint has gone from 2.8MB to 1.3MB, _46%_ of the original utilisation."
   ]
  },
  {
   "cell_type": "markdown",
   "metadata": {},
   "source": [
    "## Data processing tests"
   ]
  },
  {
   "cell_type": "markdown",
   "metadata": {},
   "source": [
    "Determine the most efficient method to apply a semi-complex function across all rows of a dataframe, conclusions:\n",
    "- `apply` is terrible.\n",
    "- `np.vectorize` applied to a function is not very efficient.\n",
    "- `vectorize` is very efficient. The Pandas `vectorize` is less efficient that ndarray `vectorize` for small amounts of rows.\n",
    "- `numba` is the most efficient. Manually operating the loops is less efficient than the vectorized method. NOTE: the @njit decorator must be added to any functions called by @njit decoratored functions, otherwise Numba may generate\n",
    "much slower code."
   ]
  },
  {
   "cell_type": "code",
   "execution_count": 29,
   "metadata": {},
   "outputs": [],
   "source": [
    "def average_price_per_night(price, minimum_nights):\n",
    "    return price/minimum_nights"
   ]
  },
  {
   "cell_type": "markdown",
   "metadata": {},
   "source": [
    "### Apply"
   ]
  },
  {
   "cell_type": "code",
   "execution_count": 30,
   "metadata": {},
   "outputs": [
    {
     "name": "stdout",
     "output_type": "stream",
     "text": [
      "2.67 s ± 22.1 ms per loop (mean ± std. dev. of 7 runs, 1 loop each)\n"
     ]
    }
   ],
   "source": [
    "%%timeit\n",
    "optimized_listings.apply(lambda row: average_price_per_night(row['price'], row['minimum_nights']), axis=1)"
   ]
  },
  {
   "cell_type": "code",
   "execution_count": 31,
   "metadata": {},
   "outputs": [
    {
     "name": "stdout",
     "output_type": "stream",
     "text": [
      "2.67 s ± 7.9 ms per loop (mean ± std. dev. of 7 runs, 1 loop each)\n"
     ]
    }
   ],
   "source": [
    "%%timeit\n",
    "optimized_listings.apply(lambda row: row['price']/row['minimum_nights'], axis=1)"
   ]
  },
  {
   "cell_type": "markdown",
   "metadata": {},
   "source": [
    "### Vectorised"
   ]
  },
  {
   "cell_type": "code",
   "execution_count": 32,
   "metadata": {},
   "outputs": [
    {
     "name": "stdout",
     "output_type": "stream",
     "text": [
      "175 µs ± 6.38 µs per loop (mean ± std. dev. of 7 runs, 1000 loops each)\n"
     ]
    }
   ],
   "source": [
    "%%timeit\n",
    "optimized_listings['price']/optimized_listings['minimum_nights']"
   ]
  },
  {
   "cell_type": "code",
   "execution_count": 33,
   "metadata": {},
   "outputs": [
    {
     "name": "stdout",
     "output_type": "stream",
     "text": [
      "64.2 µs ± 557 ns per loop (mean ± std. dev. of 7 runs, 10000 loops each)\n"
     ]
    }
   ],
   "source": [
    "%%timeit\n",
    "average_price_per_night(optimized_listings['price'].to_numpy(), optimized_listings['minimum_nights'].to_numpy())"
   ]
  },
  {
   "cell_type": "code",
   "execution_count": 34,
   "metadata": {},
   "outputs": [
    {
     "name": "stdout",
     "output_type": "stream",
     "text": [
      "63.8 µs ± 364 ns per loop (mean ± std. dev. of 7 runs, 10000 loops each)\n"
     ]
    }
   ],
   "source": [
    "%%timeit\n",
    "optimized_listings['price'].to_numpy()/optimized_listings['minimum_nights'].to_numpy()"
   ]
  },
  {
   "cell_type": "markdown",
   "metadata": {},
   "source": [
    "### Numpy"
   ]
  },
  {
   "cell_type": "code",
   "execution_count": 35,
   "metadata": {},
   "outputs": [
    {
     "name": "stdout",
     "output_type": "stream",
     "text": [
      "63.8 µs ± 226 ns per loop (mean ± std. dev. of 7 runs, 10000 loops each)\n"
     ]
    }
   ],
   "source": [
    "%%timeit\n",
    "optimized_listings['price'].to_numpy()/optimized_listings['minimum_nights'].to_numpy()"
   ]
  },
  {
   "cell_type": "code",
   "execution_count": 36,
   "metadata": {},
   "outputs": [
    {
     "name": "stdout",
     "output_type": "stream",
     "text": [
      "3.64 ms ± 21.3 µs per loop (mean ± std. dev. of 7 runs, 100 loops each)\n"
     ]
    }
   ],
   "source": [
    "%%timeit\n",
    "np.vectorize(average_price_per_night)(optimized_listings['price'].to_numpy(), optimized_listings['minimum_nights'].to_numpy())"
   ]
  },
  {
   "cell_type": "markdown",
   "metadata": {},
   "source": [
    "### Numba"
   ]
  },
  {
   "cell_type": "code",
   "execution_count": 37,
   "metadata": {},
   "outputs": [],
   "source": [
    "import numba\n",
    "\n",
    "@numba.njit()\n",
    "def numba_average_price_per_night(price, minimum_nights):\n",
    "    return price/minimum_nights\n",
    "\n",
    "@numba.njit()\n",
    "def numba_loop_average_price_per_night(price, minimum_nights):\n",
    "    n = len(price)\n",
    "    r = np.empty(n, dtype=np.float32)\n",
    "    \n",
    "    for i in range(n):\n",
    "        r[i] = price[i]/minimum_nights[i]\n",
    "    return r"
   ]
  },
  {
   "cell_type": "code",
   "execution_count": 38,
   "metadata": {},
   "outputs": [
    {
     "name": "stdout",
     "output_type": "stream",
     "text": [
      "48.2 µs ± 31 µs per loop (mean ± std. dev. of 7 runs, 1 loop each)\n"
     ]
    }
   ],
   "source": [
    "%%timeit\n",
    "numba_average_price_per_night(optimized_listings['price'].to_numpy(), optimized_listings['minimum_nights'].to_numpy())"
   ]
  },
  {
   "cell_type": "code",
   "execution_count": 39,
   "metadata": {},
   "outputs": [],
   "source": [
    "x = optimized_listings['price'].to_numpy()\n",
    "y = optimized_listings['minimum_nights'].to_numpy()"
   ]
  },
  {
   "cell_type": "code",
   "execution_count": 40,
   "metadata": {},
   "outputs": [
    {
     "name": "stdout",
     "output_type": "stream",
     "text": [
      "19.8 µs ± 347 ns per loop (mean ± std. dev. of 7 runs, 10000 loops each)\n"
     ]
    }
   ],
   "source": [
    "%%timeit \n",
    "numba_average_price_per_night(x, y)"
   ]
  },
  {
   "cell_type": "code",
   "execution_count": 41,
   "metadata": {},
   "outputs": [
    {
     "name": "stdout",
     "output_type": "stream",
     "text": [
      "49.3 µs ± 1.15 µs per loop (mean ± std. dev. of 7 runs, 10000 loops each)\n"
     ]
    }
   ],
   "source": [
    "%%timeit\n",
    "numba_loop_average_price_per_night(optimized_listings['price'].to_numpy(), optimized_listings['minimum_nights'].to_numpy())"
   ]
  },
  {
   "cell_type": "markdown",
   "metadata": {},
   "source": [
    "### Cython"
   ]
  },
  {
   "cell_type": "code",
   "execution_count": 42,
   "metadata": {},
   "outputs": [],
   "source": [
    " %load_ext Cython"
   ]
  },
  {
   "cell_type": "code",
   "execution_count": 43,
   "metadata": {},
   "outputs": [],
   "source": [
    "%%cython\n",
    "def cython_average_price_per_night(price, minimum_nights):\n",
    "    return price/minimum_nights"
   ]
  },
  {
   "cell_type": "code",
   "execution_count": 44,
   "metadata": {},
   "outputs": [
    {
     "name": "stdout",
     "output_type": "stream",
     "text": [
      "66.1 µs ± 1.05 µs per loop (mean ± std. dev. of 7 runs, 10000 loops each)\n"
     ]
    }
   ],
   "source": [
    "%%timeit\n",
    "cython_average_price_per_night(optimized_listings['price'].to_numpy(), optimized_listings['minimum_nights'].to_numpy())"
   ]
  },
  {
   "cell_type": "code",
   "execution_count": 45,
   "metadata": {},
   "outputs": [
    {
     "name": "stdout",
     "output_type": "stream",
     "text": [
      " "
     ]
    },
    {
     "data": {
      "text/plain": [
       "         68 function calls in 0.000 seconds\n",
       "\n",
       "   Ordered by: internal time\n",
       "   List reduced from 29 to 4 due to restriction <4>\n",
       "\n",
       "   ncalls  tottime  percall  cumtime  percall filename:lineno(function)\n",
       "        1    0.000    0.000    0.000    0.000 {_cython_magic_426610cf046191d324deb79ce9bfdf99.cython_average_price_per_night}\n",
       "        1    0.000    0.000    0.000    0.000 {built-in method builtins.exec}\n",
       "        2    0.000    0.000    0.000    0.000 frame.py:2964(__getitem__)\n",
       "        1    0.000    0.000    0.000    0.000 <string>:1(<module>)"
      ]
     },
     "metadata": {},
     "output_type": "display_data"
    }
   ],
   "source": [
    "%prun -l 4 cython_average_price_per_night(optimized_listings['price'].to_numpy(), optimized_listings['minimum_nights'].to_numpy())"
   ]
  },
  {
   "cell_type": "markdown",
   "metadata": {},
   "source": [
    "## Fast lookups - Index"
   ]
  },
  {
   "cell_type": "markdown",
   "metadata": {},
   "source": [
    "- Use an index where possible\n",
    "- Use `loc`, or even better, `at` if there is a single value to query.\n",
    "- Use the variable to access within `loc`/`at`, we see in the example below it increases performance by ~500x."
   ]
  },
  {
   "cell_type": "code",
   "execution_count": 46,
   "metadata": {},
   "outputs": [
    {
     "name": "stdout",
     "output_type": "stream",
     "text": [
      "1.48 ms ± 22 µs per loop (mean ± std. dev. of 7 runs, 1000 loops each)\n"
     ]
    }
   ],
   "source": [
    "%%timeit\n",
    "listings[listings['id'] == 29856708]['price']"
   ]
  },
  {
   "cell_type": "code",
   "execution_count": 47,
   "metadata": {},
   "outputs": [],
   "source": [
    "listings_ = listings.set_index('id')"
   ]
  },
  {
   "cell_type": "markdown",
   "metadata": {},
   "source": [
    "Below shows why you should incorporate your selection in your `loc`/`at` call."
   ]
  },
  {
   "cell_type": "code",
   "execution_count": 48,
   "metadata": {},
   "outputs": [
    {
     "name": "stdout",
     "output_type": "stream",
     "text": [
      "2.56 ms ± 19.8 µs per loop (mean ± std. dev. of 7 runs, 100 loops each)\n"
     ]
    }
   ],
   "source": [
    "%%timeit\n",
    "listings_.loc[29856708]['price']"
   ]
  },
  {
   "cell_type": "code",
   "execution_count": 49,
   "metadata": {},
   "outputs": [
    {
     "name": "stdout",
     "output_type": "stream",
     "text": [
      "8.26 µs ± 34.2 ns per loop (mean ± std. dev. of 7 runs, 100000 loops each)\n"
     ]
    }
   ],
   "source": [
    "%%timeit\n",
    "listings_.loc[29856708, 'price']"
   ]
  },
  {
   "cell_type": "code",
   "execution_count": 50,
   "metadata": {},
   "outputs": [
    {
     "name": "stdout",
     "output_type": "stream",
     "text": [
      "5.19 µs ± 24.5 ns per loop (mean ± std. dev. of 7 runs, 100000 loops each)\n"
     ]
    }
   ],
   "source": [
    "%%timeit\n",
    "listings_.at[29856708, 'price']"
   ]
  },
  {
   "cell_type": "markdown",
   "metadata": {},
   "source": [
    "## Fast lookups - non-Index"
   ]
  },
  {
   "cell_type": "markdown",
   "metadata": {},
   "source": [
    "This appears to be the fastest method:"
   ]
  },
  {
   "cell_type": "code",
   "execution_count": 72,
   "metadata": {},
   "outputs": [
    {
     "name": "stdout",
     "output_type": "stream",
     "text": [
      "1.4 ms ± 10.5 µs per loop (mean ± std. dev. of 7 runs, 1000 loops each)\n"
     ]
    }
   ],
   "source": [
    "%%timeit\n",
    "listings[listings['host_name'] == 'Ian']"
   ]
  },
  {
   "cell_type": "code",
   "execution_count": 80,
   "metadata": {},
   "outputs": [
    {
     "name": "stdout",
     "output_type": "stream",
     "text": [
      "1.85 ms ± 22.4 µs per loop (mean ± std. dev. of 7 runs, 1000 loops each)\n"
     ]
    }
   ],
   "source": [
    "%%timeit\n",
    "listings[listings['host_name'].isin(['Ian'])]"
   ]
  },
  {
   "cell_type": "code",
   "execution_count": 88,
   "metadata": {},
   "outputs": [
    {
     "name": "stdout",
     "output_type": "stream",
     "text": [
      "1.42 ms ± 22.7 µs per loop (mean ± std. dev. of 7 runs, 1000 loops each)\n"
     ]
    }
   ],
   "source": [
    "%%timeit\n",
    "listings.loc[listings.host_name == 'Ian']"
   ]
  },
  {
   "cell_type": "markdown",
   "metadata": {},
   "source": [
    "## Adding columns"
   ]
  },
  {
   "cell_type": "code",
   "execution_count": 110,
   "metadata": {},
   "outputs": [
    {
     "data": {
      "text/plain": [
       "[Entire home/apt, Private room, Shared room]\n",
       "Categories (3, object): [Entire home/apt, Private room, Shared room]"
      ]
     },
     "execution_count": 110,
     "metadata": {},
     "output_type": "execute_result"
    }
   ],
   "source": [
    "listings['room_type'].unique()"
   ]
  },
  {
   "cell_type": "code",
   "execution_count": 123,
   "metadata": {},
   "outputs": [
    {
     "data": {
      "text/html": [
       "<div>\n",
       "<style scoped>\n",
       "    .dataframe tbody tr th:only-of-type {\n",
       "        vertical-align: middle;\n",
       "    }\n",
       "\n",
       "    .dataframe tbody tr th {\n",
       "        vertical-align: top;\n",
       "    }\n",
       "\n",
       "    .dataframe thead th {\n",
       "        text-align: right;\n",
       "    }\n",
       "</style>\n",
       "<table border=\"1\" class=\"dataframe\">\n",
       "  <thead>\n",
       "    <tr style=\"text-align: right;\">\n",
       "      <th></th>\n",
       "      <th>room_type</th>\n",
       "      <th>value</th>\n",
       "    </tr>\n",
       "  </thead>\n",
       "  <tbody>\n",
       "    <tr>\n",
       "      <th>0</th>\n",
       "      <td>Entire home/apt</td>\n",
       "      <td>0</td>\n",
       "    </tr>\n",
       "    <tr>\n",
       "      <th>1</th>\n",
       "      <td>Private room</td>\n",
       "      <td>1</td>\n",
       "    </tr>\n",
       "    <tr>\n",
       "      <th>2</th>\n",
       "      <td>Shared room</td>\n",
       "      <td>2</td>\n",
       "    </tr>\n",
       "  </tbody>\n",
       "</table>\n",
       "</div>"
      ],
      "text/plain": [
       "         room_type  value\n",
       "0  Entire home/apt      0\n",
       "1     Private room      1\n",
       "2      Shared room      2"
      ]
     },
     "execution_count": 123,
     "metadata": {},
     "output_type": "execute_result"
    }
   ],
   "source": [
    "categories = {'Entire home/apt': 0, 'Private room': 1, 'Shared room': 2}\n",
    "categories_df = pd.DataFrame({'room_type': list(categories.keys()), 'value': list(categories.values())})\n",
    "categories_df"
   ]
  },
  {
   "cell_type": "code",
   "execution_count": 127,
   "metadata": {},
   "outputs": [
    {
     "name": "stdout",
     "output_type": "stream",
     "text": [
      "14.1 ms ± 163 µs per loop (mean ± std. dev. of 7 runs, 100 loops each)\n"
     ]
    }
   ],
   "source": [
    "%%timeit\n",
    "listings.merge(categories_df, on='room_type', copy=False)"
   ]
  },
  {
   "cell_type": "code",
   "execution_count": 128,
   "metadata": {},
   "outputs": [
    {
     "data": {
      "text/html": [
       "<div>\n",
       "<style scoped>\n",
       "    .dataframe tbody tr th:only-of-type {\n",
       "        vertical-align: middle;\n",
       "    }\n",
       "\n",
       "    .dataframe tbody tr th {\n",
       "        vertical-align: top;\n",
       "    }\n",
       "\n",
       "    .dataframe thead th {\n",
       "        text-align: right;\n",
       "    }\n",
       "</style>\n",
       "<table border=\"1\" class=\"dataframe\">\n",
       "  <thead>\n",
       "    <tr style=\"text-align: right;\">\n",
       "      <th></th>\n",
       "      <th>room_type</th>\n",
       "      <th>value</th>\n",
       "    </tr>\n",
       "  </thead>\n",
       "  <tbody>\n",
       "    <tr>\n",
       "      <th>0</th>\n",
       "      <td>Entire home/apt</td>\n",
       "      <td>0</td>\n",
       "    </tr>\n",
       "    <tr>\n",
       "      <th>1</th>\n",
       "      <td>Private room</td>\n",
       "      <td>1</td>\n",
       "    </tr>\n",
       "    <tr>\n",
       "      <th>2</th>\n",
       "      <td>Shared room</td>\n",
       "      <td>2</td>\n",
       "    </tr>\n",
       "  </tbody>\n",
       "</table>\n",
       "</div>"
      ],
      "text/plain": [
       "         room_type  value\n",
       "0  Entire home/apt      0\n",
       "1     Private room      1\n",
       "2      Shared room      2"
      ]
     },
     "execution_count": 128,
     "metadata": {},
     "output_type": "execute_result"
    }
   ],
   "source": [
    "categories_df"
   ]
  },
  {
   "cell_type": "code",
   "execution_count": 118,
   "metadata": {},
   "outputs": [
    {
     "name": "stdout",
     "output_type": "stream",
     "text": [
      "2.48 s ± 4.35 ms per loop (mean ± std. dev. of 7 runs, 1 loop each)\n"
     ]
    }
   ],
   "source": [
    "%%timeit\n",
    "listings['room_type_enum'] = listings.apply(lambda x: categories[x['room_type']], axis=1)"
   ]
  },
  {
   "cell_type": "code",
   "execution_count": 115,
   "metadata": {},
   "outputs": [
    {
     "name": "stdout",
     "output_type": "stream",
     "text": [
      "8.89 ms ± 71.4 µs per loop (mean ± std. dev. of 7 runs, 100 loops each)\n"
     ]
    }
   ],
   "source": [
    "%%timeit\n",
    "listings['room_type_enum'] = listings[['room_type']].applymap(categories.get)"
   ]
  },
  {
   "cell_type": "markdown",
   "metadata": {},
   "source": [
    "## Enhancing performance"
   ]
  },
  {
   "cell_type": "markdown",
   "metadata": {},
   "source": [
    "Examples from: https://pandas.pydata.org/pandas-docs/stable/user_guide/enhancingperf.html"
   ]
  },
  {
   "cell_type": "code",
   "execution_count": 51,
   "metadata": {},
   "outputs": [],
   "source": [
    " df = pd.DataFrame({'a': np.random.randn(1000),\n",
    "                    'b': np.random.randn(1000),\n",
    "                    'N': np.random.randint(100, 1000, (1000)),\n",
    "                    'x': 'x'})"
   ]
  },
  {
   "cell_type": "markdown",
   "metadata": {},
   "source": [
    "### Complex operations"
   ]
  },
  {
   "cell_type": "code",
   "execution_count": 52,
   "metadata": {},
   "outputs": [],
   "source": [
    "def f(x):\n",
    "    return x * (x - 1)\n",
    " \n",
    "def integrate_f(a, b, N):\n",
    "    s = 0\n",
    "    dx = (b - a) / N\n",
    "    for i in range(N):\n",
    "        s += f(a + i * dx)\n",
    "    return s * dx"
   ]
  },
  {
   "cell_type": "markdown",
   "metadata": {},
   "source": [
    "#### Apply"
   ]
  },
  {
   "cell_type": "code",
   "execution_count": 53,
   "metadata": {},
   "outputs": [
    {
     "name": "stdout",
     "output_type": "stream",
     "text": [
      "181 ms ± 1.29 ms per loop (mean ± std. dev. of 7 runs, 10 loops each)\n"
     ]
    }
   ],
   "source": [
    "%timeit df.apply(lambda x: integrate_f(x['a'], x['b'], x['N']), axis=1)"
   ]
  },
  {
   "cell_type": "code",
   "execution_count": 54,
   "metadata": {},
   "outputs": [
    {
     "name": "stdout",
     "output_type": "stream",
     "text": [
      " "
     ]
    },
    {
     "data": {
      "text/plain": [
       "         659000 function calls (653974 primitive calls) in 0.275 seconds\n",
       "\n",
       "   Ordered by: internal time\n",
       "   List reduced from 217 to 4 due to restriction <4>\n",
       "\n",
       "   ncalls  tottime  percall  cumtime  percall filename:lineno(function)\n",
       "     1000    0.142    0.000    0.209    0.000 <ipython-input-52-e95b0e814a6f>:4(integrate_f)\n",
       "   539093    0.067    0.000    0.067    0.000 <ipython-input-52-e95b0e814a6f>:1(f)\n",
       "     3000    0.008    0.000    0.044    0.000 base.py:4702(get_value)\n",
       "     3000    0.005    0.000    0.050    0.000 series.py:1068(__getitem__)"
      ]
     },
     "metadata": {},
     "output_type": "display_data"
    }
   ],
   "source": [
    "%prun -l 4 df.apply(lambda x: integrate_f(x['a'], x['b'], x['N']), axis=1)"
   ]
  },
  {
   "cell_type": "markdown",
   "metadata": {},
   "source": [
    "#### Cython"
   ]
  },
  {
   "cell_type": "code",
   "execution_count": 55,
   "metadata": {},
   "outputs": [],
   "source": [
    "%%cython\n",
    "def f_plain(x):\n",
    "    return x * (x - 1)\n",
    "def integrate_f_plain(a, b, N):\n",
    "    s = 0\n",
    "    dx = (b - a) / N\n",
    "    for i in range(N):\n",
    "        s += f_plain(a + i * dx)\n",
    "    return s * dx"
   ]
  },
  {
   "cell_type": "code",
   "execution_count": 56,
   "metadata": {},
   "outputs": [
    {
     "name": "stdout",
     "output_type": "stream",
     "text": [
      "104 ms ± 583 µs per loop (mean ± std. dev. of 7 runs, 10 loops each)\n"
     ]
    }
   ],
   "source": [
    "%timeit df.apply(lambda x: integrate_f_plain(x['a'], x['b'], x['N']), axis=1)"
   ]
  },
  {
   "cell_type": "markdown",
   "metadata": {},
   "source": [
    "### Cython with type defined"
   ]
  },
  {
   "cell_type": "code",
   "execution_count": 57,
   "metadata": {},
   "outputs": [],
   "source": [
    "%%cython\n",
    "cdef double f_typed(double x) except? -2:\n",
    "    return x * (x - 1)\n",
    "cpdef double integrate_f_typed(double a, double b, int N):\n",
    "    cdef int i\n",
    "    cdef double s, dx\n",
    "    s = 0\n",
    "    dx = (b - a) / N\n",
    "    for i in range(N):\n",
    "        s += f_typed(a + i * dx)\n",
    "    return s * dx\n"
   ]
  },
  {
   "cell_type": "code",
   "execution_count": 58,
   "metadata": {},
   "outputs": [
    {
     "name": "stdout",
     "output_type": "stream",
     "text": [
      "33.6 ms ± 517 µs per loop (mean ± std. dev. of 7 runs, 10 loops each)\n"
     ]
    }
   ],
   "source": [
    "%timeit df.apply(lambda x: integrate_f_typed(x['a'], x['b'], x['N']), axis=1)"
   ]
  },
  {
   "cell_type": "markdown",
   "metadata": {},
   "source": [
    "Currently we are using a `Series` datatype and we can see that calls to `Series` methods are taking a considerable amount of the time."
   ]
  },
  {
   "cell_type": "code",
   "execution_count": 59,
   "metadata": {},
   "outputs": [
    {
     "name": "stdout",
     "output_type": "stream",
     "text": [
      " "
     ]
    },
    {
     "data": {
      "text/plain": [
       "         119907 function calls (114881 primitive calls) in 0.061 seconds\n",
       "\n",
       "   Ordered by: internal time\n",
       "   List reduced from 216 to 4 due to restriction <4>\n",
       "\n",
       "   ncalls  tottime  percall  cumtime  percall filename:lineno(function)\n",
       "     3000    0.008    0.000    0.041    0.000 base.py:4702(get_value)\n",
       "     3000    0.004    0.000    0.046    0.000 series.py:1068(__getitem__)\n",
       "     6001    0.003    0.000    0.010    0.000 {pandas._libs.lib.values_from_object}\n",
       "        1    0.003    0.003    0.060    0.060 {pandas._libs.reduction.reduce}"
      ]
     },
     "metadata": {},
     "output_type": "display_data"
    }
   ],
   "source": [
    "%prun -l 4 df.apply(lambda x: integrate_f_typed(x['a'], x['b'], x['N']), axis=1)"
   ]
  },
  {
   "cell_type": "markdown",
   "metadata": {},
   "source": [
    "### Cython with nd.array"
   ]
  },
  {
   "cell_type": "code",
   "execution_count": 60,
   "metadata": {},
   "outputs": [],
   "source": [
    "%%cython\n",
    "cimport numpy as np\n",
    "import numpy as np\n",
    "cdef double f_typed(double x) except? -2:\n",
    "    return x * (x - 1)\n",
    "cpdef double integrate_f_typed(double a, double b, int N):\n",
    "    cdef int i\n",
    "    cdef double s, dx\n",
    "    s = 0\n",
    "    dx = (b - a) / N\n",
    "    for i in range(N):\n",
    "        s += f_typed(a + i * dx)\n",
    "    return s * dx\n",
    "cpdef np.ndarray[double] apply_integrate_f(np.ndarray col_a, np.ndarray col_b,\n",
    "                                           np.ndarray col_N):\n",
    "    assert (col_a.dtype == np.float\n",
    "            and col_b.dtype == np.float and col_N.dtype == np.int)\n",
    "    cdef Py_ssize_t i, n = len(col_N)\n",
    "    assert (len(col_a) == len(col_b) == n)\n",
    "    cdef np.ndarray[double] res = np.empty(n)\n",
    "    for i in range(len(col_a)):\n",
    "        res[i] = integrate_f_typed(col_a[i], col_b[i], col_N[i])\n",
    "    return res\n"
   ]
  },
  {
   "cell_type": "code",
   "execution_count": 61,
   "metadata": {},
   "outputs": [
    {
     "name": "stdout",
     "output_type": "stream",
     "text": [
      "1.04 ms ± 10.1 µs per loop (mean ± std. dev. of 7 runs, 1000 loops each)\n"
     ]
    }
   ],
   "source": [
    "%timeit apply_integrate_f(df['a'].to_numpy(), df['b'].to_numpy(), df['N'].to_numpy())"
   ]
  },
  {
   "cell_type": "code",
   "execution_count": 62,
   "metadata": {},
   "outputs": [
    {
     "name": "stdout",
     "output_type": "stream",
     "text": [
      " "
     ]
    },
    {
     "data": {
      "text/plain": [
       "         100 function calls in 0.001 seconds\n",
       "\n",
       "   Ordered by: internal time\n",
       "   List reduced from 29 to 4 due to restriction <4>\n",
       "\n",
       "   ncalls  tottime  percall  cumtime  percall filename:lineno(function)\n",
       "        1    0.001    0.001    0.001    0.001 {built-in method _cython_magic_8ee3fb7b2964ecfc84139940c886c1f0.apply_integrate_f}\n",
       "        1    0.000    0.000    0.001    0.001 {built-in method builtins.exec}\n",
       "        3    0.000    0.000    0.000    0.000 frame.py:2964(__getitem__)\n",
       "        1    0.000    0.000    0.001    0.001 <string>:1(<module>)"
      ]
     },
     "metadata": {},
     "output_type": "display_data"
    }
   ],
   "source": [
    "%prun -l 4 apply_integrate_f(df['a'].to_numpy(), df['b'].to_numpy(), df['N'].to_numpy())"
   ]
  },
  {
   "cell_type": "markdown",
   "metadata": {},
   "source": [
    "### Numba"
   ]
  },
  {
   "cell_type": "markdown",
   "metadata": {},
   "source": [
    "Generally easier to implement and normally provides the best performance."
   ]
  },
  {
   "cell_type": "code",
   "execution_count": 63,
   "metadata": {},
   "outputs": [],
   "source": [
    "import numba\n",
    "\n",
    "@numba.njit()\n",
    "def f_plain(x):\n",
    "    return x * (x - 1)\n",
    "\n",
    "@numba.njit()\n",
    "def integrate_f_numba(a, b, N):\n",
    "    s = 0\n",
    "    dx = (b - a) / N\n",
    "    for i in range(N):\n",
    "        s += f_plain(a + i * dx)\n",
    "    return s * dx\n",
    "\n",
    "@numba.njit()\n",
    "def apply_integrate_f_numba(col_a, col_b, col_N):\n",
    "    n = len(col_N)\n",
    "    result = np.empty(n, dtype=np.float64)\n",
    "    assert len(col_a) == len(col_b) == n\n",
    "    for i in range(n):\n",
    "        result[i] = integrate_f_numba(col_a[i], col_b[i], col_N[i])\n",
    "    return result\n",
    "\n",
    "def compute_numba(df):\n",
    "    result = apply_integrate_f_numba(df['a'].to_numpy(),\n",
    "                                     df['b'].to_numpy(),\n",
    "                                     df['N'].to_numpy())\n",
    "    return pd.Series(result, index=df.index, name='result')"
   ]
  },
  {
   "cell_type": "code",
   "execution_count": 64,
   "metadata": {},
   "outputs": [
    {
     "name": "stdout",
     "output_type": "stream",
     "text": [
      "637 µs ± 82.9 µs per loop (mean ± std. dev. of 7 runs, 1 loop each)\n"
     ]
    }
   ],
   "source": [
    "%timeit compute_numba(df)"
   ]
  },
  {
   "cell_type": "markdown",
   "metadata": {},
   "source": [
    "### Numba with Vectorize\n",
    "Numba supports `vectorize` which takes out the effort and writing loops and makes the code clearer to read. By default this executes code in `nopython` mode, so provides optimal performance. If using a smaller dataformat it might be beneficial to provide the signature for the call e.g. if the floats are 32-bit we can use:\n",
    "\n",
    "```python\n",
    "@numba.vectorize(['float32(float32, float32, int32)', 'float64(float64, float64, int32)'])\n",
    "```\n",
    "\n",
    "Here we have provided a fallback to a 64-bit implementation."
   ]
  },
  {
   "cell_type": "code",
   "execution_count": 65,
   "metadata": {},
   "outputs": [],
   "source": [
    "@numba.vectorize(['float64(float64, float64, int32)'])\n",
    "def apply_integrate_f_numba_vectorize(col_a, col_b, col_N):\n",
    "    return integrate_f_numba(col_a, col_b, col_N)\n",
    "\n",
    "def compute_numba_vectorize(df):\n",
    "    result = apply_integrate_f_numba_vectorize(df['a'].to_numpy(),\n",
    "                                     df['b'].to_numpy(),\n",
    "                                     df['N'].to_numpy())\n",
    "    return pd.Series(result, index=df.index, name='result')"
   ]
  },
  {
   "cell_type": "code",
   "execution_count": 66,
   "metadata": {},
   "outputs": [
    {
     "name": "stdout",
     "output_type": "stream",
     "text": [
      "592 µs ± 5.42 µs per loop (mean ± std. dev. of 7 runs, 1000 loops each)\n"
     ]
    }
   ],
   "source": [
    "%timeit compute_numba_vectorize(df)"
   ]
  },
  {
   "cell_type": "code",
   "execution_count": 67,
   "metadata": {},
   "outputs": [
    {
     "name": "stdout",
     "output_type": "stream",
     "text": [
      "apply_integrate_f_numba (array(float64, 1d, C), array(float64, 1d, C), array(int32, 1d, C))\n",
      "--------------------------------------------------------------------------------\n",
      "# File: <ipython-input-63-f6cd71261512>\n",
      "# --- LINE 15 --- \n",
      "\n",
      "@numba.njit()\n",
      "\n",
      "# --- LINE 16 --- \n",
      "\n",
      "def apply_integrate_f_numba(col_a, col_b, col_N):\n",
      "\n",
      "    # --- LINE 17 --- \n",
      "    # label 0\n",
      "    #   col_a = arg(0, name=col_a)  :: array(float64, 1d, C)\n",
      "    #   col_b = arg(1, name=col_b)  :: array(float64, 1d, C)\n",
      "    #   col_N = arg(2, name=col_N)  :: array(int32, 1d, C)\n",
      "    #   $0.1 = global(len: <built-in function len>)  :: Function(<built-in function len>)\n",
      "    #   $0.3 = call $0.1(col_N, func=$0.1, args=[Var(col_N, <ipython-input-63-f6cd71261512>:17)], kws=(), vararg=None)  :: (array(int32, 1d, C),) -> int64\n",
      "    #   del $0.1\n",
      "    #   n = $0.3  :: int64\n",
      "    #   del $0.3\n",
      "\n",
      "    n = len(col_N)\n",
      "\n",
      "    # --- LINE 18 --- \n",
      "    #   $0.4 = global(np: <module 'numpy' from 'C:\\\\Users\\\\Mark\\\\.conda\\\\envs\\\\CatAna\\\\lib\\\\site-packages\\\\numpy\\\\__init__.py'>)  :: Module(<module 'numpy' from 'C:\\\\Users\\\\Mark\\\\.conda\\\\envs\\\\CatAna\\\\lib\\\\site-packages\\\\numpy\\\\__init__.py'>)\n",
      "    #   $0.5 = getattr(value=$0.4, attr=empty)  :: Function(<built-in function empty>)\n",
      "    #   del $0.4\n",
      "    #   $0.7 = global(np: <module 'numpy' from 'C:\\\\Users\\\\Mark\\\\.conda\\\\envs\\\\CatAna\\\\lib\\\\site-packages\\\\numpy\\\\__init__.py'>)  :: Module(<module 'numpy' from 'C:\\\\Users\\\\Mark\\\\.conda\\\\envs\\\\CatAna\\\\lib\\\\site-packages\\\\numpy\\\\__init__.py'>)\n",
      "    #   $0.8 = getattr(value=$0.7, attr=float64)  :: class(float64)\n",
      "    #   del $0.7\n",
      "    #   $0.10 = call $0.5(n, func=$0.5, args=[Var(n, <ipython-input-63-f6cd71261512>:17)], kws=[('dtype', Var($0.8, <ipython-input-63-f6cd71261512>:18))], vararg=None)  :: (int64, class(float64)) -> array(float64, 1d, C)\n",
      "    #   del $0.8\n",
      "    #   del $0.5\n",
      "    #   result = $0.10  :: array(float64, 1d, C)\n",
      "    #   del $0.10\n",
      "\n",
      "    result = np.empty(n, dtype=np.float64)\n",
      "\n",
      "    # --- LINE 19 --- \n",
      "    #   $0.11 = global(len: <built-in function len>)  :: Function(<built-in function len>)\n",
      "    #   $0.13 = call $0.11(col_a, func=$0.11, args=[Var(col_a, <ipython-input-63-f6cd71261512>:17)], kws=(), vararg=None)  :: (array(float64, 1d, C),) -> int64\n",
      "    #   del $0.11\n",
      "    #   $0.14 = global(len: <built-in function len>)  :: Function(<built-in function len>)\n",
      "    #   $0.16 = call $0.14(col_b, func=$0.14, args=[Var(col_b, <ipython-input-63-f6cd71261512>:17)], kws=(), vararg=None)  :: (array(float64, 1d, C),) -> int64\n",
      "    #   del $0.14\n",
      "    #   $0.18 = $0.13 == $0.16  :: bool\n",
      "    #   del $0.13\n",
      "    #   bool44 = global(bool: <class 'bool'>)  :: Function(<class 'bool'>)\n",
      "    #   $44pred = call bool44($0.18, func=bool44, args=(Var($0.18, <ipython-input-63-f6cd71261512>:19),), kws=(), vararg=None)  :: (bool,) -> bool\n",
      "    #   del bool44\n",
      "    #   $phi46.2 = $0.16  :: int64\n",
      "    #   $phi52.1 = $0.18  :: bool\n",
      "    #   del $0.18\n",
      "    #   $phi52.2 = $0.16  :: int64\n",
      "    #   del $phi52.2\n",
      "    #   del $0.16\n",
      "    #   branch $44pred, 46, 52\n",
      "    # label 46\n",
      "    #   del $phi52.1\n",
      "    #   del $44pred\n",
      "    #   $46.3 = $phi46.2 == n  :: bool\n",
      "    #   del $phi46.2\n",
      "    #   $phi56.1 = $46.3  :: bool\n",
      "    #   del $46.3\n",
      "    #   jump 56\n",
      "    # label 52\n",
      "    #   del $phi46.2\n",
      "    #   del $44pred\n",
      "    #   $phi56.1.1 = $phi52.1  :: bool\n",
      "    #   del $phi52.1\n",
      "    #   jump 56\n",
      "    # label 56\n",
      "    #   $phi56.1.2 = phi(incoming_values=[Var($phi56.1.1, <ipython-input-63-f6cd71261512>:19), Var($phi56.1, <ipython-input-63-f6cd71261512>:19)], incoming_blocks=[52, 46])  :: bool\n",
      "    #   del $phi56.1.1\n",
      "    #   del $phi56.1\n",
      "    #   bool56 = global(bool: <class 'bool'>)  :: Function(<class 'bool'>)\n",
      "    #   $56pred = call bool56($phi56.1.2, func=bool56, args=(Var($phi56.1.2, <ipython-input-63-f6cd71261512>:19),), kws=(), vararg=None)  :: (bool,) -> bool\n",
      "    #   del bool56\n",
      "    #   del $phi56.1.2\n",
      "    #   branch $56pred, 62, 58\n",
      "    # label 58\n",
      "    #   del result\n",
      "    #   del n\n",
      "    #   del col_b\n",
      "    #   del col_a\n",
      "    #   del col_N\n",
      "    #   del $56pred\n",
      "    #   $58.1 = global(AssertionError: <class 'AssertionError'>)  :: AssertionError\n",
      "    #   del $58.1\n",
      "    #   <static> raise <class 'AssertionError'>\n",
      "\n",
      "    assert len(col_a) == len(col_b) == n\n",
      "\n",
      "    # --- LINE 20 --- \n",
      "    # label 62\n",
      "    #   del $56pred\n",
      "    #   jump 64\n",
      "    # label 64\n",
      "    #   $64.1 = global(range: <class 'range'>)  :: Function(<class 'range'>)\n",
      "    #   $64.3 = call $64.1(n, func=$64.1, args=[Var(n, <ipython-input-63-f6cd71261512>:17)], kws=(), vararg=None)  :: (int64,) -> range_state_int64\n",
      "    #   del n\n",
      "    #   del $64.1\n",
      "    #   $64.4 = getiter(value=$64.3)  :: range_iter_int64\n",
      "    #   del $64.3\n",
      "    #   $phi72.1 = $64.4  :: range_iter_int64\n",
      "    #   del $64.4\n",
      "    #   jump 72\n",
      "    # label 72\n",
      "    #   $72.2 = iternext(value=$phi72.1)  :: pair<int64, bool>\n",
      "    #   $72.3 = pair_first(value=$72.2)  :: int64\n",
      "    #   $72.4 = pair_second(value=$72.2)  :: bool\n",
      "    #   del $72.2\n",
      "    #   $phi74.1 = $72.3  :: int64\n",
      "    #   $phi106.1 = $72.3  :: int64\n",
      "    #   del $phi106.1\n",
      "    #   del $72.3\n",
      "    #   $phi106.2 = $phi72.1  :: range_iter_int64\n",
      "    #   del $phi106.2\n",
      "    #   branch $72.4, 74, 106\n",
      "    # label 74\n",
      "    #   del $72.4\n",
      "    #   i = $phi74.1  :: int64\n",
      "    #   del $phi74.1\n",
      "\n",
      "    for i in range(n):\n",
      "\n",
      "        # --- LINE 21 --- \n",
      "        #   $74.2 = global(integrate_f_numba: CPUDispatcher(<function integrate_f_numba at 0x000002325C802F28>))  :: type(CPUDispatcher(<function integrate_f_numba at 0x000002325C802F28>))\n",
      "        #   $74.5 = getitem(value=col_a, index=i)  :: float64\n",
      "        #   $74.8 = getitem(value=col_b, index=i)  :: float64\n",
      "        #   $74.11 = getitem(value=col_N, index=i)  :: int32\n",
      "        #   $74.12 = call $74.2($74.5, $74.8, $74.11, func=$74.2, args=[Var($74.5, <ipython-input-63-f6cd71261512>:21), Var($74.8, <ipython-input-63-f6cd71261512>:21), Var($74.11, <ipython-input-63-f6cd71261512>:21)], kws=(), vararg=None)  :: (float64, float64, int32) -> float64\n",
      "        #   del $74.8\n",
      "        #   del $74.5\n",
      "        #   del $74.2\n",
      "        #   del $74.11\n",
      "        #   result[i] = $74.12  :: (array(float64, 1d, C), int64, float64) -> none\n",
      "        #   del i\n",
      "        #   del $74.12\n",
      "        #   jump 72\n",
      "        # label 106\n",
      "\n",
      "        result[i] = integrate_f_numba(col_a[i], col_b[i], col_N[i])\n",
      "\n",
      "    # --- LINE 22 --- \n",
      "    #   del col_b\n",
      "    #   del col_a\n",
      "    #   del col_N\n",
      "    #   del $phi74.1\n",
      "    #   del $phi72.1\n",
      "    #   del $72.4\n",
      "    #   jump 108\n",
      "    # label 108\n",
      "    #   $108.2 = cast(value=result)  :: array(float64, 1d, C)\n",
      "    #   del result\n",
      "    #   return $108.2\n",
      "\n",
      "    return result\n",
      "\n",
      "\n",
      "================================================================================\n"
     ]
    }
   ],
   "source": [
    "apply_integrate_f_numba.inspect_types()"
   ]
  },
  {
   "cell_type": "code",
   "execution_count": 68,
   "metadata": {},
   "outputs": [
    {
     "name": "stdout",
     "output_type": "stream",
     "text": [
      "<class 'pandas.core.frame.DataFrame'>\n",
      "RangeIndex: 1000 entries, 0 to 999\n",
      "Data columns (total 4 columns):\n",
      "a    1000 non-null float64\n",
      "b    1000 non-null float64\n",
      "N    1000 non-null int32\n",
      "x    1000 non-null object\n",
      "dtypes: float64(2), int32(1), object(1)\n",
      "memory usage: 27.5+ KB\n"
     ]
    }
   ],
   "source": [
    "df.info()"
   ]
  },
  {
   "cell_type": "code",
   "execution_count": 69,
   "metadata": {},
   "outputs": [
    {
     "ename": "SyntaxError",
     "evalue": "invalid syntax (<ipython-input-69-a5341f45359f>, line 1)",
     "output_type": "error",
     "traceback": [
      "\u001b[1;36m  File \u001b[1;32m\"<ipython-input-69-a5341f45359f>\"\u001b[1;36m, line \u001b[1;32m1\u001b[0m\n\u001b[1;33m    200 row df, index = deal (str), 5 columns with ratings\u001b[0m\n\u001b[1;37m          ^\u001b[0m\n\u001b[1;31mSyntaxError\u001b[0m\u001b[1;31m:\u001b[0m invalid syntax\n"
     ]
    }
   ],
   "source": [
    "200 row df, index = deal (str), 5 columns with ratings\n",
    "\n",
    "Need to select deal and rating to get dictionary"
   ]
  }
 ],
 "metadata": {
  "kernelspec": {
   "display_name": "Python 3",
   "language": "python",
   "name": "python3"
  },
  "language_info": {
   "codemirror_mode": {
    "name": "ipython",
    "version": 3
   },
   "file_extension": ".py",
   "mimetype": "text/x-python",
   "name": "python",
   "nbconvert_exporter": "python",
   "pygments_lexer": "ipython3",
   "version": "3.6.7"
  }
 },
 "nbformat": 4,
 "nbformat_minor": 4
}
