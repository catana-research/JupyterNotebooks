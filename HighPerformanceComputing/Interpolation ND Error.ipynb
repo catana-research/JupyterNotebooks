{
 "cells": [
  {
   "cell_type": "markdown",
   "metadata": {},
   "source": [
    "<div style=\"float:left;font-size:20px;\">\n",
    "    <h1>Interpolation ND Error</h1>\n",
    "</div><div style=\"float:right;\"><img src=\"../assets/banner.jpg\"></div>"
   ]
  },
  {
   "cell_type": "markdown",
   "metadata": {},
   "source": [
    "Source: https://nbviewer.jupyter.org/github/pierre-haessig/stodynprog/blob/master/stodynprog/linear_interp_benchmark.ipynb"
   ]
  },
  {
   "cell_type": "code",
   "execution_count": 1,
   "metadata": {},
   "outputs": [],
   "source": [
    "import numpy as np\n",
    "from numpy import pi\n",
    "import matplotlib.pyplot as plt\n",
    "import matplotlib as mpl\n",
    "%matplotlib inline"
   ]
  },
  {
   "cell_type": "code",
   "execution_count": 2,
   "metadata": {},
   "outputs": [],
   "source": [
    "# Tweak how images are plotted with imshow\n",
    "mpl.rcParams['image.interpolation'] = 'none' # no interpolation\n",
    "mpl.rcParams['image.origin'] = 'lower' # origin at lower left corner\n",
    "mpl.rcParams['image.cmap'] = 'RdBu_r'"
   ]
  },
  {
   "cell_type": "code",
   "execution_count": 3,
   "metadata": {},
   "outputs": [],
   "source": [
    "from scipy.interpolate import (\n",
    "    LinearNDInterpolator, RectBivariateSpline,\n",
    "    RegularGridInterpolator)"
   ]
  },
  {
   "cell_type": "code",
   "execution_count": 4,
   "metadata": {},
   "outputs": [],
   "source": [
    "def gridpoints(n, a=-1, b=1):\n",
    "    \"\"\"Returns Chebyshev nodes of specified dimensions.\n",
    "    \n",
    "    int n: Number of Chebyshev nodes\n",
    "    float a: Interval minimum\n",
    "    float b: Interval maximum\n",
    "    \n",
    "    Further reading: https://en.wikipedia.org/wiki/Chebyshev_nodes\n",
    "    \"\"\"\n",
    "    x_i = 0.5*(b + a) + 0.5*(b - a) * np.cos( np.pi * (np.arange(1, n + 1) - 0.5)/n)\n",
    "    return np.array(sorted(x_i)  )"
   ]
  },
  {
   "cell_type": "code",
   "execution_count": 5,
   "metadata": {},
   "outputs": [
    {
     "data": {
      "text/plain": [
       "1.0"
      ]
     },
     "execution_count": 5,
     "metadata": {},
     "output_type": "execute_result"
    }
   ],
   "source": [
    "def f_3d(x,y,z):\n",
    "    '''a function with 3D input to interpolate on [0,1]'''\n",
    "    twopi = 2*pi\n",
    "    return np.sin(x*2*pi)*np.sin(y*2*pi)*np.sin(z*2*pi)\n",
    "\n",
    "# quick check :\n",
    "f_3d(0.25,0.25,0.25)"
   ]
  },
  {
   "cell_type": "code",
   "execution_count": 37,
   "metadata": {},
   "outputs": [
    {
     "name": "stdout",
     "output_type": "stream",
     "text": [
      "Grid range:\n",
      "X = (0.06698729810778065, 0.9330127018922194)\n",
      "Y = (0.03806023374435663, 0.9619397662556434)\n",
      "Z = (0.024471741852423234, 0.9755282581475768\n"
     ]
    }
   ],
   "source": [
    "# Generate train set\n",
    "Ndata = 3\n",
    "xgrid = np.linspace(0,1, Ndata)\n",
    "ygrid = np.linspace(0,1, Ndata+1) # use a slighly different size to check differences\n",
    "zgrid = np.linspace(0,1, Ndata+2)\n",
    "\n",
    "\n",
    "xgrid = gridpoints(Ndata, 0, 1)\n",
    "ygrid = gridpoints(Ndata+1, 0, 1)\n",
    "zgrid = gridpoints(Ndata+2, 0, 1)\n",
    "\n",
    "\n",
    "# Reshape arguments specify dimensions in x, y, z. -1 infers length from array.\n",
    "# (-1, 1, 1) -> Shape (len(arr), 1, 1)\n",
    "values = f_3d(xgrid.reshape(-1,1,1), ygrid.reshape(1,-1,1), zgrid)\n",
    "\n",
    "# Train interpolation\n",
    "f_3d_interp = RegularGridInterpolator((xgrid, ygrid, zgrid), values)\n",
    "print(f'Grid range:\\nX = ({min(xgrid)}, {max(xgrid)})\\nY = ({min(ygrid)}, {max(ygrid)})\\nZ = ({min(zgrid)}, {max(zgrid)}')"
   ]
  },
  {
   "cell_type": "code",
   "execution_count": null,
   "metadata": {},
   "outputs": [],
   "source": [
    "# Evaluate performance\n",
    "n_points = np.arange(3, 100) # Range of points to evaluate accuracy over\n",
    "\n",
    "# Evaluation points\n",
    "Ninterp = 101\n",
    "xinterp = np.linspace(0.11,0.89, Ninterp)\n",
    "yinterp = np.linspace(0.11,0.89, Ninterp) # use a slighly different size to check differences\n",
    "zinterp = np.linspace(0.11,0.89, Ninterp) # small dimension to avoid size explosion\n",
    "\n",
    "points_x, points_y, points_z = np.broadcast_arrays(xinterp.reshape(-1,1,1), yinterp.reshape(1,-1,1), zinterp)\n",
    "coord = np.vstack((points_x.flatten(), # a weird formula !\n",
    "                   points_y.flatten(),\n",
    "                   points_z.flatten()\n",
    "                   ))\n",
    "\n",
    "errors_lin, errors_cubic, errors_bary = [], [], []\n",
    "errors_lin_cheby, errors_cubic_cheby, errors_bary_cheby = [], [], []\n",
    "for n in n_points:\n",
    "\n",
    "    xgrid = np.linspace(0.1, 0.9, n)\n",
    "    ygrid = np.linspace(0.1, 0.9, n)\n",
    "    zgrid = np.linspace(0.1, 0.9, n)\n",
    "    values = f_3d(xgrid.reshape(-1,1,1), ygrid.reshape(1,-1,1), zgrid)\n",
    "\n",
    "    xgrid_cheby = gridpoints(n, 0, 1)\n",
    "    ygrid_cheby = gridpoints(n, 0, 1)\n",
    "    zgrid_cheby = gridpoints(n, 0, 1)\n",
    "    values_cheby = f_3d(xgrid_cheby.reshape(-1,1,1), ygrid_cheby.reshape(1,-1,1), zgrid_cheby)\n",
    "\n",
    "    # Train interpolation\n",
    "    f_3d_interp = RegularGridInterpolator((xgrid, ygrid, zgrid), values)\n",
    "    f_3d_interp_cheby = RegularGridInterpolator((xgrid_cheby, ygrid_cheby, zgrid_cheby), values_cheby)\n",
    "    \n",
    "    value_interp = f_3d_interp(coord.T).reshape(len(xinterp), len(yinterp), len(zinterp))\n",
    "    value_interp_cheby = f_3d_interp_cheby(coord.T).reshape(len(xinterp), len(yinterp), len(zinterp))\n",
    "    \n",
    "    value_true = f_3d(xinterp.reshape(-1,1,1), yinterp.reshape(1,-1,1), zinterp)\n",
    "    value_error = np.abs(value_interp - value_true)\n",
    "    value_error_cheby = np.abs(value_interp_cheby - value_true)\n",
    "    errors_bary.append(np.max(np.abs(value_error)))\n",
    "    errors_bary_cheby.append(np.max(np.abs(value_error_cheby)))"
   ]
  },
  {
   "cell_type": "code",
   "execution_count": null,
   "metadata": {},
   "outputs": [],
   "source": [
    "#plt.plot(n_points, errors_lin_cheby, color='r', alpha=0.4, label='Linear Cheb')\n",
    "#plt.plot(n_points, errors_cubic_cheby, color='b', alpha=0.4, label='Cubic Cheb')\n",
    "plt.plot(n_points, errors_bary_cheby, color='g', alpha=0.4, label='Barycentric Cheb')\n",
    "#plt.plot(n_points, errors_lin, color='r', alpha=0.8, label='Linear', ls='--')\n",
    "#plt.plot(n_points, errors_cubic, color='b', alpha=0.8, label='Cubic', ls='--')\n",
    "plt.plot(n_points, errors_bary, color='g', alpha=0.8, label='Barycentric', ls='--')\n",
    "#plt.plot(n_points, error_theory, color='y', alpha=0.8, label='Theory', ls='--')\n",
    "plt.xlabel('N points')\n",
    "plt.ylabel('Absolute error')\n",
    "plt.yscale('log')\n",
    "plt.legend();"
   ]
  },
  {
   "cell_type": "markdown",
   "metadata": {},
   "source": [
    "## RegularGridInterpolator (scipy.interpolate)"
   ]
  },
  {
   "cell_type": "markdown",
   "metadata": {},
   "source": [
    "Appears to be the best of these options"
   ]
  },
  {
   "cell_type": "code",
   "execution_count": 14,
   "metadata": {},
   "outputs": [],
   "source": []
  },
  {
   "cell_type": "code",
   "execution_count": 15,
   "metadata": {},
   "outputs": [
    {
     "data": {
      "text/plain": [
       "(3, 5005000)"
      ]
     },
     "execution_count": 15,
     "metadata": {},
     "output_type": "execute_result"
    }
   ],
   "source": [
    "# Prepare the coordinates to evaluate the array on :\n",
    "points_x, points_y, points_z = np.broadcast_arrays(xinterp.reshape(-1,1,1), yinterp.reshape(1,-1,1), zinterp)\n",
    "coord = np.vstack((points_x.flatten(), # a weird formula !\n",
    "                   points_y.flatten(),\n",
    "                   points_z.flatten()\n",
    "                   ))\n",
    "coord.shape"
   ]
  },
  {
   "cell_type": "code",
   "execution_count": 16,
   "metadata": {},
   "outputs": [
    {
     "name": "stdout",
     "output_type": "stream",
     "text": [
      "2.87 s ± 21.6 ms per loop (mean ± std. dev. of 7 runs, 1 loop each)\n"
     ]
    }
   ],
   "source": [
    "%%timeit # Interpolate\n",
    "f_3d_interp_res = f_3d_interp(coord.T).reshape(len(xinterp), len(yinterp), len(zinterp))"
   ]
  },
  {
   "cell_type": "markdown",
   "metadata": {},
   "source": [
    "## Analysis"
   ]
  },
  {
   "cell_type": "markdown",
   "metadata": {},
   "source": [
    "[documentation](http://scipy.github.io/devdocs/generated/scipy.interpolate.RegularGridInterpolator.html)\n",
    "\n",
    "actual interpolation code: https://github.com/scipy/scipy/blob/master/scipy/interpolate/interpolate.py#L1577 (pure Python, no Cython involved!)\n",
    "\n",
    "API:\n",
    "\n",
    "```RegularGridInterpolator(points, values, [...])```\n",
    "\n",
    "- `points`: tuple of ndarray of float, with shapes _(m1, ), ..., (mn, )_.\n",
    "→ The points defining the regular grid in n dimensions.\n",
    "- `value`: array_like, shape _(m1, ..., mn, ...)_.\n",
    "→ The data on the regular grid in n dimensions.\n",
    "\n",
    "**Performance**\n",
    "- 0.022 ms for instanciation, 116 ms for evaluation (1Mpts)\n",
    "- in 1.8 s in 3D (5 Mpts)"
   ]
  }
 ],
 "metadata": {
  "kernelspec": {
   "display_name": "Python 3",
   "language": "python",
   "name": "python3"
  },
  "language_info": {
   "codemirror_mode": {
    "name": "ipython",
    "version": 3
   },
   "file_extension": ".py",
   "mimetype": "text/x-python",
   "name": "python",
   "nbconvert_exporter": "python",
   "pygments_lexer": "ipython3",
   "version": "3.6.7"
  }
 },
 "nbformat": 4,
 "nbformat_minor": 4
}
