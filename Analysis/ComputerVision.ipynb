{
 "cells": [
  {
   "cell_type": "markdown",
   "metadata": {},
   "source": [
    "<div style=\"float:left;font-size:20px;\">\n",
    "    <h1>Computer vision</h1>\n",
    "</div><div style=\"float:right;\"><img src=\"../assets/banner.jpg\"></div>"
   ]
  },
  {
   "cell_type": "markdown",
   "metadata": {},
   "source": [
    "https://nbviewer.jupyter.org/github/PacktPublishing/Hands-On-Computer-Vision-with-TensorFlow-2/tree/master/"
   ]
  },
  {
   "cell_type": "markdown",
   "metadata": {},
   "source": [
    "## MNIST classification"
   ]
  },
  {
   "cell_type": "code",
   "execution_count": 1,
   "metadata": {},
   "outputs": [
    {
     "name": "stderr",
     "output_type": "stream",
     "text": [
      "C:\\Users\\Mark\\.conda\\envs\\CatAna\\lib\\site-packages\\h5py\\__init__.py:36: FutureWarning: Conversion of the second argument of issubdtype from `float` to `np.floating` is deprecated. In future, it will be treated as `np.float64 == np.dtype(float).type`.\n",
      "  from ._conv import register_converters as _register_converters\n"
     ]
    }
   ],
   "source": [
    "import tensorflow as tf\n",
    "num_classes = 10\n",
    "img_rows, img_cols = 28, 28\n",
    "num_channels = 1\n",
    "input_shape = (img_rows, img_cols, num_channels)\n",
    "(x_train, y_train),(x_test, y_test) = tf.keras.datasets.mnist.load_data()\n",
    "x_train, x_test = x_train / 255.0, x_test / 255.0\n",
    "\n",
    "model = tf.keras.models.Sequential()\n",
    "model.add(tf.keras.layers.Flatten())\n",
    "model.add(tf.keras.layers.Dense(128, activation='relu'))\n",
    "model.add(tf.keras.layers.Dense(num_classes, activation='softmax'))"
   ]
  },
  {
   "cell_type": "code",
   "execution_count": 15,
   "metadata": {},
   "outputs": [],
   "source": [
    "# cd /d R:\\Projects\\JupyterNotebooks\\Analysis\\Graph\n",
    "# tensorboard --logdir=R:\\Projects\\JupyterNotebooks\\Analysis\\Graph\\"
   ]
  },
  {
   "cell_type": "code",
   "execution_count": 2,
   "metadata": {},
   "outputs": [
    {
     "name": "stdout",
     "output_type": "stream",
     "text": [
      "WARNING:tensorflow:From C:\\Users\\Mark\\.conda\\envs\\CatAna\\lib\\site-packages\\tensorflow_core\\python\\ops\\resource_variable_ops.py:1630: calling BaseResourceVariable.__init__ (from tensorflow.python.ops.resource_variable_ops) with constraint is deprecated and will be removed in a future version.\n",
      "Instructions for updating:\n",
      "If using Keras pass *_constraint arguments to layers.\n",
      "Train on 60000 samples, validate on 10000 samples\n",
      "Epoch 1/25\n",
      "60000/60000 [==============================] - 5s 75us/sample - loss: 0.6517 - acc: 0.8371 - val_loss: 0.3587 - val_acc: 0.9054\n",
      "Epoch 2/25\n",
      "60000/60000 [==============================] - 4s 67us/sample - loss: 0.3379 - acc: 0.9057 - val_loss: 0.2934 - val_acc: 0.9189\n",
      "Epoch 3/25\n",
      "60000/60000 [==============================] - 4s 68us/sample - loss: 0.2892 - acc: 0.9192 - val_loss: 0.2609 - val_acc: 0.9282\n",
      "Epoch 4/25\n",
      "60000/60000 [==============================] - 4s 74us/sample - loss: 0.2583 - acc: 0.9276 - val_loss: 0.2389 - val_acc: 0.9317\n",
      "Epoch 5/25\n",
      "60000/60000 [==============================] - 4s 70us/sample - loss: 0.2351 - acc: 0.9342 - val_loss: 0.2194 - val_acc: 0.9379\n",
      "Epoch 6/25\n",
      "60000/60000 [==============================] - 4s 67us/sample - loss: 0.2165 - acc: 0.9395 - val_loss: 0.2056 - val_acc: 0.9418\n",
      "Epoch 7/25\n",
      "60000/60000 [==============================] - 4s 63us/sample - loss: 0.2008 - acc: 0.9439 - val_loss: 0.1907 - val_acc: 0.9452\n",
      "Epoch 8/25\n",
      "60000/60000 [==============================] - 4s 66us/sample - loss: 0.1873 - acc: 0.9474 - val_loss: 0.1806 - val_acc: 0.9486\n",
      "Epoch 9/25\n",
      "60000/60000 [==============================] - 4s 66us/sample - loss: 0.1756 - acc: 0.9510 - val_loss: 0.1703 - val_acc: 0.9511\n",
      "Epoch 10/25\n",
      "60000/60000 [==============================] - 4s 70us/sample - loss: 0.1652 - acc: 0.9534 - val_loss: 0.1613 - val_acc: 0.9536\n",
      "Epoch 11/25\n",
      "60000/60000 [==============================] - 4s 67us/sample - loss: 0.1562 - acc: 0.9561 - val_loss: 0.1539 - val_acc: 0.9561\n",
      "Epoch 12/25\n",
      "60000/60000 [==============================] - 4s 73us/sample - loss: 0.1481 - acc: 0.9588 - val_loss: 0.1461 - val_acc: 0.9589\n",
      "Epoch 13/25\n",
      "60000/60000 [==============================] - 5s 83us/sample - loss: 0.1407 - acc: 0.9610 - val_loss: 0.1415 - val_acc: 0.9599\n",
      "Epoch 14/25\n",
      "60000/60000 [==============================] - 5s 84us/sample - loss: 0.1342 - acc: 0.9632 - val_loss: 0.1344 - val_acc: 0.9614\n",
      "Epoch 15/25\n",
      "60000/60000 [==============================] - 5s 76us/sample - loss: 0.1280 - acc: 0.9647 - val_loss: 0.1307 - val_acc: 0.9621\n",
      "Epoch 16/25\n",
      "60000/60000 [==============================] - 4s 72us/sample - loss: 0.1228 - acc: 0.9666 - val_loss: 0.1262 - val_acc: 0.9636\n",
      "Epoch 17/25\n",
      "60000/60000 [==============================] - 4s 70us/sample - loss: 0.1176 - acc: 0.9679 - val_loss: 0.1217 - val_acc: 0.9657\n",
      "Epoch 18/25\n",
      "60000/60000 [==============================] - 4s 66us/sample - loss: 0.1131 - acc: 0.9695 - val_loss: 0.1192 - val_acc: 0.9660\n",
      "Epoch 19/25\n",
      "60000/60000 [==============================] - 4s 74us/sample - loss: 0.1089 - acc: 0.9706 - val_loss: 0.1143 - val_acc: 0.9661\n",
      "Epoch 20/25\n",
      "60000/60000 [==============================] - 4s 69us/sample - loss: 0.1049 - acc: 0.9720 - val_loss: 0.1124 - val_acc: 0.9675\n",
      "Epoch 21/25\n",
      "60000/60000 [==============================] - 4s 69us/sample - loss: 0.1012 - acc: 0.9725 - val_loss: 0.1093 - val_acc: 0.9678\n",
      "Epoch 22/25\n",
      "60000/60000 [==============================] - 4s 65us/sample - loss: 0.0975 - acc: 0.9738 - val_loss: 0.1070 - val_acc: 0.9697\n",
      "Epoch 23/25\n",
      "60000/60000 [==============================] - 4s 68us/sample - loss: 0.0942 - acc: 0.9746 - val_loss: 0.1046 - val_acc: 0.9693\n",
      "Epoch 24/25\n",
      "60000/60000 [==============================] - 4s 69us/sample - loss: 0.0913 - acc: 0.9754 - val_loss: 0.1016 - val_acc: 0.9704\n",
      "Epoch 25/25\n",
      "60000/60000 [==============================] - 4s 67us/sample - loss: 0.0884 - acc: 0.9760 - val_loss: 0.1007 - val_acc: 0.9707\n"
     ]
    },
    {
     "data": {
      "text/plain": [
       "<tensorflow.python.keras.callbacks.History at 0x25defbb1eb8>"
      ]
     },
     "execution_count": 2,
     "metadata": {},
     "output_type": "execute_result"
    }
   ],
   "source": [
    "model.compile(optimizer='sgd',\n",
    "              loss='sparse_categorical_crossentropy',\n",
    "              metrics=['accuracy'])\n",
    "callbacks = [] #[tf.keras.callbacks.TensorBoard('./keras')]\n",
    "model.fit(x_train, y_train, epochs=25, verbose=1, validation_data=(x_test, y_test), callbacks=callbacks)"
   ]
  }
 ],
 "metadata": {
  "kernelspec": {
   "display_name": "Python 3",
   "language": "python",
   "name": "python3"
  },
  "language_info": {
   "codemirror_mode": {
    "name": "ipython",
    "version": 3
   },
   "file_extension": ".py",
   "mimetype": "text/x-python",
   "name": "python",
   "nbconvert_exporter": "python",
   "pygments_lexer": "ipython3",
   "version": "3.6.7"
  }
 },
 "nbformat": 4,
 "nbformat_minor": 4
}
