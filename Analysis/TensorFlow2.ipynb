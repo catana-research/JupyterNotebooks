{
 "cells": [
  {
   "cell_type": "markdown",
   "metadata": {},
   "source": [
    "<div style=\"float:left;font-size:20px;\">\n",
    "    <h1>TensorFlow 2</h1>\n",
    "</div><div style=\"float:right;\"><img src=\"../assets/banner.jpg\"></div>"
   ]
  },
  {
   "cell_type": "markdown",
   "metadata": {},
   "source": [
    "<hr>"
   ]
  },
  {
   "cell_type": "code",
   "execution_count": 3,
   "metadata": {},
   "outputs": [
    {
     "data": {
      "text/plain": [
       "<module 'tensorflow._api.v2.version' from 'C:\\\\Users\\\\Mark\\\\AppData\\\\Roaming\\\\Python\\\\Python36\\\\site-packages\\\\tensorflow\\\\_api\\\\v2\\\\version\\\\__init__.py'>"
      ]
     },
     "execution_count": 3,
     "metadata": {},
     "output_type": "execute_result"
    }
   ],
   "source": [
    "tf.version"
   ]
  },
  {
   "cell_type": "markdown",
   "metadata": {},
   "source": [
    "Unlike TF1 which uses lazy execution, TF2 uses eager execution:"
   ]
  },
  {
   "cell_type": "code",
   "execution_count": 2,
   "metadata": {},
   "outputs": [
    {
     "name": "stdout",
     "output_type": "stream",
     "text": [
      "tf.Tensor([1 2 4], shape=(3,), dtype=int32)\n"
     ]
    }
   ],
   "source": [
    "import tensorflow as tf\n",
    "a = tf.constant([1, 2, 3])\n",
    "b = tf.constant([0, 0, 1])\n",
    "c = tf.add(a, b)\n",
    "print(c)"
   ]
  },
  {
   "cell_type": "markdown",
   "metadata": {},
   "source": [
    "Can change the value of a variable with assign:"
   ]
  },
  {
   "cell_type": "code",
   "execution_count": 14,
   "metadata": {},
   "outputs": [
    {
     "name": "stdout",
     "output_type": "stream",
     "text": [
      "[6]\n"
     ]
    }
   ],
   "source": [
    "d = tf.Variable([1])\n",
    "d.assign([6])\n",
    "print(d.numpy())"
   ]
  },
  {
   "cell_type": "markdown",
   "metadata": {},
   "source": [
    "TF2 uses AutoGrad to create a Directed Acyclic Graph (DAG), a.k.a the *graph*."
   ]
  },
  {
   "cell_type": "code",
   "execution_count": null,
   "metadata": {},
   "outputs": [],
   "source": [
    "@tf.function\n",
    "def compute(a, b, c):\n",
    "    d = a * b + c\n",
    "    e = a * b * c\n",
    "    return d, e"
   ]
  },
  {
   "cell_type": "markdown",
   "metadata": {},
   "source": [
    "Because of eager execution, it is not possible to peform autodifferentiation without a history. This is performed by the GradientTape. Consider the problem trying to determine $X$ for the equation: $$AX = B$$"
   ]
  },
  {
   "cell_type": "code",
   "execution_count": 9,
   "metadata": {},
   "outputs": [
    {
     "name": "stdout",
     "output_type": "stream",
     "text": [
      "X = 20.00, dX = 3.000000\n",
      "X = 17.00, dX = 3.000000\n",
      "X = 14.00, dX = 3.000000\n",
      "X = 11.00, dX = 3.000000\n",
      "X = 8.00, dX = 3.000000\n",
      "X = 5.00, dX = 3.000000\n",
      "X = 2.00, dX = 0.000000\n"
     ]
    }
   ],
   "source": [
    "A, B = tf.constant(3.0), tf.constant(6.0)\n",
    "X = tf.Variable(20.0) # In practice, we would start with a random value\n",
    "\n",
    "def train_step():\n",
    "    with tf.GradientTape() as tape:\n",
    "        loss = tf.math.abs(A * X - B)\n",
    "    dX = tape.gradient(loss, X)\n",
    "    print('X = {:.2f}, dX = {:2f}'.format(X.numpy(), dX))\n",
    "    X.assign(X - dX)\n",
    "    \n",
    "for i in range(7):\n",
    "    train_step()"
   ]
  }
 ],
 "metadata": {
  "kernelspec": {
   "display_name": "Python 3",
   "language": "python",
   "name": "python3"
  },
  "language_info": {
   "codemirror_mode": {
    "name": "ipython",
    "version": 3
   },
   "file_extension": ".py",
   "mimetype": "text/x-python",
   "name": "python",
   "nbconvert_exporter": "python",
   "pygments_lexer": "ipython3",
   "version": "3.6.7"
  }
 },
 "nbformat": 4,
 "nbformat_minor": 4
}
