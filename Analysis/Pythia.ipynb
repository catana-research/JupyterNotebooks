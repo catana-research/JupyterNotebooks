{
 "cells": [
  {
   "cell_type": "markdown",
   "metadata": {},
   "source": [
    "<div style=\"float:left;font-size:20px;\">\n",
    "    <h1>Pythia</h1>\n",
    "</div><div style=\"float:right;\"><img src=\"../assets/banner.jpg\"></div>"
   ]
  },
  {
   "cell_type": "markdown",
   "metadata": {},
   "source": [
    "## Installation\n",
    "\n",
    "Python can be used to run Pythia if it is specified within the configuration by the following:\n",
    "\n",
    "Python interface via swig:\n",
    "```\n",
    "./configure --with-python-include=/usr/include/python3.5 \\ \n",
    "    --with-python-bin=/usr/bin\n",
    "```\n",
    "\n",
    "If using anaconda3:\n",
    "```\n",
    "/configure --with-python-include=/home/tau/anaconda3/include/python3.6m --with-python-bin=/home/tau/anaconda3/bin\n",
    "```\n",
    "\n",
    "Note the python used must be the same when called by 'python' (use 'which python' to see what this is).\n",
    "\n",
    "Then run make. (http://home.thep.lu.se/Pythia/pythia82html/PythonInterface.html).\n",
    "\n",
    "Test Pythia by running a file in the examples directory:\n",
    "\n",
    "```bash\n",
    "python main01.py\n",
    "```"
   ]
  },
  {
   "cell_type": "markdown",
   "metadata": {},
   "source": [
    "## Commands\n",
    "\n",
    "http://home.thep.lu.se/Pythia/pythia82html/ParticleDataScheme.html\n",
    "\n",
    "pythia.particleData.listAll(); "
   ]
  },
  {
   "cell_type": "markdown",
   "metadata": {},
   "source": [
    "https://github.com/mortenpi/pythia8/blob/master/htmldoc/ElectroweakProcesses.html"
   ]
  },
  {
   "cell_type": "markdown",
   "metadata": {},
   "source": [
    "## Framework\n",
    "\n",
    "Todo:\n",
    "\n",
    "- Use HDF5 dataformat"
   ]
  },
  {
   "cell_type": "code",
   "execution_count": null,
   "metadata": {},
   "outputs": [],
   "source": []
  }
 ],
 "metadata": {
  "kernelspec": {
   "display_name": "Python 3",
   "language": "python",
   "name": "python3"
  },
  "language_info": {
   "codemirror_mode": {
    "name": "ipython",
    "version": 3
   },
   "file_extension": ".py",
   "mimetype": "text/x-python",
   "name": "python",
   "nbconvert_exporter": "python",
   "pygments_lexer": "ipython3",
   "version": "3.6.7"
  },
  "latex_envs": {
   "LaTeX_envs_menu_present": true,
   "autoclose": false,
   "autocomplete": true,
   "bibliofile": "biblio.bib",
   "cite_by": "apalike",
   "current_citInitial": 1,
   "eqLabelWithNumbers": true,
   "eqNumInitial": 1,
   "hotkeys": {
    "equation": "Ctrl-E",
    "itemize": "Ctrl-I"
   },
   "labels_anchors": false,
   "latex_user_defs": false,
   "report_style_numbering": false,
   "user_envs_cfg": false
  },
  "toc": {
   "nav_menu": {},
   "number_sections": true,
   "sideBar": true,
   "skip_h1_title": false,
   "title_cell": "Table of Contents",
   "title_sidebar": "Contents",
   "toc_cell": false,
   "toc_position": {},
   "toc_section_display": true,
   "toc_window_display": false
  }
 },
 "nbformat": 4,
 "nbformat_minor": 4
}
