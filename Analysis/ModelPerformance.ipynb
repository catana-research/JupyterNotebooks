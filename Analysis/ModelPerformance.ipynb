{
 "cells": [
  {
   "cell_type": "markdown",
   "metadata": {},
   "source": [
    "<div style=\"float:left;font-size:20px;\">\n",
    "    <h1>Model Performance</h1>\n",
    "</div><div style=\"float:right;\"><img src=\"../../assets/banner.jpg\"></div>"
   ]
  },
  {
   "cell_type": "markdown",
   "metadata": {},
   "source": [
    "<hr>"
   ]
  },
  {
   "cell_type": "markdown",
   "metadata": {},
   "source": [
    "Evaluation of model performance using quantative methods.\n",
    "\n",
    "References: https://scikit-learn.org/stable/modules/model_evaluation.html"
   ]
  },
  {
   "cell_type": "markdown",
   "metadata": {},
   "source": [
    "The module `sklearn.metrics` also exposes a set of simple functions measuring a prediction error given ground truth and prediction:\n",
    "\n",
    "- functions ending with `_score` return a value to maximize, the higher the better.\n",
    "\n",
    "- functions ending with `_error` or `_loss` return a value to minimize, the lower the better."
   ]
  },
  {
   "cell_type": "markdown",
   "metadata": {},
   "source": [
    "## Classification"
   ]
  },
  {
   "cell_type": "code",
   "execution_count": 15,
   "metadata": {},
   "outputs": [
    {
     "name": "stdout",
     "output_type": "stream",
     "text": [
      "CV score = [1.         0.91666667 0.9047619  1.         0.95238095]\n",
      "\n",
      "Prediction accuracy for the normal test dataset with PCA\n",
      "100.00%\n",
      "\n"
     ]
    }
   ],
   "source": [
    "from sklearn import svm, datasets\n",
    "from sklearn.model_selection import cross_val_score\n",
    "from sklearn.model_selection import train_test_split\n",
    "from sklearn import metrics\n",
    "\n",
    "X, y = datasets.load_iris(return_X_y=True)\n",
    "X_train, X_test, y_train, y_test = train_test_split(X, y,\n",
    "                                                    test_size=0.30,\n",
    "                                                    random_state=42)\n",
    "clf = svm.SVC(gamma=\"scale\", random_state=42)\n",
    "\n",
    "# Cross validation scoring\n",
    "cv_score = cross_val_score(clf, X_train, y_train, cv=5, scoring='recall_macro')\n",
    "print(f'CV score = {cv_score}')\n",
    "\n",
    "# Generalisation error scoring\n",
    "clf.fit(X_train, y_train)\n",
    "pred_test = clf.predict(X_test)\n",
    "print('\\nPrediction accuracy for the normal test dataset with PCA')\n",
    "print('{:.2%}\\n'.format(metrics.accuracy_score(y_test, pred_test)))"
   ]
  }
 ],
 "metadata": {
  "kernelspec": {
   "display_name": "Python 3",
   "language": "python",
   "name": "python3"
  },
  "language_info": {
   "codemirror_mode": {
    "name": "ipython",
    "version": 3
   },
   "file_extension": ".py",
   "mimetype": "text/x-python",
   "name": "python",
   "nbconvert_exporter": "python",
   "pygments_lexer": "ipython3",
   "version": "3.6.7"
  }
 },
 "nbformat": 4,
 "nbformat_minor": 4
}
