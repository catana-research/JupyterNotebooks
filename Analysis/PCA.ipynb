{
 "cells": [
  {
   "cell_type": "markdown",
   "metadata": {},
   "source": [
    "<div style=\"float:left;font-size:20px;\">\n",
    "    <h1>PCA</h1>\n",
    "</div><div style=\"float:right;\"><img src=\"../assets/banner.jpg\"></div>"
   ]
  },
  {
   "cell_type": "markdown",
   "metadata": {},
   "source": [
    "<hr>"
   ]
  },
  {
   "cell_type": "code",
   "execution_count": 9,
   "metadata": {},
   "outputs": [],
   "source": [
    "import numpy as np\n",
    "import sklearn as sk\n",
    "import altair as alt\n",
    "alt.data_transformers.disable_max_rows(); # Disable max rows == 5000 limitation\n",
    "alt.data_transformers.enable('json');     # Save data to JSON, rather than to notebook to keep size small"
   ]
  },
  {
   "cell_type": "code",
   "execution_count": 10,
   "metadata": {},
   "outputs": [],
   "source": [
    "from sklearn.datasets import make_classification\n",
    "X, Y = sk.datasets.make_classification(n_samples=100, n_features=20, n_informative=2, n_redundant=0, n_repeated=0, n_classes=2, n_clusters_per_class=2, weights=None, flip_y=0.01, class_sep=1.0, hypercube=True, shift=0.0, scale=1.0, shuffle=True, random_state=None)"
   ]
  },
  {
   "cell_type": "code",
   "execution_count": 11,
   "metadata": {},
   "outputs": [
    {
     "data": {
      "text/plain": [
       "array([[ 0.55372733, -1.36468108,  2.07106629, ..., -2.06257343,\n",
       "         0.89864144, -1.04435104],\n",
       "       [ 0.88808176,  0.64347898, -0.69729104, ..., -2.38303113,\n",
       "         0.92263525, -0.08859627],\n",
       "       [-1.13255996,  1.37390753, -1.1035627 , ..., -0.4398791 ,\n",
       "        -0.28261564,  0.78464676],\n",
       "       ...,\n",
       "       [-0.09374991, -0.32647105,  0.15913969, ..., -0.62737913,\n",
       "         0.85179233, -0.37813943],\n",
       "       [ 0.26648521,  0.25075628,  2.28648809, ...,  0.88916947,\n",
       "        -2.21715985,  0.63234516],\n",
       "       [-0.40472403,  0.86432089,  0.03871788, ...,  0.00708372,\n",
       "         1.87241111,  0.54421312]])"
      ]
     },
     "execution_count": 11,
     "metadata": {},
     "output_type": "execute_result"
    }
   ],
   "source": [
    "X"
   ]
  },
  {
   "cell_type": "code",
   "execution_count": null,
   "metadata": {},
   "outputs": [],
   "source": [
    "from vega_datasets import data\n",
    "\n",
    "source = data.iris()\n",
    "brush = alt.selection(type='interval', resolve='global')\n",
    "\n",
    "base = alt.Chart(source).mark_point().encode(\n",
    "    y='sepalLength',\n",
    "    color=alt.condition(brush, 'species', alt.ColorValue('gray')),\n",
    ").add_selection(\n",
    "    brush\n",
    ").properties(\n",
    "    width=250,\n",
    "    height=250\n",
    ")"
   ]
  },
  {
   "cell_type": "code",
   "execution_count": 5,
   "metadata": {},
   "outputs": [
    {
     "ename": "AttributeError",
     "evalue": "'numpy.ndarray' object has no attribute 'info'",
     "output_type": "error",
     "traceback": [
      "\u001b[1;31m---------------------------------------------------------------------------\u001b[0m",
      "\u001b[1;31mAttributeError\u001b[0m                            Traceback (most recent call last)",
      "\u001b[1;32m<ipython-input-5-9545f5b82155>\u001b[0m in \u001b[0;36m<module>\u001b[1;34m\u001b[0m\n\u001b[1;32m----> 1\u001b[1;33m \u001b[0mX\u001b[0m\u001b[1;33m.\u001b[0m\u001b[0minfo\u001b[0m\u001b[1;33m(\u001b[0m\u001b[1;33m)\u001b[0m\u001b[1;33m\u001b[0m\u001b[1;33m\u001b[0m\u001b[0m\n\u001b[0m",
      "\u001b[1;31mAttributeError\u001b[0m: 'numpy.ndarray' object has no attribute 'info'"
     ]
    }
   ],
   "source": [
    "X.info()"
   ]
  },
  {
   "cell_type": "code",
   "execution_count": null,
   "metadata": {},
   "outputs": [],
   "source": []
  }
 ],
 "metadata": {
  "kernelspec": {
   "display_name": "Python 3",
   "language": "python",
   "name": "python3"
  },
  "language_info": {
   "codemirror_mode": {
    "name": "ipython",
    "version": 3
   },
   "file_extension": ".py",
   "mimetype": "text/x-python",
   "name": "python",
   "nbconvert_exporter": "python",
   "pygments_lexer": "ipython3",
   "version": "3.6.7"
  }
 },
 "nbformat": 4,
 "nbformat_minor": 4
}
