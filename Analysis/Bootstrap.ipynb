{
 "cells": [
  {
   "cell_type": "markdown",
   "metadata": {},
   "source": [
    "<div style=\"float:left;font-size:20px;\">\n",
    "    <h1>Bootstrap</h1>\n",
    "</div><div style=\"float:right;\"><img src=\"../assets/banner.jpg\"></div>"
   ]
  },
  {
   "cell_type": "markdown",
   "metadata": {},
   "source": [
    "<hr>"
   ]
  },
  {
   "cell_type": "code",
   "execution_count": 9,
   "metadata": {},
   "outputs": [],
   "source": [
    "import numpy as np\n",
    "import matplotlib.pyplot as plt\n",
    "import pandas as pd"
   ]
  },
  {
   "cell_type": "code",
   "execution_count": 11,
   "metadata": {},
   "outputs": [
    {
     "name": "stdout",
     "output_type": "stream",
     "text": [
      "Mean\n",
      "Mean = -0.03\t95% C.I. = [-0.09, 0.03]\n",
      "\n",
      "84.13% Percentile - Expect 1\n",
      "Mean = 0.96\t95% C.I. = [0.89, 1.05]\n",
      "\n",
      "97.5% Percentile - Expect 1.96\n",
      "Mean = 1.82\t95% C.I. = [1.68, 2.00]\n"
     ]
    },
    {
     "data": {
      "text/plain": [
       "(1.8192541537620206, 1.680888325202647, 2.002590277011063)"
      ]
     },
     "execution_count": 11,
     "metadata": {},
     "output_type": "execute_result"
    }
   ],
   "source": [
    "def bootstrap_samples(samples, f, *args, verbose=False):\n",
    "    \"\"\"Apply transformation and bootstrap, returning statistics\"\"\"\n",
    "    transform = [f(sample, *args) for sample in samples]\n",
    "    mean = np.mean(transform)\n",
    "    ll = np.percentile(transform, 2.5)\n",
    "    ul = np.percentile(transform, 97.5)\n",
    "    if verbose:\n",
    "        print(f'Mean = {mean:.2f}\\t95% C.I. = [{ll:.2f}, {ul:.2f}]')\n",
    "    return mean, ll, ul\n",
    "\n",
    "\n",
    "\"\"\"\n",
    "Attempt to bootstrap specific statistics of a distribution\n",
    "\"\"\"\n",
    "\n",
    "# Generate a N(0, 1) distribution\n",
    "x = np.random.normal(0, 1, 1000)\n",
    "\n",
    "df = pd.DataFrame({'x': x})\n",
    "\n",
    "# Generate n_sample samplings with replacement\n",
    "n_samples = 1000\n",
    "samples_flat = df.sample(frac=n_samples, replace=True, random_state=42)['x'].values\n",
    "samples = np.array_split(samples_flat, n_samples)\n",
    "\n",
    "print('Mean')\n",
    "bootstrap_samples(samples, np.mean, verbose=True)\n",
    "print('\\n84.13% Percentile - Expect 1')\n",
    "bootstrap_samples(samples, np.percentile, 84.1, verbose=True)\n",
    "print('\\n97.5% Percentile - Expect 1.96')\n",
    "bootstrap_samples(samples, np.percentile, 97.5, verbose=True)"
   ]
  },
  {
   "cell_type": "code",
   "execution_count": 12,
   "metadata": {},
   "outputs": [],
   "source": [
    "# TODO CONVERGENCE OF BOOTSTRAP CI INTERVAL"
   ]
  }
 ],
 "metadata": {
  "kernelspec": {
   "display_name": "Python 3",
   "language": "python",
   "name": "python3"
  },
  "language_info": {
   "codemirror_mode": {
    "name": "ipython",
    "version": 3
   },
   "file_extension": ".py",
   "mimetype": "text/x-python",
   "name": "python",
   "nbconvert_exporter": "python",
   "pygments_lexer": "ipython3",
   "version": "3.6.7"
  }
 },
 "nbformat": 4,
 "nbformat_minor": 4
}
