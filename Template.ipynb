{
 "cells": [
  {
   "cell_type": "markdown",
   "metadata": {},
   "source": [
    "<div style=\"float:left;font-size:20px;\">\n",
    "    <h1>AltChart</h1>\n",
    "</div><div style=\"float:right;\"><img src=\"../../assets/banner.jpg\"></div>"
   ]
  },
  {
   "cell_type": "markdown",
   "metadata": {},
   "source": [
    "<hr>"
   ]
  },
  {
   "cell_type": "code",
   "execution_count": 4,
   "metadata": {},
   "outputs": [],
   "source": [
    "import sys\n",
    "sys.path.insert(0, r\"R:\\Projects\\catana\")\n",
    "from catana.plotting.altchart import AltChart"
   ]
  },
  {
   "cell_type": "code",
   "execution_count": 5,
   "metadata": {},
   "outputs": [],
   "source": [
    "import altair as alt\n",
    "import numpy as np\n",
    "import pandas as pd\n",
    "from vega_datasets import data"
   ]
  },
  {
   "cell_type": "markdown",
   "metadata": {},
   "source": [
    "## Example 1"
   ]
  },
  {
   "cell_type": "code",
   "execution_count": 6,
   "metadata": {},
   "outputs": [
    {
     "data": {
      "application/vnd.vegalite.v3+json": {
       "$schema": "https://vega.github.io/schema/vega-lite/v3.4.0.json",
       "config": {
        "mark": {
         "tooltip": null
        },
        "view": {
         "height": 300,
         "width": 400
        }
       },
       "data": {
        "name": "data-a264acbd6e539a8b3afc0cb5f240fb57"
       },
       "datasets": {
        "data-a264acbd6e539a8b3afc0cb5f240fb57": [
         {
          "petalLength": 1.4,
          "petalWidth": 0.2,
          "sepalLength": 5.1,
          "sepalWidth": 3.5,
          "species": "setosa"
         },
         {
          "petalLength": 1.4,
          "petalWidth": 0.2,
          "sepalLength": 4.9,
          "sepalWidth": 3,
          "species": "setosa"
         },
         {
          "petalLength": 1.3,
          "petalWidth": 0.2,
          "sepalLength": 4.7,
          "sepalWidth": 3.2,
          "species": "setosa"
         },
         {
          "petalLength": 1.5,
          "petalWidth": 0.2,
          "sepalLength": 4.6,
          "sepalWidth": 3.1,
          "species": "setosa"
         },
         {
          "petalLength": 1.4,
          "petalWidth": 0.2,
          "sepalLength": 5,
          "sepalWidth": 3.6,
          "species": "setosa"
         },
         {
          "petalLength": 1.7000000000000002,
          "petalWidth": 0.4,
          "sepalLength": 5.4,
          "sepalWidth": 3.9,
          "species": "setosa"
         },
         {
          "petalLength": 1.4,
          "petalWidth": 0.30000000000000004,
          "sepalLength": 4.6,
          "sepalWidth": 3.4,
          "species": "setosa"
         },
         {
          "petalLength": 1.5,
          "petalWidth": 0.2,
          "sepalLength": 5,
          "sepalWidth": 3.4,
          "species": "setosa"
         },
         {
          "petalLength": 1.4,
          "petalWidth": 0.2,
          "sepalLength": 4.4,
          "sepalWidth": 2.9,
          "species": "setosa"
         },
         {
          "petalLength": 1.5,
          "petalWidth": 0.1,
          "sepalLength": 4.9,
          "sepalWidth": 3.1,
          "species": "setosa"
         },
         {
          "petalLength": 1.5,
          "petalWidth": 0.2,
          "sepalLength": 5.4,
          "sepalWidth": 3.7,
          "species": "setosa"
         },
         {
          "petalLength": 1.6,
          "petalWidth": 0.2,
          "sepalLength": 4.8,
          "sepalWidth": 3.4,
          "species": "setosa"
         },
         {
          "petalLength": 1.4,
          "petalWidth": 0.1,
          "sepalLength": 4.8,
          "sepalWidth": 3,
          "species": "setosa"
         },
         {
          "petalLength": 1.1,
          "petalWidth": 0.1,
          "sepalLength": 4.3,
          "sepalWidth": 3,
          "species": "setosa"
         },
         {
          "petalLength": 1.2,
          "petalWidth": 0.2,
          "sepalLength": 5.8,
          "sepalWidth": 4,
          "species": "setosa"
         },
         {
          "petalLength": 1.5,
          "petalWidth": 0.4,
          "sepalLength": 5.7,
          "sepalWidth": 4.4,
          "species": "setosa"
         },
         {
          "petalLength": 1.3,
          "petalWidth": 0.4,
          "sepalLength": 5.4,
          "sepalWidth": 3.9,
          "species": "setosa"
         },
         {
          "petalLength": 1.4,
          "petalWidth": 0.30000000000000004,
          "sepalLength": 5.1,
          "sepalWidth": 3.5,
          "species": "setosa"
         },
         {
          "petalLength": 1.7000000000000002,
          "petalWidth": 0.30000000000000004,
          "sepalLength": 5.7,
          "sepalWidth": 3.8,
          "species": "setosa"
         },
         {
          "petalLength": 1.5,
          "petalWidth": 0.30000000000000004,
          "sepalLength": 5.1,
          "sepalWidth": 3.8,
          "species": "setosa"
         },
         {
          "petalLength": 1.7000000000000002,
          "petalWidth": 0.2,
          "sepalLength": 5.4,
          "sepalWidth": 3.4,
          "species": "setosa"
         },
         {
          "petalLength": 1.5,
          "petalWidth": 0.4,
          "sepalLength": 5.1,
          "sepalWidth": 3.7,
          "species": "setosa"
         },
         {
          "petalLength": 1,
          "petalWidth": 0.2,
          "sepalLength": 4.6,
          "sepalWidth": 3.6,
          "species": "setosa"
         },
         {
          "petalLength": 1.7000000000000002,
          "petalWidth": 0.5,
          "sepalLength": 5.1,
          "sepalWidth": 3.3,
          "species": "setosa"
         },
         {
          "petalLength": 1.9,
          "petalWidth": 0.2,
          "sepalLength": 4.8,
          "sepalWidth": 3.4,
          "species": "setosa"
         },
         {
          "petalLength": 1.6,
          "petalWidth": 0.2,
          "sepalLength": 5,
          "sepalWidth": 3,
          "species": "setosa"
         },
         {
          "petalLength": 1.6,
          "petalWidth": 0.4,
          "sepalLength": 5,
          "sepalWidth": 3.4,
          "species": "setosa"
         },
         {
          "petalLength": 1.5,
          "petalWidth": 0.2,
          "sepalLength": 5.2,
          "sepalWidth": 3.5,
          "species": "setosa"
         },
         {
          "petalLength": 1.4,
          "petalWidth": 0.2,
          "sepalLength": 5.2,
          "sepalWidth": 3.4,
          "species": "setosa"
         },
         {
          "petalLength": 1.6,
          "petalWidth": 0.2,
          "sepalLength": 4.7,
          "sepalWidth": 3.2,
          "species": "setosa"
         },
         {
          "petalLength": 1.6,
          "petalWidth": 0.2,
          "sepalLength": 4.8,
          "sepalWidth": 3.1,
          "species": "setosa"
         },
         {
          "petalLength": 1.5,
          "petalWidth": 0.4,
          "sepalLength": 5.4,
          "sepalWidth": 3.4,
          "species": "setosa"
         },
         {
          "petalLength": 1.5,
          "petalWidth": 0.1,
          "sepalLength": 5.2,
          "sepalWidth": 4.1,
          "species": "setosa"
         },
         {
          "petalLength": 1.4,
          "petalWidth": 0.2,
          "sepalLength": 5.5,
          "sepalWidth": 4.2,
          "species": "setosa"
         },
         {
          "petalLength": 1.5,
          "petalWidth": 0.2,
          "sepalLength": 4.9,
          "sepalWidth": 3.1,
          "species": "setosa"
         },
         {
          "petalLength": 1.2,
          "petalWidth": 0.2,
          "sepalLength": 5,
          "sepalWidth": 3.2,
          "species": "setosa"
         },
         {
          "petalLength": 1.3,
          "petalWidth": 0.2,
          "sepalLength": 5.5,
          "sepalWidth": 3.5,
          "species": "setosa"
         },
         {
          "petalLength": 1.4,
          "petalWidth": 0.1,
          "sepalLength": 4.9,
          "sepalWidth": 3.6,
          "species": "setosa"
         },
         {
          "petalLength": 1.3,
          "petalWidth": 0.2,
          "sepalLength": 4.4,
          "sepalWidth": 3,
          "species": "setosa"
         },
         {
          "petalLength": 1.5,
          "petalWidth": 0.2,
          "sepalLength": 5.1,
          "sepalWidth": 3.4,
          "species": "setosa"
         },
         {
          "petalLength": 1.3,
          "petalWidth": 0.30000000000000004,
          "sepalLength": 5,
          "sepalWidth": 3.5,
          "species": "setosa"
         },
         {
          "petalLength": 1.3,
          "petalWidth": 0.30000000000000004,
          "sepalLength": 4.5,
          "sepalWidth": 2.3,
          "species": "setosa"
         },
         {
          "petalLength": 1.3,
          "petalWidth": 0.2,
          "sepalLength": 4.4,
          "sepalWidth": 3.2,
          "species": "setosa"
         },
         {
          "petalLength": 1.6,
          "petalWidth": 0.6000000000000001,
          "sepalLength": 5,
          "sepalWidth": 3.5,
          "species": "setosa"
         },
         {
          "petalLength": 1.9,
          "petalWidth": 0.4,
          "sepalLength": 5.1,
          "sepalWidth": 3.8,
          "species": "setosa"
         },
         {
          "petalLength": 1.4,
          "petalWidth": 0.30000000000000004,
          "sepalLength": 4.8,
          "sepalWidth": 3,
          "species": "setosa"
         },
         {
          "petalLength": 1.6,
          "petalWidth": 0.2,
          "sepalLength": 5.1,
          "sepalWidth": 3.8,
          "species": "setosa"
         },
         {
          "petalLength": 1.4,
          "petalWidth": 0.2,
          "sepalLength": 4.6,
          "sepalWidth": 3.2,
          "species": "setosa"
         },
         {
          "petalLength": 1.5,
          "petalWidth": 0.2,
          "sepalLength": 5.3,
          "sepalWidth": 3.7,
          "species": "setosa"
         },
         {
          "petalLength": 1.4,
          "petalWidth": 0.2,
          "sepalLength": 5,
          "sepalWidth": 3.3,
          "species": "setosa"
         },
         {
          "petalLength": 4.7,
          "petalWidth": 1.4,
          "sepalLength": 7,
          "sepalWidth": 3.2,
          "species": "versicolor"
         },
         {
          "petalLength": 4.5,
          "petalWidth": 1.5,
          "sepalLength": 6.4,
          "sepalWidth": 3.2,
          "species": "versicolor"
         },
         {
          "petalLength": 4.9,
          "petalWidth": 1.5,
          "sepalLength": 6.9,
          "sepalWidth": 3.1,
          "species": "versicolor"
         },
         {
          "petalLength": 4,
          "petalWidth": 1.3,
          "sepalLength": 5.5,
          "sepalWidth": 2.3,
          "species": "versicolor"
         },
         {
          "petalLength": 4.6,
          "petalWidth": 1.5,
          "sepalLength": 6.5,
          "sepalWidth": 2.8,
          "species": "versicolor"
         },
         {
          "petalLength": 4.5,
          "petalWidth": 1.3,
          "sepalLength": 5.7,
          "sepalWidth": 2.8,
          "species": "versicolor"
         },
         {
          "petalLength": 4.7,
          "petalWidth": 1.6,
          "sepalLength": 6.3,
          "sepalWidth": 3.3,
          "species": "versicolor"
         },
         {
          "petalLength": 3.3,
          "petalWidth": 1,
          "sepalLength": 4.9,
          "sepalWidth": 2.4,
          "species": "versicolor"
         },
         {
          "petalLength": 4.6,
          "petalWidth": 1.3,
          "sepalLength": 6.6,
          "sepalWidth": 2.9,
          "species": "versicolor"
         },
         {
          "petalLength": 3.9,
          "petalWidth": 1.4,
          "sepalLength": 5.2,
          "sepalWidth": 2.7,
          "species": "versicolor"
         },
         {
          "petalLength": 3.5,
          "petalWidth": 1,
          "sepalLength": 5,
          "sepalWidth": 2,
          "species": "versicolor"
         },
         {
          "petalLength": 4.2,
          "petalWidth": 1.5,
          "sepalLength": 5.9,
          "sepalWidth": 3,
          "species": "versicolor"
         },
         {
          "petalLength": 4,
          "petalWidth": 1,
          "sepalLength": 6,
          "sepalWidth": 2.2,
          "species": "versicolor"
         },
         {
          "petalLength": 4.7,
          "petalWidth": 1.4,
          "sepalLength": 6.1,
          "sepalWidth": 2.9,
          "species": "versicolor"
         },
         {
          "petalLength": 3.6,
          "petalWidth": 1.3,
          "sepalLength": 5.6,
          "sepalWidth": 2.9,
          "species": "versicolor"
         },
         {
          "petalLength": 4.4,
          "petalWidth": 1.4,
          "sepalLength": 6.7,
          "sepalWidth": 3.1,
          "species": "versicolor"
         },
         {
          "petalLength": 4.5,
          "petalWidth": 1.5,
          "sepalLength": 5.6,
          "sepalWidth": 3,
          "species": "versicolor"
         },
         {
          "petalLength": 4.1,
          "petalWidth": 1,
          "sepalLength": 5.8,
          "sepalWidth": 2.7,
          "species": "versicolor"
         },
         {
          "petalLength": 4.5,
          "petalWidth": 1.5,
          "sepalLength": 6.2,
          "sepalWidth": 2.2,
          "species": "versicolor"
         },
         {
          "petalLength": 3.9,
          "petalWidth": 1.1,
          "sepalLength": 5.6,
          "sepalWidth": 2.5,
          "species": "versicolor"
         },
         {
          "petalLength": 4.8,
          "petalWidth": 1.8,
          "sepalLength": 5.9,
          "sepalWidth": 3.2,
          "species": "versicolor"
         },
         {
          "petalLength": 4,
          "petalWidth": 1.3,
          "sepalLength": 6.1,
          "sepalWidth": 2.8,
          "species": "versicolor"
         },
         {
          "petalLength": 4.9,
          "petalWidth": 1.5,
          "sepalLength": 6.3,
          "sepalWidth": 2.5,
          "species": "versicolor"
         },
         {
          "petalLength": 4.7,
          "petalWidth": 1.2,
          "sepalLength": 6.1,
          "sepalWidth": 2.8,
          "species": "versicolor"
         },
         {
          "petalLength": 4.3,
          "petalWidth": 1.3,
          "sepalLength": 6.4,
          "sepalWidth": 2.9,
          "species": "versicolor"
         },
         {
          "petalLength": 4.4,
          "petalWidth": 1.4,
          "sepalLength": 6.6,
          "sepalWidth": 3,
          "species": "versicolor"
         },
         {
          "petalLength": 4.8,
          "petalWidth": 1.4,
          "sepalLength": 6.8,
          "sepalWidth": 2.8,
          "species": "versicolor"
         },
         {
          "petalLength": 5,
          "petalWidth": 1.7000000000000002,
          "sepalLength": 6.7,
          "sepalWidth": 3,
          "species": "versicolor"
         },
         {
          "petalLength": 4.5,
          "petalWidth": 1.5,
          "sepalLength": 6,
          "sepalWidth": 2.9,
          "species": "versicolor"
         },
         {
          "petalLength": 3.5,
          "petalWidth": 1,
          "sepalLength": 5.7,
          "sepalWidth": 2.6,
          "species": "versicolor"
         },
         {
          "petalLength": 3.8,
          "petalWidth": 1.1,
          "sepalLength": 5.5,
          "sepalWidth": 2.4,
          "species": "versicolor"
         },
         {
          "petalLength": 3.7,
          "petalWidth": 1,
          "sepalLength": 5.5,
          "sepalWidth": 2.4,
          "species": "versicolor"
         },
         {
          "petalLength": 3.9,
          "petalWidth": 1.2,
          "sepalLength": 5.8,
          "sepalWidth": 2.7,
          "species": "versicolor"
         },
         {
          "petalLength": 5.1,
          "petalWidth": 1.6,
          "sepalLength": 6,
          "sepalWidth": 2.7,
          "species": "versicolor"
         },
         {
          "petalLength": 4.5,
          "petalWidth": 1.5,
          "sepalLength": 5.4,
          "sepalWidth": 3,
          "species": "versicolor"
         },
         {
          "petalLength": 4.5,
          "petalWidth": 1.6,
          "sepalLength": 6,
          "sepalWidth": 3.4,
          "species": "versicolor"
         },
         {
          "petalLength": 4.7,
          "petalWidth": 1.5,
          "sepalLength": 6.7,
          "sepalWidth": 3.1,
          "species": "versicolor"
         },
         {
          "petalLength": 4.4,
          "petalWidth": 1.3,
          "sepalLength": 6.3,
          "sepalWidth": 2.3,
          "species": "versicolor"
         },
         {
          "petalLength": 4.1,
          "petalWidth": 1.3,
          "sepalLength": 5.6,
          "sepalWidth": 3,
          "species": "versicolor"
         },
         {
          "petalLength": 4,
          "petalWidth": 1.3,
          "sepalLength": 5.5,
          "sepalWidth": 2.5,
          "species": "versicolor"
         },
         {
          "petalLength": 4.4,
          "petalWidth": 1.2,
          "sepalLength": 5.5,
          "sepalWidth": 2.6,
          "species": "versicolor"
         },
         {
          "petalLength": 4.6,
          "petalWidth": 1.4,
          "sepalLength": 6.1,
          "sepalWidth": 3,
          "species": "versicolor"
         },
         {
          "petalLength": 4,
          "petalWidth": 1.2,
          "sepalLength": 5.8,
          "sepalWidth": 2.6,
          "species": "versicolor"
         },
         {
          "petalLength": 3.3,
          "petalWidth": 1,
          "sepalLength": 5,
          "sepalWidth": 2.3,
          "species": "versicolor"
         },
         {
          "petalLength": 4.2,
          "petalWidth": 1.3,
          "sepalLength": 5.6,
          "sepalWidth": 2.7,
          "species": "versicolor"
         },
         {
          "petalLength": 4.2,
          "petalWidth": 1.2,
          "sepalLength": 5.7,
          "sepalWidth": 3,
          "species": "versicolor"
         },
         {
          "petalLength": 4.2,
          "petalWidth": 1.3,
          "sepalLength": 5.7,
          "sepalWidth": 2.9,
          "species": "versicolor"
         },
         {
          "petalLength": 4.3,
          "petalWidth": 1.3,
          "sepalLength": 6.2,
          "sepalWidth": 2.9,
          "species": "versicolor"
         },
         {
          "petalLength": 3,
          "petalWidth": 1.1,
          "sepalLength": 5.1,
          "sepalWidth": 2.5,
          "species": "versicolor"
         },
         {
          "petalLength": 4.1,
          "petalWidth": 1.3,
          "sepalLength": 5.7,
          "sepalWidth": 2.8,
          "species": "versicolor"
         },
         {
          "petalLength": 6,
          "petalWidth": 2.5,
          "sepalLength": 6.3,
          "sepalWidth": 3.3,
          "species": "virginica"
         },
         {
          "petalLength": 5.1,
          "petalWidth": 1.9,
          "sepalLength": 5.8,
          "sepalWidth": 2.7,
          "species": "virginica"
         },
         {
          "petalLength": 5.9,
          "petalWidth": 2.1,
          "sepalLength": 7.1,
          "sepalWidth": 3,
          "species": "virginica"
         },
         {
          "petalLength": 5.6,
          "petalWidth": 1.8,
          "sepalLength": 6.3,
          "sepalWidth": 2.9,
          "species": "virginica"
         },
         {
          "petalLength": 5.8,
          "petalWidth": 2.2,
          "sepalLength": 6.5,
          "sepalWidth": 3,
          "species": "virginica"
         },
         {
          "petalLength": 6.6,
          "petalWidth": 2.1,
          "sepalLength": 7.6,
          "sepalWidth": 3,
          "species": "virginica"
         },
         {
          "petalLength": 4.5,
          "petalWidth": 1.7000000000000002,
          "sepalLength": 4.9,
          "sepalWidth": 2.5,
          "species": "virginica"
         },
         {
          "petalLength": 6.3,
          "petalWidth": 1.8,
          "sepalLength": 7.3,
          "sepalWidth": 2.9,
          "species": "virginica"
         },
         {
          "petalLength": 5.8,
          "petalWidth": 1.8,
          "sepalLength": 6.7,
          "sepalWidth": 2.5,
          "species": "virginica"
         },
         {
          "petalLength": 6.1,
          "petalWidth": 2.5,
          "sepalLength": 7.2,
          "sepalWidth": 3.6,
          "species": "virginica"
         },
         {
          "petalLength": 5.1,
          "petalWidth": 2,
          "sepalLength": 6.5,
          "sepalWidth": 3.2,
          "species": "virginica"
         },
         {
          "petalLength": 5.3,
          "petalWidth": 1.9,
          "sepalLength": 6.4,
          "sepalWidth": 2.7,
          "species": "virginica"
         },
         {
          "petalLength": 5.5,
          "petalWidth": 2.1,
          "sepalLength": 6.8,
          "sepalWidth": 3,
          "species": "virginica"
         },
         {
          "petalLength": 5,
          "petalWidth": 2,
          "sepalLength": 5.7,
          "sepalWidth": 2.5,
          "species": "virginica"
         },
         {
          "petalLength": 5.1,
          "petalWidth": 2.4,
          "sepalLength": 5.8,
          "sepalWidth": 2.8,
          "species": "virginica"
         },
         {
          "petalLength": 5.3,
          "petalWidth": 2.3,
          "sepalLength": 6.4,
          "sepalWidth": 3.2,
          "species": "virginica"
         },
         {
          "petalLength": 5.5,
          "petalWidth": 1.8,
          "sepalLength": 6.5,
          "sepalWidth": 3,
          "species": "virginica"
         },
         {
          "petalLength": 6.7,
          "petalWidth": 2.2,
          "sepalLength": 7.7,
          "sepalWidth": 3.8,
          "species": "virginica"
         },
         {
          "petalLength": 6.9,
          "petalWidth": 2.3,
          "sepalLength": 7.7,
          "sepalWidth": 2.6,
          "species": "virginica"
         },
         {
          "petalLength": 5,
          "petalWidth": 1.5,
          "sepalLength": 6,
          "sepalWidth": 2.2,
          "species": "virginica"
         },
         {
          "petalLength": 5.7,
          "petalWidth": 2.3,
          "sepalLength": 6.9,
          "sepalWidth": 3.2,
          "species": "virginica"
         },
         {
          "petalLength": 4.9,
          "petalWidth": 2,
          "sepalLength": 5.6,
          "sepalWidth": 2.8,
          "species": "virginica"
         },
         {
          "petalLength": 6.7,
          "petalWidth": 2,
          "sepalLength": 7.7,
          "sepalWidth": 2.8,
          "species": "virginica"
         },
         {
          "petalLength": 4.9,
          "petalWidth": 1.8,
          "sepalLength": 6.3,
          "sepalWidth": 2.7,
          "species": "virginica"
         },
         {
          "petalLength": 5.7,
          "petalWidth": 2.1,
          "sepalLength": 6.7,
          "sepalWidth": 3.3,
          "species": "virginica"
         },
         {
          "petalLength": 6,
          "petalWidth": 1.8,
          "sepalLength": 7.2,
          "sepalWidth": 3.2,
          "species": "virginica"
         },
         {
          "petalLength": 4.8,
          "petalWidth": 1.8,
          "sepalLength": 6.2,
          "sepalWidth": 2.8,
          "species": "virginica"
         },
         {
          "petalLength": 4.9,
          "petalWidth": 1.8,
          "sepalLength": 6.1,
          "sepalWidth": 3,
          "species": "virginica"
         },
         {
          "petalLength": 5.6,
          "petalWidth": 2.1,
          "sepalLength": 6.4,
          "sepalWidth": 2.8,
          "species": "virginica"
         },
         {
          "petalLength": 5.8,
          "petalWidth": 1.6,
          "sepalLength": 7.2,
          "sepalWidth": 3,
          "species": "virginica"
         },
         {
          "petalLength": 6.1,
          "petalWidth": 1.9,
          "sepalLength": 7.4,
          "sepalWidth": 2.8,
          "species": "virginica"
         },
         {
          "petalLength": 6.4,
          "petalWidth": 2,
          "sepalLength": 7.9,
          "sepalWidth": 3.8,
          "species": "virginica"
         },
         {
          "petalLength": 5.6,
          "petalWidth": 2.2,
          "sepalLength": 6.4,
          "sepalWidth": 2.8,
          "species": "virginica"
         },
         {
          "petalLength": 5.1,
          "petalWidth": 1.5,
          "sepalLength": 6.3,
          "sepalWidth": 2.8,
          "species": "virginica"
         },
         {
          "petalLength": 5.6,
          "petalWidth": 1.4,
          "sepalLength": 6.1,
          "sepalWidth": 2.6,
          "species": "virginica"
         },
         {
          "petalLength": 6.1,
          "petalWidth": 2.3,
          "sepalLength": 7.7,
          "sepalWidth": 3,
          "species": "virginica"
         },
         {
          "petalLength": 5.6,
          "petalWidth": 2.4,
          "sepalLength": 6.3,
          "sepalWidth": 3.4,
          "species": "virginica"
         },
         {
          "petalLength": 5.5,
          "petalWidth": 1.8,
          "sepalLength": 6.4,
          "sepalWidth": 3.1,
          "species": "virginica"
         },
         {
          "petalLength": 4.8,
          "petalWidth": 1.8,
          "sepalLength": 6,
          "sepalWidth": 3,
          "species": "virginica"
         },
         {
          "petalLength": 5.4,
          "petalWidth": 2.1,
          "sepalLength": 6.9,
          "sepalWidth": 3.1,
          "species": "virginica"
         },
         {
          "petalLength": 5.6,
          "petalWidth": 2.4,
          "sepalLength": 6.7,
          "sepalWidth": 3.1,
          "species": "virginica"
         },
         {
          "petalLength": 5.1,
          "petalWidth": 2.3,
          "sepalLength": 6.9,
          "sepalWidth": 3.1,
          "species": "virginica"
         },
         {
          "petalLength": 5.1,
          "petalWidth": 1.9,
          "sepalLength": 5.8,
          "sepalWidth": 2.7,
          "species": "virginica"
         },
         {
          "petalLength": 5.9,
          "petalWidth": 2.3,
          "sepalLength": 6.8,
          "sepalWidth": 3.2,
          "species": "virginica"
         },
         {
          "petalLength": 5.7,
          "petalWidth": 2.5,
          "sepalLength": 6.7,
          "sepalWidth": 3.3,
          "species": "virginica"
         },
         {
          "petalLength": 5.2,
          "petalWidth": 2.3,
          "sepalLength": 6.7,
          "sepalWidth": 3,
          "species": "virginica"
         },
         {
          "petalLength": 5,
          "petalWidth": 1.9,
          "sepalLength": 6.3,
          "sepalWidth": 2.5,
          "species": "virginica"
         },
         {
          "petalLength": 5.2,
          "petalWidth": 2,
          "sepalLength": 6.5,
          "sepalWidth": 3,
          "species": "virginica"
         },
         {
          "petalLength": 5.4,
          "petalWidth": 2.3,
          "sepalLength": 6.2,
          "sepalWidth": 3.4,
          "species": "virginica"
         },
         {
          "petalLength": 5.1,
          "petalWidth": 1.8,
          "sepalLength": 5.9,
          "sepalWidth": 3,
          "species": "virginica"
         }
        ]
       },
       "vconcat": [
        {
         "hconcat": [
          {
           "layer": [
            {
             "encoding": {
              "color": {
               "field": "species",
               "type": "nominal"
              },
              "opacity": {
               "value": 0.4
              },
              "x": {
               "bin": {
                "maxbins": 30
               },
               "field": "sepalLength",
               "type": "quantitative"
              },
              "y": {
               "aggregate": "count",
               "stack": true,
               "type": "quantitative"
              }
             },
             "mark": {
              "opacity": 1,
              "type": "bar"
             },
             "selection": {
              "selector001": {
               "encodings": [
                "x"
               ],
               "type": "interval"
              }
             }
            },
            {
             "encoding": {
              "color": {
               "field": "species",
               "type": "nominal"
              },
              "x": {
               "bin": {
                "maxbins": 30
               },
               "field": "sepalLength",
               "type": "quantitative"
              },
              "y": {
               "aggregate": "count",
               "stack": true,
               "type": "quantitative"
              }
             },
             "mark": {
              "opacity": 1,
              "type": "bar"
             },
             "transform": [
              {
               "filter": {
                "selection": "selector001"
               }
              }
             ]
            }
           ]
          },
          {
           "layer": [
            {
             "encoding": {
              "opacity": {
               "value": 0.4
              },
              "x": {
               "bin": {
                "maxbins": 30
               },
               "field": "sepalWidth",
               "type": "quantitative"
              },
              "y": {
               "aggregate": "count",
               "stack": true,
               "type": "quantitative"
              }
             },
             "mark": {
              "opacity": 1,
              "type": "bar"
             },
             "selection": {
              "selector001": {
               "encodings": [
                "x"
               ],
               "type": "interval"
              }
             }
            },
            {
             "encoding": {
              "x": {
               "bin": {
                "maxbins": 30
               },
               "field": "sepalWidth",
               "type": "quantitative"
              },
              "y": {
               "aggregate": "count",
               "stack": true,
               "type": "quantitative"
              }
             },
             "mark": {
              "opacity": 1,
              "type": "bar"
             },
             "transform": [
              {
               "filter": {
                "selection": "selector001"
               }
              }
             ]
            }
           ]
          }
         ]
        },
        {
         "hconcat": [
          {
           "layer": [
            {
             "encoding": {
              "color": {
               "field": "species",
               "type": "nominal"
              },
              "opacity": {
               "value": 0.4
              },
              "x": {
               "field": "sepalLength",
               "type": "quantitative"
              },
              "y": {
               "field": "sepalWidth",
               "type": "quantitative"
              }
             },
             "mark": {
              "size": 2,
              "type": "line"
             },
             "selection": {
              "selector001": {
               "encodings": [
                "x"
               ],
               "type": "interval"
              }
             }
            },
            {
             "encoding": {
              "color": {
               "field": "species",
               "type": "nominal"
              },
              "x": {
               "field": "sepalLength",
               "type": "quantitative"
              },
              "y": {
               "field": "sepalWidth",
               "type": "quantitative"
              }
             },
             "mark": {
              "size": 2,
              "type": "line"
             },
             "transform": [
              {
               "filter": {
                "selection": "selector001"
               }
              }
             ]
            }
           ]
          },
          {
           "layer": [
            {
             "encoding": {
              "color": {
               "field": "species",
               "type": "nominal"
              },
              "opacity": {
               "value": 0.4
              },
              "x": {
               "field": "sepalLength",
               "type": "quantitative"
              },
              "y": {
               "field": "sepalWidth",
               "type": "quantitative"
              }
             },
             "mark": {
              "size": 10,
              "type": "circle"
             },
             "selection": {
              "selector001": {
               "encodings": [
                "x"
               ],
               "type": "interval"
              }
             }
            },
            {
             "encoding": {
              "color": {
               "field": "species",
               "type": "nominal"
              },
              "x": {
               "field": "sepalLength",
               "type": "quantitative"
              },
              "y": {
               "field": "sepalWidth",
               "type": "quantitative"
              }
             },
             "mark": {
              "size": 10,
              "type": "circle"
             },
             "transform": [
              {
               "filter": {
                "selection": "selector001"
               }
              }
             ]
            }
           ]
          }
         ]
        }
       ]
      },
      "image/png": "[encoded data removed]",
      "text/plain": [
       "<VegaLite 3 object>\n",
       "\n",
       "If you see this message, it means the renderer has not been properly enabled\n",
       "for the frontend that you are using. For more information, see\n",
       "https://altair-viz.github.io/user_guide/troubleshooting.html\n"
      ]
     },
     "metadata": {},
     "output_type": "display_data"
    }
   ],
   "source": [
    "\"\"\"Plot a grid of four plots with selections\"\"\"\n",
    "df = data.iris()\n",
    "selection_1 = alt.selection(type='interval', encodings=['x'])\n",
    "selection_2 = alt.selection(type='interval', resolve='global')\n",
    "\n",
    "chart = AltChart(data=df, size=(2, 2)\n",
    "    ).histogram(\n",
    "        meta='Histogram with color',\n",
    "        x='sepalLength', pos=(0, 0), interactive=True,\n",
    "        brush=selection_1,  # Enables you to draw on the chart\n",
    "        selection=selection_1,\n",
    "        color='species',\n",
    "    ).histogram(\n",
    "        meta='Histogram without color',\n",
    "        x='sepalWidth', pos=(0, 1), interactive=True,\n",
    "        brush=selection_1,\n",
    "        selection=selection_1,\n",
    "    ).scatter(\n",
    "        meta='2D relationship',\n",
    "        x='sepalLength', y='sepalWidth', color='species', pos=(1, 1), interactive=True,\n",
    "        selection=selection_1,\n",
    "        brush=selection_1,  # Enables you to draw on the chart\n",
    "    ).line(\n",
    "        meta='1D projection of relationship, shows new projections with selections',\n",
    "        x='sepalLength', y='sepalWidth', color='species', pos=(1, 0),\n",
    "        selection=selection_1, brush=selection_1,\n",
    "    )\n",
    "chart.display()"
   ]
  },
  {
   "cell_type": "markdown",
   "metadata": {},
   "source": [
    "## Example 2"
   ]
  },
  {
   "cell_type": "code",
   "execution_count": 12,
   "metadata": {},
   "outputs": [
    {
     "data": {
      "application/vnd.vegalite.v3+json": {
       "$schema": "https://vega.github.io/schema/vega-lite/v3.4.0.json",
       "config": {
        "mark": {
         "tooltip": null
        },
        "view": {
         "height": 300,
         "width": 400
        }
       },
       "data": {
        "name": "data-a264acbd6e539a8b3afc0cb5f240fb57"
       },
       "datasets": {
        "data-a264acbd6e539a8b3afc0cb5f240fb57": [
         {
          "petalLength": 1.4,
          "petalWidth": 0.2,
          "sepalLength": 5.1,
          "sepalWidth": 3.5,
          "species": "setosa"
         },
         {
          "petalLength": 1.4,
          "petalWidth": 0.2,
          "sepalLength": 4.9,
          "sepalWidth": 3,
          "species": "setosa"
         },
         {
          "petalLength": 1.3,
          "petalWidth": 0.2,
          "sepalLength": 4.7,
          "sepalWidth": 3.2,
          "species": "setosa"
         },
         {
          "petalLength": 1.5,
          "petalWidth": 0.2,
          "sepalLength": 4.6,
          "sepalWidth": 3.1,
          "species": "setosa"
         },
         {
          "petalLength": 1.4,
          "petalWidth": 0.2,
          "sepalLength": 5,
          "sepalWidth": 3.6,
          "species": "setosa"
         },
         {
          "petalLength": 1.7000000000000002,
          "petalWidth": 0.4,
          "sepalLength": 5.4,
          "sepalWidth": 3.9,
          "species": "setosa"
         },
         {
          "petalLength": 1.4,
          "petalWidth": 0.30000000000000004,
          "sepalLength": 4.6,
          "sepalWidth": 3.4,
          "species": "setosa"
         },
         {
          "petalLength": 1.5,
          "petalWidth": 0.2,
          "sepalLength": 5,
          "sepalWidth": 3.4,
          "species": "setosa"
         },
         {
          "petalLength": 1.4,
          "petalWidth": 0.2,
          "sepalLength": 4.4,
          "sepalWidth": 2.9,
          "species": "setosa"
         },
         {
          "petalLength": 1.5,
          "petalWidth": 0.1,
          "sepalLength": 4.9,
          "sepalWidth": 3.1,
          "species": "setosa"
         },
         {
          "petalLength": 1.5,
          "petalWidth": 0.2,
          "sepalLength": 5.4,
          "sepalWidth": 3.7,
          "species": "setosa"
         },
         {
          "petalLength": 1.6,
          "petalWidth": 0.2,
          "sepalLength": 4.8,
          "sepalWidth": 3.4,
          "species": "setosa"
         },
         {
          "petalLength": 1.4,
          "petalWidth": 0.1,
          "sepalLength": 4.8,
          "sepalWidth": 3,
          "species": "setosa"
         },
         {
          "petalLength": 1.1,
          "petalWidth": 0.1,
          "sepalLength": 4.3,
          "sepalWidth": 3,
          "species": "setosa"
         },
         {
          "petalLength": 1.2,
          "petalWidth": 0.2,
          "sepalLength": 5.8,
          "sepalWidth": 4,
          "species": "setosa"
         },
         {
          "petalLength": 1.5,
          "petalWidth": 0.4,
          "sepalLength": 5.7,
          "sepalWidth": 4.4,
          "species": "setosa"
         },
         {
          "petalLength": 1.3,
          "petalWidth": 0.4,
          "sepalLength": 5.4,
          "sepalWidth": 3.9,
          "species": "setosa"
         },
         {
          "petalLength": 1.4,
          "petalWidth": 0.30000000000000004,
          "sepalLength": 5.1,
          "sepalWidth": 3.5,
          "species": "setosa"
         },
         {
          "petalLength": 1.7000000000000002,
          "petalWidth": 0.30000000000000004,
          "sepalLength": 5.7,
          "sepalWidth": 3.8,
          "species": "setosa"
         },
         {
          "petalLength": 1.5,
          "petalWidth": 0.30000000000000004,
          "sepalLength": 5.1,
          "sepalWidth": 3.8,
          "species": "setosa"
         },
         {
          "petalLength": 1.7000000000000002,
          "petalWidth": 0.2,
          "sepalLength": 5.4,
          "sepalWidth": 3.4,
          "species": "setosa"
         },
         {
          "petalLength": 1.5,
          "petalWidth": 0.4,
          "sepalLength": 5.1,
          "sepalWidth": 3.7,
          "species": "setosa"
         },
         {
          "petalLength": 1,
          "petalWidth": 0.2,
          "sepalLength": 4.6,
          "sepalWidth": 3.6,
          "species": "setosa"
         },
         {
          "petalLength": 1.7000000000000002,
          "petalWidth": 0.5,
          "sepalLength": 5.1,
          "sepalWidth": 3.3,
          "species": "setosa"
         },
         {
          "petalLength": 1.9,
          "petalWidth": 0.2,
          "sepalLength": 4.8,
          "sepalWidth": 3.4,
          "species": "setosa"
         },
         {
          "petalLength": 1.6,
          "petalWidth": 0.2,
          "sepalLength": 5,
          "sepalWidth": 3,
          "species": "setosa"
         },
         {
          "petalLength": 1.6,
          "petalWidth": 0.4,
          "sepalLength": 5,
          "sepalWidth": 3.4,
          "species": "setosa"
         },
         {
          "petalLength": 1.5,
          "petalWidth": 0.2,
          "sepalLength": 5.2,
          "sepalWidth": 3.5,
          "species": "setosa"
         },
         {
          "petalLength": 1.4,
          "petalWidth": 0.2,
          "sepalLength": 5.2,
          "sepalWidth": 3.4,
          "species": "setosa"
         },
         {
          "petalLength": 1.6,
          "petalWidth": 0.2,
          "sepalLength": 4.7,
          "sepalWidth": 3.2,
          "species": "setosa"
         },
         {
          "petalLength": 1.6,
          "petalWidth": 0.2,
          "sepalLength": 4.8,
          "sepalWidth": 3.1,
          "species": "setosa"
         },
         {
          "petalLength": 1.5,
          "petalWidth": 0.4,
          "sepalLength": 5.4,
          "sepalWidth": 3.4,
          "species": "setosa"
         },
         {
          "petalLength": 1.5,
          "petalWidth": 0.1,
          "sepalLength": 5.2,
          "sepalWidth": 4.1,
          "species": "setosa"
         },
         {
          "petalLength": 1.4,
          "petalWidth": 0.2,
          "sepalLength": 5.5,
          "sepalWidth": 4.2,
          "species": "setosa"
         },
         {
          "petalLength": 1.5,
          "petalWidth": 0.2,
          "sepalLength": 4.9,
          "sepalWidth": 3.1,
          "species": "setosa"
         },
         {
          "petalLength": 1.2,
          "petalWidth": 0.2,
          "sepalLength": 5,
          "sepalWidth": 3.2,
          "species": "setosa"
         },
         {
          "petalLength": 1.3,
          "petalWidth": 0.2,
          "sepalLength": 5.5,
          "sepalWidth": 3.5,
          "species": "setosa"
         },
         {
          "petalLength": 1.4,
          "petalWidth": 0.1,
          "sepalLength": 4.9,
          "sepalWidth": 3.6,
          "species": "setosa"
         },
         {
          "petalLength": 1.3,
          "petalWidth": 0.2,
          "sepalLength": 4.4,
          "sepalWidth": 3,
          "species": "setosa"
         },
         {
          "petalLength": 1.5,
          "petalWidth": 0.2,
          "sepalLength": 5.1,
          "sepalWidth": 3.4,
          "species": "setosa"
         },
         {
          "petalLength": 1.3,
          "petalWidth": 0.30000000000000004,
          "sepalLength": 5,
          "sepalWidth": 3.5,
          "species": "setosa"
         },
         {
          "petalLength": 1.3,
          "petalWidth": 0.30000000000000004,
          "sepalLength": 4.5,
          "sepalWidth": 2.3,
          "species": "setosa"
         },
         {
          "petalLength": 1.3,
          "petalWidth": 0.2,
          "sepalLength": 4.4,
          "sepalWidth": 3.2,
          "species": "setosa"
         },
         {
          "petalLength": 1.6,
          "petalWidth": 0.6000000000000001,
          "sepalLength": 5,
          "sepalWidth": 3.5,
          "species": "setosa"
         },
         {
          "petalLength": 1.9,
          "petalWidth": 0.4,
          "sepalLength": 5.1,
          "sepalWidth": 3.8,
          "species": "setosa"
         },
         {
          "petalLength": 1.4,
          "petalWidth": 0.30000000000000004,
          "sepalLength": 4.8,
          "sepalWidth": 3,
          "species": "setosa"
         },
         {
          "petalLength": 1.6,
          "petalWidth": 0.2,
          "sepalLength": 5.1,
          "sepalWidth": 3.8,
          "species": "setosa"
         },
         {
          "petalLength": 1.4,
          "petalWidth": 0.2,
          "sepalLength": 4.6,
          "sepalWidth": 3.2,
          "species": "setosa"
         },
         {
          "petalLength": 1.5,
          "petalWidth": 0.2,
          "sepalLength": 5.3,
          "sepalWidth": 3.7,
          "species": "setosa"
         },
         {
          "petalLength": 1.4,
          "petalWidth": 0.2,
          "sepalLength": 5,
          "sepalWidth": 3.3,
          "species": "setosa"
         },
         {
          "petalLength": 4.7,
          "petalWidth": 1.4,
          "sepalLength": 7,
          "sepalWidth": 3.2,
          "species": "versicolor"
         },
         {
          "petalLength": 4.5,
          "petalWidth": 1.5,
          "sepalLength": 6.4,
          "sepalWidth": 3.2,
          "species": "versicolor"
         },
         {
          "petalLength": 4.9,
          "petalWidth": 1.5,
          "sepalLength": 6.9,
          "sepalWidth": 3.1,
          "species": "versicolor"
         },
         {
          "petalLength": 4,
          "petalWidth": 1.3,
          "sepalLength": 5.5,
          "sepalWidth": 2.3,
          "species": "versicolor"
         },
         {
          "petalLength": 4.6,
          "petalWidth": 1.5,
          "sepalLength": 6.5,
          "sepalWidth": 2.8,
          "species": "versicolor"
         },
         {
          "petalLength": 4.5,
          "petalWidth": 1.3,
          "sepalLength": 5.7,
          "sepalWidth": 2.8,
          "species": "versicolor"
         },
         {
          "petalLength": 4.7,
          "petalWidth": 1.6,
          "sepalLength": 6.3,
          "sepalWidth": 3.3,
          "species": "versicolor"
         },
         {
          "petalLength": 3.3,
          "petalWidth": 1,
          "sepalLength": 4.9,
          "sepalWidth": 2.4,
          "species": "versicolor"
         },
         {
          "petalLength": 4.6,
          "petalWidth": 1.3,
          "sepalLength": 6.6,
          "sepalWidth": 2.9,
          "species": "versicolor"
         },
         {
          "petalLength": 3.9,
          "petalWidth": 1.4,
          "sepalLength": 5.2,
          "sepalWidth": 2.7,
          "species": "versicolor"
         },
         {
          "petalLength": 3.5,
          "petalWidth": 1,
          "sepalLength": 5,
          "sepalWidth": 2,
          "species": "versicolor"
         },
         {
          "petalLength": 4.2,
          "petalWidth": 1.5,
          "sepalLength": 5.9,
          "sepalWidth": 3,
          "species": "versicolor"
         },
         {
          "petalLength": 4,
          "petalWidth": 1,
          "sepalLength": 6,
          "sepalWidth": 2.2,
          "species": "versicolor"
         },
         {
          "petalLength": 4.7,
          "petalWidth": 1.4,
          "sepalLength": 6.1,
          "sepalWidth": 2.9,
          "species": "versicolor"
         },
         {
          "petalLength": 3.6,
          "petalWidth": 1.3,
          "sepalLength": 5.6,
          "sepalWidth": 2.9,
          "species": "versicolor"
         },
         {
          "petalLength": 4.4,
          "petalWidth": 1.4,
          "sepalLength": 6.7,
          "sepalWidth": 3.1,
          "species": "versicolor"
         },
         {
          "petalLength": 4.5,
          "petalWidth": 1.5,
          "sepalLength": 5.6,
          "sepalWidth": 3,
          "species": "versicolor"
         },
         {
          "petalLength": 4.1,
          "petalWidth": 1,
          "sepalLength": 5.8,
          "sepalWidth": 2.7,
          "species": "versicolor"
         },
         {
          "petalLength": 4.5,
          "petalWidth": 1.5,
          "sepalLength": 6.2,
          "sepalWidth": 2.2,
          "species": "versicolor"
         },
         {
          "petalLength": 3.9,
          "petalWidth": 1.1,
          "sepalLength": 5.6,
          "sepalWidth": 2.5,
          "species": "versicolor"
         },
         {
          "petalLength": 4.8,
          "petalWidth": 1.8,
          "sepalLength": 5.9,
          "sepalWidth": 3.2,
          "species": "versicolor"
         },
         {
          "petalLength": 4,
          "petalWidth": 1.3,
          "sepalLength": 6.1,
          "sepalWidth": 2.8,
          "species": "versicolor"
         },
         {
          "petalLength": 4.9,
          "petalWidth": 1.5,
          "sepalLength": 6.3,
          "sepalWidth": 2.5,
          "species": "versicolor"
         },
         {
          "petalLength": 4.7,
          "petalWidth": 1.2,
          "sepalLength": 6.1,
          "sepalWidth": 2.8,
          "species": "versicolor"
         },
         {
          "petalLength": 4.3,
          "petalWidth": 1.3,
          "sepalLength": 6.4,
          "sepalWidth": 2.9,
          "species": "versicolor"
         },
         {
          "petalLength": 4.4,
          "petalWidth": 1.4,
          "sepalLength": 6.6,
          "sepalWidth": 3,
          "species": "versicolor"
         },
         {
          "petalLength": 4.8,
          "petalWidth": 1.4,
          "sepalLength": 6.8,
          "sepalWidth": 2.8,
          "species": "versicolor"
         },
         {
          "petalLength": 5,
          "petalWidth": 1.7000000000000002,
          "sepalLength": 6.7,
          "sepalWidth": 3,
          "species": "versicolor"
         },
         {
          "petalLength": 4.5,
          "petalWidth": 1.5,
          "sepalLength": 6,
          "sepalWidth": 2.9,
          "species": "versicolor"
         },
         {
          "petalLength": 3.5,
          "petalWidth": 1,
          "sepalLength": 5.7,
          "sepalWidth": 2.6,
          "species": "versicolor"
         },
         {
          "petalLength": 3.8,
          "petalWidth": 1.1,
          "sepalLength": 5.5,
          "sepalWidth": 2.4,
          "species": "versicolor"
         },
         {
          "petalLength": 3.7,
          "petalWidth": 1,
          "sepalLength": 5.5,
          "sepalWidth": 2.4,
          "species": "versicolor"
         },
         {
          "petalLength": 3.9,
          "petalWidth": 1.2,
          "sepalLength": 5.8,
          "sepalWidth": 2.7,
          "species": "versicolor"
         },
         {
          "petalLength": 5.1,
          "petalWidth": 1.6,
          "sepalLength": 6,
          "sepalWidth": 2.7,
          "species": "versicolor"
         },
         {
          "petalLength": 4.5,
          "petalWidth": 1.5,
          "sepalLength": 5.4,
          "sepalWidth": 3,
          "species": "versicolor"
         },
         {
          "petalLength": 4.5,
          "petalWidth": 1.6,
          "sepalLength": 6,
          "sepalWidth": 3.4,
          "species": "versicolor"
         },
         {
          "petalLength": 4.7,
          "petalWidth": 1.5,
          "sepalLength": 6.7,
          "sepalWidth": 3.1,
          "species": "versicolor"
         },
         {
          "petalLength": 4.4,
          "petalWidth": 1.3,
          "sepalLength": 6.3,
          "sepalWidth": 2.3,
          "species": "versicolor"
         },
         {
          "petalLength": 4.1,
          "petalWidth": 1.3,
          "sepalLength": 5.6,
          "sepalWidth": 3,
          "species": "versicolor"
         },
         {
          "petalLength": 4,
          "petalWidth": 1.3,
          "sepalLength": 5.5,
          "sepalWidth": 2.5,
          "species": "versicolor"
         },
         {
          "petalLength": 4.4,
          "petalWidth": 1.2,
          "sepalLength": 5.5,
          "sepalWidth": 2.6,
          "species": "versicolor"
         },
         {
          "petalLength": 4.6,
          "petalWidth": 1.4,
          "sepalLength": 6.1,
          "sepalWidth": 3,
          "species": "versicolor"
         },
         {
          "petalLength": 4,
          "petalWidth": 1.2,
          "sepalLength": 5.8,
          "sepalWidth": 2.6,
          "species": "versicolor"
         },
         {
          "petalLength": 3.3,
          "petalWidth": 1,
          "sepalLength": 5,
          "sepalWidth": 2.3,
          "species": "versicolor"
         },
         {
          "petalLength": 4.2,
          "petalWidth": 1.3,
          "sepalLength": 5.6,
          "sepalWidth": 2.7,
          "species": "versicolor"
         },
         {
          "petalLength": 4.2,
          "petalWidth": 1.2,
          "sepalLength": 5.7,
          "sepalWidth": 3,
          "species": "versicolor"
         },
         {
          "petalLength": 4.2,
          "petalWidth": 1.3,
          "sepalLength": 5.7,
          "sepalWidth": 2.9,
          "species": "versicolor"
         },
         {
          "petalLength": 4.3,
          "petalWidth": 1.3,
          "sepalLength": 6.2,
          "sepalWidth": 2.9,
          "species": "versicolor"
         },
         {
          "petalLength": 3,
          "petalWidth": 1.1,
          "sepalLength": 5.1,
          "sepalWidth": 2.5,
          "species": "versicolor"
         },
         {
          "petalLength": 4.1,
          "petalWidth": 1.3,
          "sepalLength": 5.7,
          "sepalWidth": 2.8,
          "species": "versicolor"
         },
         {
          "petalLength": 6,
          "petalWidth": 2.5,
          "sepalLength": 6.3,
          "sepalWidth": 3.3,
          "species": "virginica"
         },
         {
          "petalLength": 5.1,
          "petalWidth": 1.9,
          "sepalLength": 5.8,
          "sepalWidth": 2.7,
          "species": "virginica"
         },
         {
          "petalLength": 5.9,
          "petalWidth": 2.1,
          "sepalLength": 7.1,
          "sepalWidth": 3,
          "species": "virginica"
         },
         {
          "petalLength": 5.6,
          "petalWidth": 1.8,
          "sepalLength": 6.3,
          "sepalWidth": 2.9,
          "species": "virginica"
         },
         {
          "petalLength": 5.8,
          "petalWidth": 2.2,
          "sepalLength": 6.5,
          "sepalWidth": 3,
          "species": "virginica"
         },
         {
          "petalLength": 6.6,
          "petalWidth": 2.1,
          "sepalLength": 7.6,
          "sepalWidth": 3,
          "species": "virginica"
         },
         {
          "petalLength": 4.5,
          "petalWidth": 1.7000000000000002,
          "sepalLength": 4.9,
          "sepalWidth": 2.5,
          "species": "virginica"
         },
         {
          "petalLength": 6.3,
          "petalWidth": 1.8,
          "sepalLength": 7.3,
          "sepalWidth": 2.9,
          "species": "virginica"
         },
         {
          "petalLength": 5.8,
          "petalWidth": 1.8,
          "sepalLength": 6.7,
          "sepalWidth": 2.5,
          "species": "virginica"
         },
         {
          "petalLength": 6.1,
          "petalWidth": 2.5,
          "sepalLength": 7.2,
          "sepalWidth": 3.6,
          "species": "virginica"
         },
         {
          "petalLength": 5.1,
          "petalWidth": 2,
          "sepalLength": 6.5,
          "sepalWidth": 3.2,
          "species": "virginica"
         },
         {
          "petalLength": 5.3,
          "petalWidth": 1.9,
          "sepalLength": 6.4,
          "sepalWidth": 2.7,
          "species": "virginica"
         },
         {
          "petalLength": 5.5,
          "petalWidth": 2.1,
          "sepalLength": 6.8,
          "sepalWidth": 3,
          "species": "virginica"
         },
         {
          "petalLength": 5,
          "petalWidth": 2,
          "sepalLength": 5.7,
          "sepalWidth": 2.5,
          "species": "virginica"
         },
         {
          "petalLength": 5.1,
          "petalWidth": 2.4,
          "sepalLength": 5.8,
          "sepalWidth": 2.8,
          "species": "virginica"
         },
         {
          "petalLength": 5.3,
          "petalWidth": 2.3,
          "sepalLength": 6.4,
          "sepalWidth": 3.2,
          "species": "virginica"
         },
         {
          "petalLength": 5.5,
          "petalWidth": 1.8,
          "sepalLength": 6.5,
          "sepalWidth": 3,
          "species": "virginica"
         },
         {
          "petalLength": 6.7,
          "petalWidth": 2.2,
          "sepalLength": 7.7,
          "sepalWidth": 3.8,
          "species": "virginica"
         },
         {
          "petalLength": 6.9,
          "petalWidth": 2.3,
          "sepalLength": 7.7,
          "sepalWidth": 2.6,
          "species": "virginica"
         },
         {
          "petalLength": 5,
          "petalWidth": 1.5,
          "sepalLength": 6,
          "sepalWidth": 2.2,
          "species": "virginica"
         },
         {
          "petalLength": 5.7,
          "petalWidth": 2.3,
          "sepalLength": 6.9,
          "sepalWidth": 3.2,
          "species": "virginica"
         },
         {
          "petalLength": 4.9,
          "petalWidth": 2,
          "sepalLength": 5.6,
          "sepalWidth": 2.8,
          "species": "virginica"
         },
         {
          "petalLength": 6.7,
          "petalWidth": 2,
          "sepalLength": 7.7,
          "sepalWidth": 2.8,
          "species": "virginica"
         },
         {
          "petalLength": 4.9,
          "petalWidth": 1.8,
          "sepalLength": 6.3,
          "sepalWidth": 2.7,
          "species": "virginica"
         },
         {
          "petalLength": 5.7,
          "petalWidth": 2.1,
          "sepalLength": 6.7,
          "sepalWidth": 3.3,
          "species": "virginica"
         },
         {
          "petalLength": 6,
          "petalWidth": 1.8,
          "sepalLength": 7.2,
          "sepalWidth": 3.2,
          "species": "virginica"
         },
         {
          "petalLength": 4.8,
          "petalWidth": 1.8,
          "sepalLength": 6.2,
          "sepalWidth": 2.8,
          "species": "virginica"
         },
         {
          "petalLength": 4.9,
          "petalWidth": 1.8,
          "sepalLength": 6.1,
          "sepalWidth": 3,
          "species": "virginica"
         },
         {
          "petalLength": 5.6,
          "petalWidth": 2.1,
          "sepalLength": 6.4,
          "sepalWidth": 2.8,
          "species": "virginica"
         },
         {
          "petalLength": 5.8,
          "petalWidth": 1.6,
          "sepalLength": 7.2,
          "sepalWidth": 3,
          "species": "virginica"
         },
         {
          "petalLength": 6.1,
          "petalWidth": 1.9,
          "sepalLength": 7.4,
          "sepalWidth": 2.8,
          "species": "virginica"
         },
         {
          "petalLength": 6.4,
          "petalWidth": 2,
          "sepalLength": 7.9,
          "sepalWidth": 3.8,
          "species": "virginica"
         },
         {
          "petalLength": 5.6,
          "petalWidth": 2.2,
          "sepalLength": 6.4,
          "sepalWidth": 2.8,
          "species": "virginica"
         },
         {
          "petalLength": 5.1,
          "petalWidth": 1.5,
          "sepalLength": 6.3,
          "sepalWidth": 2.8,
          "species": "virginica"
         },
         {
          "petalLength": 5.6,
          "petalWidth": 1.4,
          "sepalLength": 6.1,
          "sepalWidth": 2.6,
          "species": "virginica"
         },
         {
          "petalLength": 6.1,
          "petalWidth": 2.3,
          "sepalLength": 7.7,
          "sepalWidth": 3,
          "species": "virginica"
         },
         {
          "petalLength": 5.6,
          "petalWidth": 2.4,
          "sepalLength": 6.3,
          "sepalWidth": 3.4,
          "species": "virginica"
         },
         {
          "petalLength": 5.5,
          "petalWidth": 1.8,
          "sepalLength": 6.4,
          "sepalWidth": 3.1,
          "species": "virginica"
         },
         {
          "petalLength": 4.8,
          "petalWidth": 1.8,
          "sepalLength": 6,
          "sepalWidth": 3,
          "species": "virginica"
         },
         {
          "petalLength": 5.4,
          "petalWidth": 2.1,
          "sepalLength": 6.9,
          "sepalWidth": 3.1,
          "species": "virginica"
         },
         {
          "petalLength": 5.6,
          "petalWidth": 2.4,
          "sepalLength": 6.7,
          "sepalWidth": 3.1,
          "species": "virginica"
         },
         {
          "petalLength": 5.1,
          "petalWidth": 2.3,
          "sepalLength": 6.9,
          "sepalWidth": 3.1,
          "species": "virginica"
         },
         {
          "petalLength": 5.1,
          "petalWidth": 1.9,
          "sepalLength": 5.8,
          "sepalWidth": 2.7,
          "species": "virginica"
         },
         {
          "petalLength": 5.9,
          "petalWidth": 2.3,
          "sepalLength": 6.8,
          "sepalWidth": 3.2,
          "species": "virginica"
         },
         {
          "petalLength": 5.7,
          "petalWidth": 2.5,
          "sepalLength": 6.7,
          "sepalWidth": 3.3,
          "species": "virginica"
         },
         {
          "petalLength": 5.2,
          "petalWidth": 2.3,
          "sepalLength": 6.7,
          "sepalWidth": 3,
          "species": "virginica"
         },
         {
          "petalLength": 5,
          "petalWidth": 1.9,
          "sepalLength": 6.3,
          "sepalWidth": 2.5,
          "species": "virginica"
         },
         {
          "petalLength": 5.2,
          "petalWidth": 2,
          "sepalLength": 6.5,
          "sepalWidth": 3,
          "species": "virginica"
         },
         {
          "petalLength": 5.4,
          "petalWidth": 2.3,
          "sepalLength": 6.2,
          "sepalWidth": 3.4,
          "species": "virginica"
         },
         {
          "petalLength": 5.1,
          "petalWidth": 1.8,
          "sepalLength": 5.9,
          "sepalWidth": 3,
          "species": "virginica"
         }
        ]
       },
       "vconcat": [
        {
         "hconcat": [
          {
           "layer": [
            {
             "encoding": {
              "color": {
               "aggregate": "count",
               "field": "sepalWidth",
               "type": "quantitative"
              },
              "opacity": {
               "value": 0.4
              },
              "x": {
               "field": "sepalLength",
               "type": "quantitative"
              },
              "y": {
               "field": "sepalWidth",
               "type": "quantitative"
              }
             },
             "mark": "rect",
             "selection": {
              "selector011": {
               "resolve": "global",
               "type": "interval"
              }
             }
            },
            {
             "encoding": {
              "color": {
               "aggregate": "count",
               "field": "sepalWidth",
               "type": "quantitative"
              },
              "x": {
               "field": "sepalLength",
               "type": "quantitative"
              },
              "y": {
               "field": "sepalWidth",
               "type": "quantitative"
              }
             },
             "mark": "rect",
             "transform": [
              {
               "filter": {
                "selection": "selector011"
               }
              }
             ]
            }
           ]
          },
          {
           "mark": "point"
          }
         ]
        },
        {
         "hconcat": [
          {
           "mark": "point"
          },
          {
           "mark": "point"
          }
         ]
        }
       ]
      },
      "image/png": "[encoded data removed]",
      "text/plain": [
       "<VegaLite 3 object>\n",
       "\n",
       "If you see this message, it means the renderer has not been properly enabled\n",
       "for the frontend that you are using. For more information, see\n",
       "https://altair-viz.github.io/user_guide/troubleshooting.html\n"
      ]
     },
     "metadata": {},
     "output_type": "display_data"
    }
   ],
   "source": [
    "\"\"\"Plot a grid of four plots with selections\"\"\"\n",
    "df = data.iris()\n",
    "selection_1 = alt.selection(type='interval', resolve='global')\n",
    "selection_2 = alt.selection(type='interval', resolve='global')\n",
    "x, y = np.meshgrid(range(-5, 5), range(-5, 5))\n",
    "z = x ** 2 + y ** 2\n",
    "df2 = pd.DataFrame({'x': x.ravel().astype('i'),  # Cast to data type in to avoid Altair asking for the type\n",
    "                   'y': y.ravel().astype('i'),\n",
    "                   'z': z.ravel().astype('d')})\n",
    "\n",
    "chart = AltChart(data=df, size=(2, 2)\n",
    "    ).histogram2d(\n",
    "        meta='2D Histogram with color',\n",
    "        x='sepalLength', y='sepalWidth', z='count(sepalWidth)', pos=(0, 0),\n",
    "        brush=selection_1, selection=selection_1,\n",
    ")\n",
    "#     ).histogram(\n",
    "#         meta='1D Histogram with color',\n",
    "#         x='species', bins=True, selection=selection_1, pos=(0, 1),\n",
    "#     ).histogram2d(\n",
    "#         data=df2,\n",
    "#         meta='2D Histogram with color',\n",
    "#         x='x:O', y='y:O', z='z:Q',\n",
    "#         brush=selection_2, selection=selection_2, pos=(1, 1),\n",
    "# )\n",
    "\n",
    "chart.display()"
   ]
  }
 ],
 "metadata": {
  "kernelspec": {
   "display_name": "Python 3",
   "language": "python",
   "name": "python3"
  },
  "language_info": {
   "codemirror_mode": {
    "name": "ipython",
    "version": 3
   },
   "file_extension": ".py",
   "mimetype": "text/x-python",
   "name": "python",
   "nbconvert_exporter": "python",
   "pygments_lexer": "ipython3",
   "version": "3.6.7"
  }
 },
 "nbformat": 4,
 "nbformat_minor": 4
}
