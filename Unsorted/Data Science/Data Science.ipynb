{
 "cells": [
  {
   "cell_type": "code",
   "execution_count": null,
   "metadata": {
    "collapsed": true
   },
   "outputs": [],
   "source": [
    "# Data science\n",
    "\n",
    "# Machine learning\n",
    "\n",
    "https://towardsdatascience.com/deep-learning-with-tensorflow-part-4-face-classification-and-video-inputs-fa078f22c1e5\n",
    "\n",
    "## Keras\n",
    "\n",
    "https://keras.io/getting-started/sequential-model-guide/\n",
    "https://github.com/keras-team/keras/tree/master/examples\n",
    "https://github.com/keras-team/keras/blob/master/examples/neural_doodle.py\n",
    "https://github.com/keras-team/keras/blob/master/examples/addition_rnn.py \n",
    "    \n",
    "## Tensor Flow\n",
    "\n",
    "https://www.tensorflow.org/tutorials/layers\n",
    "https://www.hanselman.com/blog/PlayingWithTensorFlowOnWindows.aspx\n",
    "https://petewarden.com/2016/02/28/tensorflow-for-poets/\n",
    "https://blog.coast.ai/continuous-online-video-classification-with-tensorflow-inception-and-a-raspberry-pi-785c8b1e13e1\n",
    "    \n",
    "## Pandas"
   ]
  },
  {
   "cell_type": "markdown",
   "metadata": {},
   "source": [
    "### Hexagonal binning\n",
    "\n",
    "Hexagons are the maximum number of sides a polygon can have for a regular tessellation of the plane, so in terms of packing a hexagon is 13% more efficient for covering the plane than squares. This property translates into better sampling efficiency at least for elliptical shapes. Lastly hexagons are visually less biased for displaying densities than other regular tessellations. For instance with squares our eyes are drawn to the horizontal and vertical lines of the grid.\n",
    "(https://cran.r-project.org/web/packages/hexbin/vignettes/hexagon_binning.pdf)\n"
   ]
  },
  {
   "cell_type": "markdown",
   "metadata": {},
   "source": [
    "# Tests\n",
    "\n",
    "https://en.wikipedia.org/wiki/Kolmogorov%E2%80%93Smirnov_test<br>\n",
    "https://en.wikipedia.org/wiki/Anderson%E2%80%93Darling_test "
   ]
  },
  {
   "cell_type": "code",
   "execution_count": null,
   "metadata": {},
   "outputs": [],
   "source": []
  }
 ],
 "metadata": {
  "kernelspec": {
   "display_name": "Python 3",
   "language": "python",
   "name": "python3"
  },
  "language_info": {
   "codemirror_mode": {
    "name": "ipython",
    "version": 3
   },
   "file_extension": ".py",
   "mimetype": "text/x-python",
   "name": "python",
   "nbconvert_exporter": "python",
   "pygments_lexer": "ipython3",
   "version": "3.6.4"
  },
  "latex_envs": {
   "LaTeX_envs_menu_present": true,
   "autoclose": false,
   "autocomplete": true,
   "bibliofile": "biblio.bib",
   "cite_by": "apalike",
   "current_citInitial": 1,
   "eqLabelWithNumbers": true,
   "eqNumInitial": 1,
   "hotkeys": {
    "equation": "Ctrl-E",
    "itemize": "Ctrl-I"
   },
   "labels_anchors": false,
   "latex_user_defs": false,
   "report_style_numbering": false,
   "user_envs_cfg": false
  },
  "toc": {
   "nav_menu": {},
   "number_sections": true,
   "sideBar": true,
   "skip_h1_title": false,
   "title_cell": "Table of Contents",
   "title_sidebar": "Contents",
   "toc_cell": false,
   "toc_position": {},
   "toc_section_display": true,
   "toc_window_display": false
  }
 },
 "nbformat": 4,
 "nbformat_minor": 2
}
