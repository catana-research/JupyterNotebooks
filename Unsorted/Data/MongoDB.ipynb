{
 "cells": [
  {
   "cell_type": "markdown",
   "metadata": {},
   "source": [
    "# MonogoDB"
   ]
  },
  {
   "cell_type": "markdown",
   "metadata": {},
   "source": [
    "https://www.hongkiat.com/blog/webdev-with-mongodb-part1/\n",
    "\n",
    "\n",
    "- Schemaless\n",
    "- Uses JSON for storing data and can both power high-volume applications. \n",
    "- There are drivers for nearly any language including C/C++, Python, PHP, Ruby, Perl, .NET, even Node.js.\n",
    "- Stores data in _collections_, rather than tables.\n",
    "- A _collection_ may be considered a table except there are no aligned columns. Each entry (row) can use varying dynamic schemas in key-value pairs.\n",
    "- Each of these entries or rows inside a collection is called a _document_. "
   ]
  },
  {
   "cell_type": "markdown",
   "metadata": {},
   "source": [
    "Setup\n",
    "-----\n",
    "\n",
    "Setup configuration script: C:\\Program Files\\MongoDB\\Server\\4.0\\bin\\mongod.cfg\n",
    "\n",
    "Run the server with the config: \n",
    "\n",
    "`cd C:\\Program Files\\MongoDB\\Server\\4.0\\bin\n",
    "mongod --config mongod.cfg`   \n",
    " \n",
    " \n",
    "Connect to the DB with either Python or MongoDB Compass:\n",
    "\n",
    "`\n",
    "from pymongo import MongoClient\n",
    "client = MongoClient('mongodb://localhost:27017/')\n",
    "client['dev'].list_collection_names()\n",
    "client['dev']['test'].find_one() # Get one element\n",
    "client['dev']['test'].find() # Get lazy list of all elements\n",
    "`\n",
    "\n",
    "More examples in:\n",
    "\n",
    "R:\\Dropbox\\Python\\CatAna\\examples\\data\\mongodb\\mongo.py"
   ]
  },
  {
   "cell_type": "markdown",
   "metadata": {},
   "source": [
    "__Note:__ Maximum document size ~ 16MB."
   ]
  },
  {
   "cell_type": "markdown",
   "metadata": {},
   "source": [
    "# PyMongo"
   ]
  },
  {
   "cell_type": "markdown",
   "metadata": {},
   "source": [
    "http://api.mongodb.com/python/current/tutorial.html"
   ]
  },
  {
   "cell_type": "markdown",
   "metadata": {},
   "source": [
    "An important note about collections (and databases) in MongoDB is that they are created lazily - none of the above commands have actually performed any operations on the MongoDB server. Collections and databases are created when the first document is inserted into them.\n",
    "\n",
    "- MongoDB stores data in BSON format. BSON strings are UTF-8 encoded so PyMongo must ensure that any strings it stores contain only valid UTF-8 data."
   ]
  },
  {
   "cell_type": "markdown",
   "metadata": {},
   "source": [
    "# Arctic"
   ]
  },
  {
   "cell_type": "markdown",
   "metadata": {},
   "source": [
    "https://www.mongodb.com/press/man-ahl-arctic-open-source\n",
    "\n",
    "https://github.com/manahl/arctic\n",
    "\n",
    "https://arctic.readthedocs.io/en/latest/"
   ]
  },
  {
   "cell_type": "markdown",
   "metadata": {},
   "source": [
    "Python wrapper for MongoDB that supports serialization of a number of datatypes for storage in the mongo document model."
   ]
  },
  {
   "cell_type": "markdown",
   "metadata": {},
   "source": [
    "```\n",
    "git clone git@github.com:manahl/arctic.git\n",
    "cd arctic\n",
    "python setup.py develop\n",
    "```"
   ]
  },
  {
   "cell_type": "markdown",
   "metadata": {},
   "source": [
    "Features:\n",
    "- Version Store\n",
    "- DataFrame Store\n",
    "- NdArray Store\n",
    "- Pickle Store"
   ]
  },
  {
   "cell_type": "markdown",
   "metadata": {},
   "source": [
    "## Examples"
   ]
  },
  {
   "cell_type": "markdown",
   "metadata": {},
   "source": [
    "https://github.com/manahl/arctic/blob/master/howtos/how_to_use_arctic.py"
   ]
  },
  {
   "cell_type": "markdown",
   "metadata": {},
   "source": []
  },
  {
   "cell_type": "markdown",
   "metadata": {},
   "source": [
    "https://github.com/manahl/arctic/blob/master/howtos/how_to_custom_arctic_library.py\n",
    "http://api.mongodb.com/python/current/api/pymongo/collection.html"
   ]
  },
  {
   "cell_type": "code",
   "execution_count": null,
   "metadata": {},
   "outputs": [],
   "source": []
  }
 ],
 "metadata": {
  "kernelspec": {
   "display_name": "Python 3",
   "language": "python",
   "name": "python3"
  },
  "language_info": {
   "codemirror_mode": {
    "name": "ipython",
    "version": 3
   },
   "file_extension": ".py",
   "mimetype": "text/x-python",
   "name": "python",
   "nbconvert_exporter": "python",
   "pygments_lexer": "ipython3",
   "version": "3.6.7"
  },
  "latex_envs": {
   "LaTeX_envs_menu_present": true,
   "autoclose": false,
   "autocomplete": true,
   "bibliofile": "biblio.bib",
   "cite_by": "apalike",
   "current_citInitial": 1,
   "eqLabelWithNumbers": true,
   "eqNumInitial": 1,
   "hotkeys": {
    "equation": "Ctrl-E",
    "itemize": "Ctrl-I"
   },
   "labels_anchors": false,
   "latex_user_defs": false,
   "report_style_numbering": false,
   "user_envs_cfg": false
  },
  "toc": {
   "nav_menu": {},
   "number_sections": true,
   "sideBar": true,
   "skip_h1_title": false,
   "title_cell": "Table of Contents",
   "title_sidebar": "Contents",
   "toc_cell": false,
   "toc_position": {},
   "toc_section_display": true,
   "toc_window_display": false
  }
 },
 "nbformat": 4,
 "nbformat_minor": 4
}
