{
 "cells": [
  {
   "cell_type": "markdown",
   "metadata": {},
   "source": [
    "# neuralnetworksanddeeplearning\n",
    "\n",
    "http://neuralnetworksanddeeplearning.com/chap1.html\n",
    "\n",
    "Perceptrons were developed in the 1950s and 1960s by the scientist Frank Rosenblatt, inspired by earlier work by Warren McCulloch and Walter Pitts. A perceptron takes several binary inputs, $x_{1},x_{2},…$, and produces a single binary output\n",
    "\n",
    "Sigmoid neurons are similar to perceptrons, but modified so that small changes in their weights and bias cause only a small change in their output. That's the crucial fact which will allow a network of sigmoid neurons to learn. Just like a perceptron, the sigmoid neuron has inputs, $x_{1},x_{2},…$. But instead of being just 0 or 1, these inputs can also take on any values between 0 and 1. \n",
    "\n",
    "Also just like a perceptron, the sigmoid neuron has weights for each input, $w_{1},w_{2},…$, and an overall bias, $b$. But the output is not 0 or 1. Instead, it's $σ(w⋅x+b)$, where $σ$ is called the sigmoid function, and is defined by:\n",
    "\n",
    "$$σ(z) ≡ \\frac{1}{1+e^{−z}}$$\n",
    "\n",
    "Or more explicitly:\n",
    "\n",
    "$$σ(z) ≡ \\frac{1}{1 + \\exp(-\\sum_{j} w_{j} x_{j} - b)}$$\n",
    "\n",
    "In the limit the sigmoid function turns to a heaviside function, the neuron becomes a perceptron.\n"
   ]
  },
  {
   "cell_type": "code",
   "execution_count": 2,
   "metadata": {
    "code_folding": [
     0
    ]
   },
   "outputs": [
    {
     "data": {
      "image/png": "[encoded data removed]",
      "text/plain": [
       "<matplotlib.figure.Figure at 0x1d77fd82d68>"
      ]
     },
     "metadata": {},
     "output_type": "display_data"
    }
   ],
   "source": [
    "# Sigmoid function\n",
    "import matplotlib.pyplot as plt\n",
    "import numpy as np\n",
    "from math import exp\n",
    "\n",
    "xs = np.linspace(-6., 6.)\n",
    "ys = [1./(1 + exp(-x)) for x in xs]\n",
    "\n",
    "fig, ax = plt.subplots()\n",
    "plt.plot(xs, ys)\n",
    "ax.grid()"
   ]
  },
  {
   "cell_type": "markdown",
   "metadata": {},
   "source": [
    "The smoothness of $σ$ means that small changes $Δwj$ in the weights and $Δb$ in the bias will produce a small change $Δoutput$ in the output from the neuron. In fact, calculus tells us that $Δoutput$ is well approximated by\n",
    "$$Δoutput≈ \\sum_{j}\\frac{∂output}{∂w_{j}}Δw_{j} + \\frac{∂output}{∂b}Δb$$\n",
    "\n",
    "This means that $Δoutput$ is a linear function of the changes $Δw_{j}$ and $Δb$ in the weights and bias."
   ]
  },
  {
   "cell_type": "markdown",
   "metadata": {},
   "source": [
    "## The architecture of neural networks\n",
    "\n",
    "The leftmost layer in this network is called the input layer, and the neurons within the layer are called input neurons. The rightmost or output layer contains the output neurons, or, as in this case, a single output neuron. The middle layer is called a hidden layer, since the neurons in this layer are neither inputs nor outputs.\n",
    "\n",
    "While the design of the input and output layers of a neural network is often straightforward, there can be quite an art to the design of the hidden layers.\n",
    "\n",
    "<b>feedforward neural networks</b> - Networks where the output from one layer is used as input to the next layer.\n",
    "\n",
    "However, there are other models of artificial neural networks in which feedback loops are possible. These models are called <b>recurrent neural networks</b>. The idea in these models is to have neurons which fire for some limited duration of time, before becoming quiescent.\n",
    "\n",
    "Recurrent neural nets have been less influential than feedforward networks, in part because the learning algorithms for recurrent nets are (at least to date) less powerful. \n",
    "\n",
    "## A simple network to classify handwritten digits\n",
    "\n",
    "Three-layer neural network:\n",
    "\n",
    "![Image](Images/tikz12.PNG)\n",
    "\n",
    "- Training data for the network will consist of many <b>28 by 28</b> pixel images of scanned handwritten digits, and so the input layer contains 784 = 28×28 neurons.\n",
    "\n",
    "- The input pixels are greyscale, with a value of 0.0 representing white, a value of 1.0 representing black, and in between values representing gradually darkening shades of grey.\n",
    "\n",
    "- The second layer of the network is a hidden layer. We denote the number of neurons in this hidden layer by n, and we'll experiment with different values for n. The example shown illustrates a small hidden layer, containing just n=15 neurons.\n",
    "\n",
    "### MNIST dataset\n",
    "\n",
    "- train-images-idx3-ubyte: training set images \n",
    "- train-labels-idx1-ubyte: training set labels \n",
    "- t10k-images-idx3-ubyte:  test set images \n",
    "- t10k-labels-idx1-ubyte:  test set labels\n",
    "\n",
    "The training set contains 60000 examples, and the test set 10000 examples.\n",
    "\n",
    "The first 5000 examples of the test set are taken from the original NIST training set. The last 5000 are taken from the original NIST test set. The first 5000 are cleaner and easier than the last 5000.\n",
    "\n",
    "## Neural network design\n",
    "\n",
    "We'll use the notation x to denote a training input. It'll be convenient to regard each training input $x$ as a 28×28=784-dimensional vector. \n",
    "\n",
    "Define the quadratic cost function (mean squared error):\n",
    "\n",
    "$$C(w,b) = \\frac{1}{2n}\\sum_{x}\\left|\\left|y(x) - a\\right|\\right|^{2}$$\n",
    "\n",
    "Where $n$ is the total number of training inputs, $a$ is the vector of outputs from the network when $x$ is input, $w$ and $b$ denote the vector of weights and biases respectively.\n",
    "\n",
    "The choice of a quadratic cost function makes it easier to disentangle and optimise improvements from changes in the weights and biases."
   ]
  },
  {
   "cell_type": "markdown",
   "metadata": {},
   "source": [
    "## Gradient descent\n",
    "\n",
    "The gradient vector of the cost function with variables $v$ is given by:\n",
    "\n",
    "$$∇C≡\\left(\\frac{∂C}{∂v_{1}},...,\\frac{∂C}{∂v_{m}}\\right)^{T}$$\n",
    "\n",
    "Choose $Δv$ so as to make $ΔC$ negative. In particular, suppose we choose:\n",
    "\n",
    "$$Δv=−η∇C$$\n",
    "\n",
    "where $η$ is a small, positive parameter (known as the learning rate). This gives us a way of following the gradient to a minimum, even when C is a function of many variables, by repeatedly applying the update rule:\n",
    "\n",
    "$$v→v′=v−η∇C$$\n",
    "\n",
    "Restating the gradient descent update rule, with the weights and biases replacing the variables $v_{j}$ we can write:\n",
    "\n",
    "$$w_{k}→w^{'}_{k}=w_{k} − η\\frac{∂C}{∂w_{k}}$$\n",
    "$$b_{l}→b^{'}_{l}=b_{l} − η\\frac{∂C}{∂b_{l}}$$\n",
    "\n",
    "\n",
    "### Stochastic gradient descent\n",
    "Computing the gradient for large numbers of inputs can be time consuming. An idea called <b>stochastic gradient descent</b> can be used to speed up learning. The idea is to estimate the gradient $∇C$ by computing $∇C_{x}$ for a small sample of randomly chosen training inputs. By averaging over this small sample it turns out that we can quickly get a good estimate of the true gradient $∇C$, and this helps speed up gradient descent, and thus learning. Stochastic gradient descent works by randomly picking out a small number $m$ of randomly chosen training inputs. We'll label those random training inputs $X_{1},X_{2},…,X_{m}$, and refer to them as a mini-batch.\n",
    "\n",
    "Stochastic gradient descent works by picking out a randomly chosen mini-batch of training inputs, and training with those,\n",
    "\n",
    "$$w_{k}→w^{'}_{k}=w_{k} − \\frac{η}{m}\\sum_{j}\\frac{∂C_{X_{j}}}{∂w_{k}}$$\n",
    "$$b_{l}→b^{'}_{l}=b_{l} − \\frac{η}{m}\\sum_{j}\\frac{∂C_{X_{j}}}{∂b_{l}}$$\n",
    "\n",
    "where the sums are over all the training examples $X_{j}$ in the current mini-batch. Then we pick out another randomly chosen mini-batch and train with those. And so on, until we've exhausted the training inputs, which is said to complete an <b>epoch</b> of training. At that point we start over with a new training epoch."
   ]
  },
  {
   "cell_type": "markdown",
   "metadata": {},
   "source": [
    "## Neural network code (network.py)\n",
    "\n",
    "Constructor is array with the size defining the number of layers and the values representing the number of neurons per layer, for example a 2-3-1 network is defined:\n",
    "\n",
    "```python\n",
    "net = Network([2, 3, 1])\n",
    "```\n",
    "\n",
    "The biases and weights in the Network object are all initialized randomly, using a Gaussian distribution with mean 0 and standard deviation 1. In this example, the weights array is a matrix such that $w_{jk}$ is the weight for the connection between the k$^{th}$ neuron in the second layer, and the j$^{th}$ neuron in the third layer. The vector of activations of the third layer of neurons is given by:\n",
    "$$a′=σ(wa+b)$$\n",
    "\n",
    "The is used in the <i>feedforward</i> method.\n",
    "\n",
    "Learning is done via a stochastic gradient descent algorithm, defined in the method <i>SGD</i>, which takes as inputs: the training data array, number of epochs, mini-batch size, learning rate $\\eta$ and test data (optional).\n",
    "\n",
    "- The training_data is a list of tuples $(x, y)$ representing the training inputs and corresponding desired outputs.\n",
    "- If the optional argument test_data is supplied, then the program will evaluate the network after each epoch of training, and print out partial progress. This is useful for tracking progress, but slows things down substantially.\n",
    "\n",
    "The code works as follows:\n",
    "\n",
    "- In each epoch, it starts by randomly shuffling the training data, and then partitions it into mini-batches of the appropriate size. \n",
    "- Then for each mini_batch we apply a single step of gradient descent. This is done by the code <i>self.update_mini_batch(mini_batch, eta)</i>, which updates the network weights and biases according to a single iteration of gradient descent.\n",
    "\n",
    "The <i>update_mini_batch</i> method makes use of the <i>backpropagation</i> method which determines the gradients of the cost functions.\n",
    "\n",
    "### Output\n",
    "\n",
    "net.weights[0] = (30, 784)\n",
    "net.weights[1] = (10, 30)\n",
    "\n",
    "net.bias[0] = (30, 1)\n",
    "net.bias[1] = (10, 1)\n",
    "\n"
   ]
  },
  {
   "cell_type": "markdown",
   "metadata": {},
   "source": [
    "# Chapter 2 - Backpropagation\n",
    "\n",
    "\n"
   ]
  },
  {
   "cell_type": "markdown",
   "metadata": {},
   "source": [
    "At the heart of backpropagation is an expression for the partial derivative $∂C/∂w$ of the cost function $C$ with respect to any weight $w$ (or bias $b$) in the network. The expression tells us how quickly the cost changes when we change the weights and biases.\n",
    "\n",
    "In the following, $w^{l}_{jk}$ denotes the weight for the connection from the $k^{th}$ neuron in the $(l−1)^{th}$ layer to the $j^{th}$ neuron in the  $l^{th}$ layer. Similarly we use $b^{l}_{j}$ for the bias of the $j^{th}$ neuron in the $l^{th}$ layer. And we use $a^{l}_{j}$ for the activation of the $j^{th}$ neuron in the $l^{th}$ layer. \n",
    "\n",
    "![image](images/CH2_1.PNG)\n",
    "\n",
    "The activation $a^{l}_{j}$ of the $j^{th}$ neuron in the $l^{th}$ layer is related to the activations in the $(l−1)^{th}$ layer by the equation:\n",
    "\n",
    "$$a^{l}_{j} = σ\\left(\\sum_{k} w^{l}_{jk} a^{l-1}_{k} + b^{l}_{j}\\right)$$\n",
    "\n",
    "Vectorisation notation:\n",
    "\n",
    "$$σ(v) = σ(v_{j})$$\n",
    "\n",
    "Enables a simplification to the following:\n",
    "\n",
    "$$a^{l} = σ\\left(w^{l} a^{l-1} + b^{l}\\right)$$\n",
    "\n",
    "Define the weighted input to neurons in layer $l$: $z^{l} = w^{l} a^{l-1} + b^{l}$"
   ]
  },
  {
   "cell_type": "markdown",
   "metadata": {},
   "source": [
    "## Cost function and backpropagation\n",
    "\n",
    "Two assumptions:\n",
    "- The cost function can be written as an average $C= \\frac{1}{n} \\sum_{x}C_{x}$ over cost functions $C_{x}$.\n",
    "- The cost is that it can be written as a function of the outputs from the neural network.\n",
    "\n",
    "Hadamard product: $s⊙t$ is a elementwise multiplication of vectors defined:\n",
    "\n",
    "$$(s⊙t)_{j} = s_{j}t_{j}$$\n",
    "\n",
    "\n",
    "Error $δ_{lj}$ of neuron $j$ in layer $l$ is given by:\n",
    "\n",
    "$$δ^{l}_{j} ≡ \\frac{∂C}{∂z^{l}_{j}}$$\n",
    "\n",
    "<b>The error in the output layer, $δ^{L}$</b>:\n",
    "\n",
    "$$δ^{L}_{j} =  \\frac{∂C}{∂a^{L}_{j}}σ′(z^{L}_{j})$$\n",
    "\n",
    "Which can be expressed more succinctly as:\n",
    "\n",
    "$$δ^{L} = ∇_{a}C⊙σ′(z^{L})$$\n",
    "\n",
    "<b>Equation for the error δl in terms of the error in the next layer, δl+1</b>:\n",
    "\n",
    "$$δ^{l}=((w^{l+1})^{T}δ^{l+1})⊙σ′(z^{l})$$"
   ]
  }
 ],
 "metadata": {
  "kernelspec": {
   "display_name": "Python 3",
   "language": "python",
   "name": "python3"
  },
  "language_info": {
   "codemirror_mode": {
    "name": "ipython",
    "version": 3
   },
   "file_extension": ".py",
   "mimetype": "text/x-python",
   "name": "python",
   "nbconvert_exporter": "python",
   "pygments_lexer": "ipython3",
   "version": "3.6.7"
  },
  "latex_envs": {
   "LaTeX_envs_menu_present": true,
   "autoclose": false,
   "autocomplete": true,
   "bibliofile": "biblio.bib",
   "cite_by": "apalike",
   "current_citInitial": 1,
   "eqLabelWithNumbers": true,
   "eqNumInitial": 1,
   "hotkeys": {
    "equation": "Ctrl-E",
    "itemize": "Ctrl-I"
   },
   "labels_anchors": false,
   "latex_user_defs": false,
   "report_style_numbering": false,
   "user_envs_cfg": false
  },
  "toc": {
   "nav_menu": {},
   "number_sections": true,
   "sideBar": true,
   "skip_h1_title": false,
   "title_cell": "Table of Contents",
   "title_sidebar": "Contents",
   "toc_cell": false,
   "toc_position": {},
   "toc_section_display": true,
   "toc_window_display": false
  }
 },
 "nbformat": 4,
 "nbformat_minor": 4
}
