{
 "cells": [
  {
   "cell_type": "markdown",
   "metadata": {
    "collapsed": true
   },
   "source": [
    "# Chapter 1\n",
    "\n",
    "Stirling's approximation: $x! \\approx x^{x}e^{-x}$\n",
    "\n",
    "Binomial coefficient: $\\binom{N}{r} = \\frac{N!}{(N - r)!r!}$\n",
    "\n",
    "For any random variables $x, y$ that are independent: \n",
    " $$E[x + y] = E[x] + E[y]\\\\\n",
    " var[x + y] = var[x] + var[y]$$\n",
    "\n",
    "\n",
    "\n",
    "\n"
   ]
  },
  {
   "cell_type": "markdown",
   "metadata": {},
   "source": [
    "## Binomial distribution\n",
    "\n",
    "$$P(r | f, N) = \\binom{N}{r}f^{r}(1 - f)^{N - r}$$\n",
    "$$var[r] = Nf(1-f)$$\n"
   ]
  },
  {
   "cell_type": "markdown",
   "metadata": {},
   "source": [
    "## Poisson distribution\n",
    "\n",
    "$$P(r | \\lambda) = e^{-\\lambda}\\frac{\\lambda^{r}}{r!}$$\n",
    "$$var[r] = Nf(1-f)$$\n"
   ]
  },
  {
   "cell_type": "markdown",
   "metadata": {},
   "source": [
    "Binary entropy function:\n",
    "$$H_{2}(x) = x \\log{\\frac{1}{x}} + (1 - x)\\log{\\frac{1}{(1-x)}}$$"
   ]
  },
  {
   "cell_type": "markdown",
   "metadata": {},
   "source": [
    "# Chapter 2\n",
    "\n",
    "An <b>ensemble</b> $X$ is a triple $(x,A_{X},P_{X})$, where the outcome $x$ is the value of a random variable, which takes on one of a set of possible values,\n",
    "$A_{X} = \\{a_{1}, a_{2}, ... a_{I}\\}$, having probabilities $P_{X} = \\{p_{1}, p_{2}, ..., p_{I}\\}$, with $P(x=a_{i}) = p_{i}$, $p_{i} > 0$ and $\\sum_{a_{i} \\in A_{X}} P(x=a_{i}) = 1$.\n",
    "\n",
    "<b>Probability of a subset</b>. If $T$ is a subset of $A_{X}$ then:\n",
    "$$P(T) = P(x \\in T) = \\sum_{a_{i} \\in T} P(x=a_{i})$$.\n",
    "\n",
    "A <b>joint ensemble</b> $XY$ is an ensemble in which each outcome is an ordered\n",
    "pair $x, y$ with $x \\in A_{X} = \\{a_{1}, ... a_{I}\\}$ and $y \\in A_{X} = \\{b_{1}, ... b_{J}\\}$.\n",
    "We call $P(x, y)$ the joint probability of $x$ and $y$.\n",
    "\n",
    "<b>Marginal probability</b>:\n",
    "\n",
    "$$P(x - a_{i}) = \\sum_{y \\in A_{Y}} P(x = a_{i}, y) $$\n",
    "\n",
    "<b>Conditional probability</b>:\n",
    "\n",
    "$$P(x=a_{i} | y=b_{j}) = \\frac{P(x=a_{i}, y=b_{j})}{P(y=b_{j})}$$\n",
    "\n",
    "In the following, $H$ denotes assumptions on which\n",
    "the probabilities are based.\n",
    "\n",
    "<b>Product rule</b>: $P(x, y| H) = P(x | y, H)P(y |H) = P(y | x,H)P(x|H)$\n",
    "\n",
    "<b>Sum rule</b>:  $P(x | H) = \\sum{y} P(x, y |H) = \\sum_{y} P(x| y, H)P(y|H)$\n",
    "\n",
    "$$P(x) = \\sum_{y \\in A_{Y}} P(x|y) P(y)$$\n",
    "\n",
    "<b>Bayes' theorem</b> { obtained from the product rule:\n",
    "$$P(y | x, H) = \\frac{P(x | y,H) P(y | H)}{P(x | H)} = \\frac{P(x | y, H) P(y | H)}{\\sum_{y'} P(x | y', H) P(y' |H)}$$\n",
    "\n",
    "\n",
    "<b>Independence</b>: Two random variables X and Y are independent if and only if $P(x, y) = P(x)P(y)$.\n"
   ]
  },
  {
   "cell_type": "code",
   "execution_count": 4,
   "metadata": {
    "code_folding": [
     0
    ]
   },
   "outputs": [
    {
     "data": {
      "image/png": "[encoded data removed]",
      "text/plain": [
       "<matplotlib.figure.Figure at 0x1dd0c575fd0>"
      ]
     },
     "metadata": {},
     "output_type": "display_data"
    }
   ],
   "source": [
    "# Example 2.3 (page 37 PDF)\n",
    "# Compute the probability of a true positive test given a specified test reliability\n",
    "\n",
    "import math\n",
    "import numpy as np\n",
    "import matplotlib.pyplot as plt\n",
    "\n",
    "def true_positive(p_positive_diease, p_negative_nodiease, p_diease):\n",
    "    return (p_positive_diease * p_diease)/((1 - p_negative_nodiease)*(1 - p_diease) + (p_positive_diease)*(p_diease))\n",
    "    \n",
    "p_positive_diease   = 0.95\n",
    "p_negative_nodiease = 0.95\n",
    "p_diease            = 0.01\n",
    "xMin, xMax, N = 0, 1, 100\n",
    "\n",
    "\n",
    "x = np.linspace(xMin, xMax, N)\n",
    "y = [true_positive(x_i, x_i, p_diease) for x_i in x]\n",
    "plt.plot(x,y,'b')\n",
    "plt.xlabel('Reliability')\n",
    "plt.ylabel('True positive')\n",
    "plt.show()"
   ]
  },
  {
   "cell_type": "markdown",
   "metadata": {},
   "source": [
    "\n",
    "### Forward and inverse probabilities\n",
    "\n",
    "Forward probability problems involve a generative model that describes a process\n",
    "that is assumed to give rise to some data;.\n",
    "\n",
    "Inverse probability problems involve a\n",
    "generative model of a process, but instead of computing the probability distribution\n",
    "of some quantity produced by the process, we compute the conditional\n",
    "probability of one or more of the unobserved variables in the process, given\n",
    "the observed variables. This invariably requires the use of Bayes' theorem.\n",
    "\n",
    "\n",
    "If <b>$\\theta$</b> denotes the unknown parameters, $D$ denotes the data, and $H$ denotes\n",
    "the overall hypothesis space, the general equation:\n",
    "\n",
    "$$P(\\theta | D, H) = \\frac{P(D | \\theta, H)P(\\theta|H)}{ P(D | H)}$$\n",
    "\n",
    "is written:\n",
    "\n",
    "$$posterior = \\frac{likelihood \\times prior}{evidence}$$"
   ]
  },
  {
   "cell_type": "markdown",
   "metadata": {},
   "source": [
    "The <b>likelihood principle</b>: given a generative model for data $d$ given\n",
    "parameters $\\theta$, $P(d | \\theta)$, and having observed a particular outcome $d_{1}$, all inferences and predictions should depend only on the function $P(d_{1} | \\theta)$.\n",
    "\n",
    "### Definition of entropy and related functions\n",
    "\n",
    "The Shannon information content of an outcome $x$ is defined to be:\n",
    "$$h(x) = log_{2} \\frac{1}{P(x)}$$.\n",
    "\n",
    "The entropy of an ensemble $X$ is defined to be the average Shannon information content of an outcome:\n",
    "$$H(X) = \\sum_{x \\in A_{X}} P(x) log\\frac{1}{P(x)}."
   ]
  },
  {
   "cell_type": "markdown",
   "metadata": {},
   "source": [
    "# Chapter 3 - More about Inference\n",
    "\n"
   ]
  },
  {
   "cell_type": "markdown",
   "metadata": {},
   "source": [
    "Given data $D$, we can compare alternative assumptions $H$ using Bayes' theorem:\n",
    "$$P(H|D,I) = P(D |H, I)P(H|I)P(D|I)$$\n",
    "\n",
    "where I denotes the highest assumptions, which we are not questioning.\n",
    "\n",
    "Rather than choosing one particular\n",
    "assumption $H^{*}$ and working out our predictions about some quantity $t$, $P(t |D, H^{*}, I)$, we obtain predictions that take into account our uncertainty\n",
    "about $H$ by using the sum rule:\n",
    "$$P(t |D, I) = \\sum_{H} P(t |D, H, I)P(H|D,I)$$\n",
    "\n",
    "<b> Model comparison as inference</b>\n",
    "\n",
    "In order to perform model comparison, we write down Bayes' theorem again,\n",
    "but this time with a different argument on the left-hand side. We wish to\n",
    "know how probable $H_{1}$ is given the data. By Bayes' theorem,\n",
    "\n",
    "$$P(H_{1} | s, F) = \\frac{P(s | F,H_{1})P(H_{1})}{P(s | F)}$$\n",
    "\n",
    "Similarly, the posterior probability of $H_{0}$ is\n",
    "\n",
    "$$P(H_{0} | s, F) = \\frac{P(s | F,H_{0})P(H_{0})}{P(s | F)}$$\n",
    "\n",
    "The normalizing constant in both cases is $P(s | F)$, which is the total probability of getting the observed data. If $H_{1}$ and $H_{0}$ are the only models under\n",
    "consideration, this probability is given by the sum rule:\n",
    "$$P(s j F) = P(s | F, H_{1})P(H_{1}) + P(s | F, H_{0})P(H_{0})$$\n",
    "\n",
    "The quantity $P(s | F, H_{1})$ is a measure of how much the data favour $H_{1}$, and we\n",
    "call it the evidence for model $H_{1}$.\n",
    "\n",
    "The log evidence ratio is given by: $$log \\frac{P(s | F,H_{1})}{P(s | F,H_{0})}$$\n",
    "\n",
    "If $H_{1}$ is more probable the ratio is positive, otherwise if $H_{0}$ is more probable the ratio is negative.\n"
   ]
  },
  {
   "cell_type": "markdown",
   "metadata": {},
   "source": [
    "# Chapter 4\n",
    "\n",
    "Mean and variance of a real random variable are $E[u] = \\overline{u} = \\sum_{u} P(u)u$ and $var(u) = E[(u - \\overline{u})^{2}] = \\sum_{u} P(u)(u - \\overline{u})^{2}$"
   ]
  },
  {
   "cell_type": "markdown",
   "metadata": {},
   "source": [
    "# Chapter 20 - Clustering\n",
    "\n",
    "- Mixture density modelling: classification of data according to attributes\n",
    "\n",
    "- Vector quantization\n",
    "\n",
    "The K-means algorithm is an algorithm for putting N data points in an I-dimensional space into K clusters. Each cluster is parameterized by a vector $m(k)$ called its mean. This results in a partitioning of the data space into Voronoi cells.\n",
    "\n",
    "![algorithm](Images/K_Means.JPG)"
   ]
  },
  {
   "cell_type": "markdown",
   "metadata": {},
   "source": [
    "# Chapter 22 - Maximum Likelihood and Clustering (pg 312)\n",
    "\n",
    "\n"
   ]
  },
  {
   "cell_type": "code",
   "execution_count": null,
   "metadata": {},
   "outputs": [],
   "source": [
    "# Chapter 23 - Useful Probability Distributions (pg323)\n",
    "# Chapter 24 - Exact Marginalization (pg 331)\n",
    "# Chapter 28 - Model Comparison and Occam's Razor (pg 355)\n",
    "# Chapter 29 - Monte Carlo Methods (pg 369)\n",
    "# Chapter 30 - Efficient Monte Carlo Methods (pg 399)\n",
    "\n",
    "\n"
   ]
  },
  {
   "cell_type": "code",
   "execution_count": 1,
   "metadata": {},
   "outputs": [],
   "source": [
    "# Chapter 31 - Ising Models (pg 411)\n",
    "# Chapter 32 - Exact Monte Carlo Sampling (pg 425)\n",
    "# Chapter 33 - Variational Methods (pg 434)\n",
    "# Chapter 34 - Independent Component Analysis and Latent Variable Modelling (pg 449)\n",
    "# Chapter 37 - Bayesian Inference and Sampling Theory (pg 469)"
   ]
  },
  {
   "cell_type": "code",
   "execution_count": null,
   "metadata": {},
   "outputs": [],
   "source": [
    "\n",
    "\n",
    "# Appendix - (pg 610)"
   ]
  }
 ],
 "metadata": {
  "author": "mes prior",
  "kernelspec": {
   "display_name": "Python 3",
   "language": "python",
   "name": "python3"
  },
  "language_info": {
   "codemirror_mode": {
    "name": "ipython",
    "version": 3
   },
   "file_extension": ".py",
   "mimetype": "text/x-python",
   "name": "python",
   "nbconvert_exporter": "python",
   "pygments_lexer": "ipython3",
   "version": "3.6.4"
  },
  "latex_envs": {
   "LaTeX_envs_menu_present": true,
   "autoclose": false,
   "autocomplete": true,
   "bibliofile": "biblio.bib",
   "cite_by": "apalike",
   "current_citInitial": 1,
   "eqLabelWithNumbers": true,
   "eqNumInitial": 1,
   "hotkeys": {
    "equation": "Ctrl-E",
    "itemize": "Ctrl-I"
   },
   "labels_anchors": false,
   "latex_user_defs": false,
   "report_style_numbering": false,
   "user_envs_cfg": false
  },
  "toc": {
   "nav_menu": {},
   "number_sections": true,
   "sideBar": true,
   "skip_h1_title": false,
   "title_cell": "Table of Contents",
   "title_sidebar": "Contents",
   "toc_cell": false,
   "toc_position": {},
   "toc_section_display": true,
   "toc_window_display": false
  }
 },
 "nbformat": 4,
 "nbformat_minor": 2
}
