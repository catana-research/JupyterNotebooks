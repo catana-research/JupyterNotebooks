{
 "cells": [
  {
   "cell_type": "markdown",
   "metadata": {},
   "source": [
    "# Object Oriented Programming"
   ]
  },
  {
   "cell_type": "markdown",
   "metadata": {},
   "source": [
    "# Major features of OOP\n",
    "\n",
    "## Abstraction\n",
    "Ignoring irrelevant features, properties or functions and emphasizing relevant ones.\n",
    "\n",
    "## Polymorphism\n",
    "Ability to take more than one form. A child class can override some of the behaviours of the parent class. \n",
    "\n",
    "Polymorphism allows abstract operations to be defined and used. Abstract operations are defined in the base class' interface and implemented in the child classes.\n",
    "\n",
    "## Inheritance\n",
    "Inheritance is a fundamental principle of object-oriented programming. It allows a class to \"inherit\" (behavior or characteristics) of another, more general class. \n",
    "\n",
    "Benefits:\n",
    "- Extensibility\n",
    "- Reusability\n",
    "- Provides abstraction\n",
    "- Eliminates redundant code\n",
    "\n",
    "## Encapsulation\n",
    "Hides implementation details in our classes and provide a clear and simple interface for working with them.\n",
    "\n",
    "Benefits:\n",
    "- Readuces complexity\n",
    "- Changing internals foes not affect interfaces\n",
    "- Enables additional logic to be performed when accessing data, e.g. validation.\n",
    "- Easier maintenance"
   ]
  },
  {
   "cell_type": "markdown",
   "metadata": {},
   "source": [
    "## Cohesion and Coupling\n",
    "Cohesion describes how closely all the routines in a class or all the code in a routine support a central purpose. Classes must contain strongly related functionality and aim to be used for a single purpose.\n",
    "\n",
    "Coupling describers how tightly a class or routine is related to other classes or routines. Coupling must be kept loose. Modules must depend little on each other. One module must be easily used by other modules."
   ]
  },
  {
   "cell_type": "markdown",
   "metadata": {},
   "source": []
  },
  {
   "cell_type": "markdown",
   "metadata": {},
   "source": []
  },
  {
   "cell_type": "markdown",
   "metadata": {},
   "source": []
  },
  {
   "cell_type": "code",
   "execution_count": null,
   "metadata": {},
   "outputs": [],
   "source": []
  }
 ],
 "metadata": {
  "kernelspec": {
   "display_name": "Python 3",
   "language": "python",
   "name": "python3"
  },
  "language_info": {
   "codemirror_mode": {
    "name": "ipython",
    "version": 3
   },
   "file_extension": ".py",
   "mimetype": "text/x-python",
   "name": "python",
   "nbconvert_exporter": "python",
   "pygments_lexer": "ipython3",
   "version": "3.6.5"
  },
  "latex_envs": {
   "LaTeX_envs_menu_present": true,
   "autoclose": true,
   "autocomplete": true,
   "bibliofile": "biblio.bib",
   "cite_by": "apalike",
   "current_citInitial": 1,
   "eqLabelWithNumbers": true,
   "eqNumInitial": 1,
   "hotkeys": {
    "equation": "Ctrl-E",
    "itemize": "Ctrl-I"
   },
   "labels_anchors": false,
   "latex_user_defs": false,
   "report_style_numbering": false,
   "user_envs_cfg": false
  }
 },
 "nbformat": 4,
 "nbformat_minor": 2
}
