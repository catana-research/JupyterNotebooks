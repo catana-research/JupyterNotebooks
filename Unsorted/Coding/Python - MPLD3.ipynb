{
 "cells": [
  {
   "cell_type": "markdown",
   "metadata": {},
   "source": [
    "# Python - MPLD3"
   ]
  },
  {
   "cell_type": "markdown",
   "metadata": {
    "heading_collapsed": true
   },
   "source": [
    "## Examples\n",
    "\n",
    "My Drive\\Desktop\\NewCode\\MPLD3"
   ]
  },
  {
   "cell_type": "markdown",
   "metadata": {},
   "source": [
    "## Fix 'is not JSON serializable' error\n",
    "\n",
    "https://github.com/mpld3/mpld3/issues/434\n",
    "\n",
    "Modifiy: Anaconda3\\Lib\\site-packages\\mpld3\\_display.py\n",
    "\n",
    "```python\n",
    "class NumpyEncoder(json.JSONEncoder):\n",
    "    \"\"\" Special json encoder for numpy types \"\"\"\n",
    "    def default(self, obj):\n",
    "        if isinstance(obj, (numpy.int_, numpy.intc, numpy.intp, numpy.int8,\n",
    "            numpy.int16, numpy.int32, numpy.int64, numpy.uint8,\n",
    "            numpy.uint16,numpy.uint32, numpy.uint64)):\n",
    "            return int(obj)\n",
    "        elif isinstance(obj, (numpy.float_, numpy.float16, numpy.float32, \n",
    "            numpy.float64)):\n",
    "            return float(obj)\n",
    "        elif isinstance(obj,(numpy.ndarray,)): #### This is the fix\n",
    "            return obj.tolist()\n",
    "        return json.JSONEncoder.default(self, obj)\n",
    "    ```"
   ]
  }
 ],
 "metadata": {
  "kernelspec": {
   "display_name": "Python 3",
   "language": "python",
   "name": "python3"
  },
  "language_info": {
   "codemirror_mode": {
    "name": "ipython",
    "version": 3
   },
   "file_extension": ".py",
   "mimetype": "text/x-python",
   "name": "python",
   "nbconvert_exporter": "python",
   "pygments_lexer": "ipython3",
   "version": "3.6.5"
  },
  "latex_envs": {
   "LaTeX_envs_menu_present": true,
   "autoclose": true,
   "autocomplete": true,
   "bibliofile": "biblio.bib",
   "cite_by": "apalike",
   "current_citInitial": 1,
   "eqLabelWithNumbers": true,
   "eqNumInitial": 1,
   "hotkeys": {
    "equation": "Ctrl-E",
    "itemize": "Ctrl-I"
   },
   "labels_anchors": false,
   "latex_user_defs": false,
   "report_style_numbering": false,
   "user_envs_cfg": false
  }
 },
 "nbformat": 4,
 "nbformat_minor": 2
}
