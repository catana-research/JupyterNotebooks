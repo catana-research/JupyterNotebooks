{
 "cells": [
  {
   "cell_type": "markdown",
   "metadata": {},
   "source": [
    "# Python testing"
   ]
  },
  {
   "cell_type": "markdown",
   "metadata": {},
   "source": [
    "- https://docs.pytest.org/en/latest/goodpractices.html\n",
    "- https://www.fullstackpython.com/testing.html\n",
    "- http://python-3-patterns-idioms-test.readthedocs.io/en/latest/UnitTesting.html\n",
    "- http://docs.python-guide.org/en/latest/writing/tests/\n",
    "- http://www.diveintopython3.net/unit-testing.html\n",
    "- https://jeffknupp.com/blog/2013/12/09/improve-your-python-understanding-unit-testing/\n",
    "- http://www.drdobbs.com/testing/unit-testing-with-python/240165163\n",
    "\n"
   ]
  },
  {
   "cell_type": "markdown",
   "metadata": {},
   "source": [
    "## Guidelines\n",
    "\n",
    "- A testing unit should focus on one tiny bit of functionality and prove it correct.\n",
    "- Each test unit must be _atomic_: fully independent, be able to run alone and function regardless of the order that they are called. The implication of this rule is that each test must be loaded with a fresh dataset and may have to do some cleanup afterwards. This is usually handled by ```setUp()``` and ```tearDown()``` methods.\n",
    "- Try hard to make tests that run fast. If one single test needs more than a few milliseconds to run, development will be slowed down or the tests will not be run as often as is desirable. Use mocking or keep heavier tests in a separate test suite that is run by some scheduled task, and run all other tests as often as needed.\n",
    "- Learn your tools and learn how to run a single test or a test case. Then, when developing a function inside a module, run this function’s tests frequently, ideally automatically when you save the code.\n",
    "- Always run the full test suite before a coding session, and run it again after. This will give you more confidence that you did not break anything in the rest of the code.\n",
    "- It is a good idea to implement a hook that runs all tests before pushing code to a shared repository.\n",
    "- The first step when you are debugging your code is to write a new test pinpointing the bug, bug catching tests are among the most valuable pieces of code in your project.\n",
    "- Use long and descriptive names for testing functions.\n",
    "- When resolving errors or changing behaviors, the testing code will be read as much as or even more than the running code. A unit test whose purpose is unclear is not very helpful in this case.\n",
    "\n",
    "In summary, a good test is (https://late.am/post/2015/04/20/good-test-bad-test.html):\n",
    "- Fast\n",
    "- Selective - One test per test case, helps to diagnose what in particular failed.\n",
    "- Repeatable\n",
    "- Reliable \n",
    "- Helpful"
   ]
  },
  {
   "cell_type": "markdown",
   "metadata": {},
   "source": [
    "## Unit testing\n",
    "\n",
    "```python\n",
    "# UnitTesting/UnitTest.py\n",
    "# The basic unit testing class\n",
    "\n",
    "class UnitTest:\n",
    "    testID = \"\"\n",
    "    errors = []\n",
    "    # Override cleanup() if test object creation allocates non-memory\n",
    "    # resources that must be cleaned up:\n",
    "    def cleanup(self): pass\n",
    "    # Verify a condition is true:\n",
    "    def affirm(condition):\n",
    "        if(!condition)\n",
    "            UnitTest.errors.append(\"failed: \" + UnitTest.testID)\n",
    "```"
   ]
  },
  {
   "cell_type": "markdown",
   "metadata": {},
   "source": [
    "## Test APIs\n",
    "\n",
    "### Unittest\n",
    "\n",
    "Base Python test API\n",
    "\n",
    "https://docs.python.org/3/library/unittest.html\n",
    "\n",
    "```python\n",
    "import unittest\n",
    "\n",
    "def fun(x):\n",
    "    return x + 1\n",
    "\n",
    "class MyTest(unittest.TestCase):\n",
    "    def test(self):\n",
    "        self.assertEqual(fun(3), 4)\n",
    "\n",
    "```\n",
    "\n",
    "\n",
    "### Py.test (preferred)\n",
    "\n",
    "py.test is a no-boilerplate alternative to Python’s standard unittest module.\n",
    "https://docs.pytest.org/en/latest/ \n",
    "\n",
    "```python\n",
    "# content of test_sample.py\n",
    "def func(x):\n",
    "    return x + 1\n",
    "\n",
    "def test_answer():\n",
    "    assert func(3) == 5\n",
    "```\n",
    "\n",
    "## Hypothesis\n",
    "\n",
    "https://hypothesis.readthedocs.io/en/latest/\n",
    "\n",
    "Hypothesis is a library which lets you write tests that are parametrized by a source of examples. It then generates simple and comprehensible examples that make your tests fail, letting you find more bugs with less work.\n",
    "\n",
    "For example, testing lists of floats will try many examples, but report the minimal example of each bug (distinguished exception type and location):\n",
    "\n",
    "```python\n",
    "@given(lists(floats(allow_nan=False, allow_infinity=False), min_size=1))\n",
    "def test_mean(xs):\n",
    "    mean = sum(xs) / len(xs)\n",
    "    assert min(xs) <= mean(xs) <= max(xs)\n",
    "```\n",
    "\n",
    "Which brings the error:\n",
    "\n",
    "```python\n",
    "Falsifying example: test_mean(\n",
    "    xs=[1.7976321109618856e+308, 6.102390043022755e+303]\n",
    ")\n",
    "```\n",
    "\n",
    "\n",
    "Hypothesis is practical as well as very powerful, and will often find bugs that escaped all other forms of testing. It integrates well with py.test, and has a strong focus on usability in both simple and advanced scenarios."
   ]
  },
  {
   "cell_type": "code",
   "execution_count": null,
   "metadata": {},
   "outputs": [],
   "source": []
  }
 ],
 "metadata": {
  "kernelspec": {
   "display_name": "Python 3",
   "language": "python",
   "name": "python3"
  },
  "language_info": {
   "codemirror_mode": {
    "name": "ipython",
    "version": 3
   },
   "file_extension": ".py",
   "mimetype": "text/x-python",
   "name": "python",
   "nbconvert_exporter": "python",
   "pygments_lexer": "ipython3",
   "version": "3.6.7"
  },
  "latex_envs": {
   "LaTeX_envs_menu_present": true,
   "autoclose": true,
   "autocomplete": true,
   "bibliofile": "biblio.bib",
   "cite_by": "apalike",
   "current_citInitial": 1,
   "eqLabelWithNumbers": true,
   "eqNumInitial": 1,
   "hotkeys": {
    "equation": "Ctrl-E",
    "itemize": "Ctrl-I"
   },
   "labels_anchors": false,
   "latex_user_defs": false,
   "report_style_numbering": false,
   "user_envs_cfg": false
  },
  "toc": {
   "nav_menu": {},
   "number_sections": true,
   "sideBar": true,
   "skip_h1_title": false,
   "title_cell": "Table of Contents",
   "title_sidebar": "Contents",
   "toc_cell": false,
   "toc_position": {},
   "toc_section_display": true,
   "toc_window_display": false
  }
 },
 "nbformat": 4,
 "nbformat_minor": 4
}
