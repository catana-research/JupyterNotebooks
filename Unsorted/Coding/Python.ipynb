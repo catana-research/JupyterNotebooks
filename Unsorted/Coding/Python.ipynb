{
 "cells": [
  {
   "cell_type": "markdown",
   "metadata": {},
   "source": [
    "# Python"
   ]
  },
  {
   "cell_type": "markdown",
   "metadata": {},
   "source": [
    "## Further reading\n",
    "\n",
    "https://techdevguide.withgoogle.com/\n",
    "https://github.com/vinta/awesome-python\n",
    "\n"
   ]
  },
  {
   "cell_type": "markdown",
   "metadata": {},
   "source": [
    "### Nested Functions\n",
    "Because of the first-class nature of functions in Python, you can define functions inside other functions. Such functions are called nested functions. The child functions are only in scope inside the parent function and cannot be called outside."
   ]
  },
  {
   "cell_type": "code",
   "execution_count": 3,
   "metadata": {},
   "outputs": [
    {
     "name": "stdout",
     "output_type": "stream",
     "text": [
      "Printing from the parent() function.\n",
      "Printing from the first_child() function.\n",
      "Printing from the second_child() function.\n"
     ]
    }
   ],
   "source": [
    "def parent():\n",
    "    print(\"Printing from the parent() function.\")\n",
    "\n",
    "    def first_child():\n",
    "        return \"Printing from the first_child() function.\"\n",
    "\n",
    "    def second_child():\n",
    "        return \"Printing from the second_child() function.\"\n",
    "\n",
    "    print(first_child())\n",
    "    print(second_child())\n",
    "    pass\n",
    "\n",
    "parent()"
   ]
  },
  {
   "cell_type": "markdown",
   "metadata": {
    "heading_collapsed": true
   },
   "source": [
    "## Decorators\n",
    "\n",
    "Decorators allow you to inject or modify code in functions or classes. The @ indicates the application of the decorator.\n",
    "\n",
    "\n",
    "### Function decorators\n",
    "\n",
    "A function decorator is applied to a function definition by placing it on the line before that function definition begins.\n",
    "\n",
    "```python\n",
    "# PythonDecorators/my_decorator.py\n",
    "class my_decorator(object):\n",
    "\n",
    "    def __init__(self, f):\n",
    "        print(\"inside my_decorator.__init__()\")\n",
    "        f() # Prove that function definition has completed\n",
    "\n",
    "    def __call__(self):\n",
    "        print(\"inside my_decorator.__call__()\")\n",
    "\n",
    "@my_decorator\n",
    "def aFunction():\n",
    "    print(\"inside aFunction()\")\n",
    "\n",
    "print(\"Finished decorating aFunction()\")\n",
    "\n",
    "aFunction()\n",
    "```\n",
    "When you run this code, you see:\n",
    "```python\n",
    "inside my_decorator.__init__()\n",
    "inside aFunction()\n",
    "Finished decorating aFunction()\n",
    "inside my_decorator.__call__()\n",
    "```\n",
    "\n",
    "The @ is just a little syntax sugar meaning “pass a function object through another function and assign the result to the original function.”  It brings the idea of “applying code to other code” (i.e.: macros) into mainstream thinking by formalizing it as a language construct.\n",
    "\n",
    "\n",
    "### Extended example\n",
    "\n",
    "```python\n",
    "# PythonDecorators/entry_exit_class.py\n",
    "class entry_exit(object):\n",
    "\n",
    "    def __init__(self, f):\n",
    "        self.f = f\n",
    "\n",
    "    def __call__(self):\n",
    "        print(\"Entering\", self.f.__name__)\n",
    "        self.f()\n",
    "        print(\"Exited\", self.f.__name__)\n",
    "\n",
    "@entry_exit\n",
    "def func1():\n",
    "    print(\"inside func1()\")\n",
    "\n",
    "@entry_exit\n",
    "def func2():\n",
    "    print(\"inside func2()\")\n",
    "\n",
    "func1()\n",
    "func2()\n",
    "```\n",
    "\n",
    "The output is:\n",
    "\n",
    "```python\n",
    "Entering func1\n",
    "inside func1()\n",
    "Exited func1\n",
    "Entering func2\n",
    "inside func2()\n",
    "Exited func2\n",
    "```\n",
    "\n",
    "### Decorators with Arguments\n",
    "\n",
    "When decorators are specified with arugements, e.g.:\n",
    "\n",
    "```python\n",
    "# PythonDecorators/decorator_with_arguments.py\n",
    "class decorator_with_arguments(object):\n",
    "\n",
    "    def __init__(self, arg1, arg2, arg3):\n",
    "        \"\"\"\n",
    "        If there are decorator arguments, the function\n",
    "        to be decorated is not passed to the constructor!\n",
    "        \"\"\"\n",
    "        print(\"Inside __init__()\")\n",
    "        self.arg1 = arg1\n",
    "        self.arg2 = arg2\n",
    "        self.arg3 = arg3\n",
    "\n",
    "    def __call__(self, f):\n",
    "        \"\"\"\n",
    "        If there are decorator arguments, __call__() is only called\n",
    "        once, as part of the decoration process! You can only give\n",
    "        it a single argument, which is the function object.\n",
    "        \"\"\"\n",
    "        print(\"Inside __call__()\")\n",
    "        def wrapped_f(*args):\n",
    "            print(\"Inside wrapped_f()\")\n",
    "            print(\"Decorator arguments:\", self.arg1, self.arg2, self.arg3)\n",
    "            f(*args)\n",
    "            print(\"After f(*args)\")\n",
    "        return wrapped_f\n",
    "\n",
    "@decorator_with_arguments(\"hello\", \"world\", 42)\n",
    "def sayHello(a1, a2, a3, a4):\n",
    "    print('sayHello arguments:', a1, a2, a3, a4)\n",
    "```\n",
    "\n",
    "the process of decoration calls the constructor and then immediately invokes __call__(). The arugments are fed to the constructor of the decorator.\n",
    "\n",
    "### Conceptual\n",
    "\n",
    "An explicit example of the concept of a decorator in Python (not using the @ syntax):\n",
    "\n"
   ]
  },
  {
   "cell_type": "code",
   "execution_count": 4,
   "metadata": {
    "hidden": true
   },
   "outputs": [
    {
     "name": "stdout",
     "output_type": "stream",
     "text": [
      "Something is happening before some_function() is called.\n",
      "Wheee!\n",
      "Something is happening after some_function() is called.\n"
     ]
    }
   ],
   "source": [
    "def my_decorator(some_function):\n",
    "\n",
    "    def wrapper():\n",
    "\n",
    "        print(\"Something is happening before some_function() is called.\")\n",
    "\n",
    "        some_function()\n",
    "\n",
    "        print(\"Something is happening after some_function() is called.\")\n",
    "\n",
    "    return wrapper\n",
    "\n",
    "\n",
    "def just_some_function():\n",
    "    print(\"Wheee!\")\n",
    "\n",
    "\n",
    "just_some_function = my_decorator(just_some_function)\n",
    "\n",
    "just_some_function()\n"
   ]
  },
  {
   "cell_type": "markdown",
   "metadata": {
    "hidden": true
   },
   "source": [
    "Decorators in Python can be called via the 'pie' syntax: <i>@</i>, which is shorthand that enables <i>@my_decorator</i> to be used rather than: <i>just_some_function = my_decorator(just_some_function)</i>. \n",
    "\n",
    "Example timing decorator:"
   ]
  },
  {
   "cell_type": "code",
   "execution_count": 5,
   "metadata": {
    "hidden": true
   },
   "outputs": [
    {
     "name": "stdout",
     "output_type": "stream",
     "text": [
      "\n",
      "Sum of all the numbers: 49995000\n",
      "Time it took to run the function: 0.0030024051666259766\n",
      "\n"
     ]
    }
   ],
   "source": [
    "import time\n",
    "\n",
    "\n",
    "def timing_function(some_function):\n",
    "\n",
    "    \"\"\"\n",
    "    Outputs the time a function takes\n",
    "    to execute.\n",
    "    \"\"\"\n",
    "\n",
    "    def wrapper():\n",
    "        t1 = time.time()\n",
    "        some_function()\n",
    "        t2 = time.time()\n",
    "        return \"Time it took to run the function: \" + str((t2 - t1)) + \"\\n\"\n",
    "    return wrapper\n",
    "\n",
    "\n",
    "@timing_function\n",
    "def my_function():\n",
    "    num_list = []\n",
    "    for num in (range(0, 10000)):\n",
    "        num_list.append(num)\n",
    "    print(\"\\nSum of all the numbers: \" + str((sum(num_list))))\n",
    "\n",
    "\n",
    "print(my_function())"
   ]
  },
  {
   "cell_type": "markdown",
   "metadata": {
    "hidden": true
   },
   "source": [
    "### Property decorator\n",
    "\n",
    "In Python, property() is a built-in function that creates and returns a property object. The signature of this function is:\n",
    "\n",
    "```property(fget=None, fset=None, fdel=None, doc=None)```\n",
    "\n",
    "Example use of @property decorator:"
   ]
  },
  {
   "cell_type": "code",
   "execution_count": null,
   "metadata": {
    "hidden": true
   },
   "outputs": [],
   "source": [
    "class Celsius:\n",
    "    def __init__(self, temperature = 0):\n",
    "        self._temperature = temperature\n",
    "\n",
    "    def to_fahrenheit(self):\n",
    "        return (self.temperature * 1.8) + 32\n",
    "\n",
    "    @property\n",
    "    def temperature(self):\n",
    "        print(\"Getting value\")\n",
    "        return self._temperature\n",
    "\n",
    "    @temperature.setter\n",
    "    def temperature(self, value):\n",
    "        if value < -273:\n",
    "            raise ValueError(\"Temperature below -273 is not possible\")\n",
    "        print(\"Setting value\")\n",
    "        self._temperature = value"
   ]
  },
  {
   "cell_type": "markdown",
   "metadata": {},
   "source": [
    "## Multithreading and Multiprocessing\n",
    "\n",
    "In Python the Global Interpreter Lock (GIL), a mechanism to synchronize the execution of threads such that only one native thread can execute at a time, means that code that's CPU-bound doesn't scale across threads, I/O bound code may however scale to some extent.\n",
    "\n",
    "<i>multiprocessing</i> is a package that supports spawning processes using an API similar to the threading module. The multiprocessing package offers both local and remote concurrency, effectively side-stepping the Global Interpreter Lock by using subprocesses instead of threads. Due to this, the multiprocessing module allows the programmer to fully leverage multiple processors on a given machine."
   ]
  },
  {
   "cell_type": "code",
   "execution_count": null,
   "metadata": {},
   "outputs": [],
   "source": [
    "from multiprocessing import Pool\n",
    "import time\n",
    "\n",
    "def sum_prime(num):    \n",
    "    sum_of_primes = 0\n",
    "    ix = 2\n",
    "    while ix <= num:\n",
    "        if is_prime(ix):\n",
    "            sum_of_primes += ix\n",
    "        ix += 1\n",
    "    return sum_of_primes\n",
    "\n",
    "def is_prime(num):\n",
    "    if num <= 1:\n",
    "        return False\n",
    "    elif num <= 3:\n",
    "        return True\n",
    "    elif num%2 == 0 or num%3 == 0:\n",
    "        return False\n",
    "    i = 5\n",
    "    while i*i <= num:\n",
    "        if num%i == 0 or num%(i+2) == 0:\n",
    "            return False\n",
    "        i += 6\n",
    "    return True\n",
    "\n",
    "if __name__ == '__main__':\n",
    "    start = time.time()\n",
    "    with Pool(1) as p:\n",
    "        print(p.map(sum_prime, [1000000, 2000000, 3000000]))\n",
    "    print(\"Time taken = {0:.5f}\".format(time.time() - start))"
   ]
  },
  {
   "cell_type": "markdown",
   "metadata": {},
   "source": [
    "## Strings\n",
    "The ‘r‘ right before a string means “raw,” which takes the backslashes literally so you don’t have to put in an extra backslash in order to insert a literal backslash.\n",
    "```python\n",
    "print(r'c:\\python\\lib\\utils')\n",
    "```"
   ]
  },
  {
   "cell_type": "markdown",
   "metadata": {},
   "source": [
    "## Main tags\n",
    "\n",
    "```python\n",
    "if __name__ == \"__main__\":\n",
    "    # Create an object:\n",
    "    x = Simple(\"constructor argument\")\n",
    "```\n",
    "\n",
    "This particular if statement is only true when you are running this file directly; that is, if you say on the command line:\n",
    "\n",
    "```python\n",
    "Python SimpleClass.py\n",
    "\n",
    "```\n",
    "However, if this file is imported as a module into another program, the __main__ code is not executed."
   ]
  },
  {
   "cell_type": "markdown",
   "metadata": {},
   "source": [
    "## Inheritance\n",
    "\n",
    "Because Python is dynamically typed, it doesn’t really care about interfaces - all it cares about is applying operations to objects (in fact, Java’s interface keyword would be wasted in Python). In Python, the only reason you inherit is to inherit an implementation - to re-use the code in the base class."
   ]
  },
  {
   "cell_type": "markdown",
   "metadata": {},
   "source": [
    "## Expanding\n",
    "\n",
    "You can turn a list into function arguments using *:\n",
    "```python\n",
    "def f(a,b,c): print a, b, c\n",
    "x = [1,2,3]\n",
    "f(*x)\n",
    "f(*(1,2,3))\n",
    "\n",
    "```\n",
    "If the form ```*identifier``` is present, it is initialized to a tuple receiving any excess positional parameters, defaulting to the empty tuple. If the form ```**identifier``` is present, it is initialized to a new dictionary receiving any excess keyword arguments, defaulting to a new empty dictionary."
   ]
  },
  {
   "cell_type": "markdown",
   "metadata": {},
   "source": [
    "# Tuples vs Lists\n",
    "\n",
    "Tuples are fixed size in nature whereas lists are dynamic.<br>\n",
    "In other words, a tuple is immutable whereas a list is mutable.\n",
    "\n",
    "- Tuples are faster than lists. If you're defining a constant set of values and all you're ever going to do with it is iterate through it, use a tuple instead of a list.\n",
    "\n",
    "- It makes your code safer if you “write-protect” data that does not need to be changed. Using a tuple instead of a list is like having an implied assert statement that this data is constant, and that special thought (and a specific function) is required to override that.\n",
    "\n",
    "- Some tuples can be used as dictionary keys (specifically, tuples that contain immutable values like strings, numbers, and other tuples). Lists can never be used as dictionary keys, because lists are not immutable."
   ]
  },
  {
   "cell_type": "code",
   "execution_count": null,
   "metadata": {},
   "outputs": [],
   "source": []
  }
 ],
 "metadata": {
  "kernelspec": {
   "display_name": "Python 3",
   "language": "python",
   "name": "python3"
  },
  "language_info": {
   "codemirror_mode": {
    "name": "ipython",
    "version": 3
   },
   "file_extension": ".py",
   "mimetype": "text/x-python",
   "name": "python",
   "nbconvert_exporter": "python",
   "pygments_lexer": "ipython3",
   "version": "3.6.7"
  },
  "latex_envs": {
   "LaTeX_envs_menu_present": true,
   "autoclose": false,
   "autocomplete": true,
   "bibliofile": "biblio.bib",
   "cite_by": "apalike",
   "current_citInitial": 1,
   "eqLabelWithNumbers": true,
   "eqNumInitial": 1,
   "hotkeys": {
    "equation": "Ctrl-E",
    "itemize": "Ctrl-I"
   },
   "labels_anchors": false,
   "latex_user_defs": false,
   "report_style_numbering": false,
   "user_envs_cfg": false
  },
  "toc": {
   "nav_menu": {},
   "number_sections": true,
   "sideBar": true,
   "skip_h1_title": false,
   "title_cell": "Table of Contents",
   "title_sidebar": "Contents",
   "toc_cell": false,
   "toc_position": {},
   "toc_section_display": true,
   "toc_window_display": false
  }
 },
 "nbformat": 4,
 "nbformat_minor": 4
}
