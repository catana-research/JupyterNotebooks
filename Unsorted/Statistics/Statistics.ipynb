{
 "cells": [
  {
   "cell_type": "markdown",
   "metadata": {
    "collapsed": true
   },
   "source": [
    "# Statistics\n",
    "\n",
    "## Cranmer\n",
    "\n",
    "https://github.com/cranmer/active_sciencing <br>\n",
    "https://arxiv.org/pdf/1503.07622.pdf\n",
    "    \n",
    "### Likelihoods\n",
    "\n",
    "https://www2.mrc-lmb.cam.ac.uk/groups/murshudov/content/courses/lmb_crystallography_course_2013/lectures/LMB-EP-McCoy.pdf\n",
    "\n",
    "The log(likelihood) solves the small number problem when computing probabilities with floating point arithmetic. The parameter values obtained optimising log(likelihood) are the same as those obtained optimising likelihood.\n",
    "\n",
    "$$log(\\Pi likelihoods) = \\sum log(likelihoods)$$\n",
    "\n",
    "Computer algorithms are designed to minimise, therefore we optimise our parameters by minimising the $-log(likelihood)$.\n",
    "\n",
    "Baye's theorem:\n",
    "\n",
    "$$P(model|data) = \\frac{P(model)}{P(data)}P(data|model)$$\n",
    "\n",
    "In experimental situations, $P(data)$ is constant, and when comparing probabilities can be ignored.\n",
    "\n",
    "\n",
    "$$P(model|data) = P(model)P(data|model)$$\n",
    "\n",
    "Where $P(model)$ is the prior probability and $P(data|model)$ is the likelihood.\n"
   ]
  }
 ],
 "metadata": {
  "kernelspec": {
   "display_name": "Python 3",
   "language": "python",
   "name": "python3"
  },
  "language_info": {
   "codemirror_mode": {
    "name": "ipython",
    "version": 3
   },
   "file_extension": ".py",
   "mimetype": "text/x-python",
   "name": "python",
   "nbconvert_exporter": "python",
   "pygments_lexer": "ipython3",
   "version": "3.6.4"
  },
  "latex_envs": {
   "LaTeX_envs_menu_present": true,
   "autoclose": false,
   "autocomplete": true,
   "bibliofile": "biblio.bib",
   "cite_by": "apalike",
   "current_citInitial": 1,
   "eqLabelWithNumbers": true,
   "eqNumInitial": 1,
   "hotkeys": {
    "equation": "Ctrl-E",
    "itemize": "Ctrl-I"
   },
   "labels_anchors": false,
   "latex_user_defs": false,
   "report_style_numbering": false,
   "user_envs_cfg": false
  },
  "toc": {
   "nav_menu": {},
   "number_sections": true,
   "sideBar": true,
   "skip_h1_title": false,
   "title_cell": "Table of Contents",
   "title_sidebar": "Contents",
   "toc_cell": false,
   "toc_position": {},
   "toc_section_display": true,
   "toc_window_display": false
  }
 },
 "nbformat": 4,
 "nbformat_minor": 2
}
