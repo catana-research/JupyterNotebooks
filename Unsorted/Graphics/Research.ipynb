{
 "cells": [
  {
   "cell_type": "markdown",
   "metadata": {},
   "source": [
    "# Blender"
   ]
  },
  {
   "cell_type": "markdown",
   "metadata": {
    "collapsed": true
   },
   "source": [
    "## General\n",
    "\n",
    "- Set to cycles render and enable GPU processing\n",
    "\n",
    "\n",
    "### Useful keys\n",
    "\n",
    "\n",
    "\n",
    "| Key | Action   |\n",
    "|------|------|\n",
    "|space|search|\n",
    "|Shift-a | Add|\n",
    "|TAB | Gravity/navigate through heirarchy|\n",
    "|g | grab|\n",
    "|x,y,z| restrict to x,y,z-axis|\n",
    "|s|scale|\n",
    "|Numpad-0| Set to camera perspective|\n",
    "|shift-f | Fly cam|\n",
    "|shift-z| Change to render view|\n",
    "|F3|Save render|\n",
    "|Esc|Exit render|\n",
    "\n",
    "\n",
    "\n",
    "\n",
    "\n",
    "\n",
    "\n",
    "\n"
   ]
  },
  {
   "cell_type": "markdown",
   "metadata": {},
   "source": [
    "## Python scripting\n",
    "\n",
    "Blender enables actions to be scripted out in Python.\n",
    "\n",
    "### Setup\n",
    "\n",
    "Add ```C:\\Program Files\\Blender Foundation\\Blender\\blender.exe``` to the windows path to enable python scripts to be executed from the command line.\n",
    "\n",
    "Setup Python in Blender to use Anaconda3 (https://janakiev.com/til/using-anaconda-in-blender/):\n",
    "\n",
    "```cmd\n",
    "mklink /j python C:\\Users\\Mark\\AppData\\Local\\conda\\conda\\envs\\py36\n",
    "```"
   ]
  },
  {
   "cell_type": "markdown",
   "metadata": {},
   "source": [
    "\n",
    "### Example scripts\n",
    "\n",
    "R:\\Blender\\scripts\\blender-scripting\n",
    "\n",
    "Execute with:\n",
    "```cmd\n",
    "blender -b -P R:\\Blender\\scripts\\blender-scripting\\run_script.py\n",
    "```"
   ]
  },
  {
   "cell_type": "markdown",
   "metadata": {},
   "source": [
    "\n",
    "\n"
   ]
  },
  {
   "cell_type": "markdown",
   "metadata": {},
   "source": [
    "## Animations\n",
    "\n",
    "- Individually rendered scenes can be turned into a movie file using Blender using the 'Video sequence editor' view and at the bottom selecting: 'Add' and highlighting all the images you wish to add in the file.\n",
    "- Ensure the Start and End frame of the animation cover all the images in the movie.\n",
    "- Render the movie by opening the 'Default' view and in the 'Render' pane scroll down to output and select the desired video format. Hit the 'Animation' button at the top to render the video. This may put the video file in the directory 'C:\\tmp\\' unless otherwise specified."
   ]
  },
  {
   "cell_type": "markdown",
   "metadata": {},
   "source": []
  },
  {
   "cell_type": "code",
   "execution_count": null,
   "metadata": {},
   "outputs": [],
   "source": []
  }
 ],
 "metadata": {
  "kernelspec": {
   "display_name": "Python 3",
   "language": "python",
   "name": "python3"
  },
  "language_info": {
   "codemirror_mode": {
    "name": "ipython",
    "version": 3
   },
   "file_extension": ".py",
   "mimetype": "text/x-python",
   "name": "python",
   "nbconvert_exporter": "python",
   "pygments_lexer": "ipython3",
   "version": "3.6.4"
  },
  "latex_envs": {
   "LaTeX_envs_menu_present": true,
   "autoclose": false,
   "autocomplete": true,
   "bibliofile": "biblio.bib",
   "cite_by": "apalike",
   "current_citInitial": 1,
   "eqLabelWithNumbers": true,
   "eqNumInitial": 1,
   "hotkeys": {
    "equation": "Ctrl-E",
    "itemize": "Ctrl-I"
   },
   "labels_anchors": false,
   "latex_user_defs": false,
   "report_style_numbering": false,
   "user_envs_cfg": false
  },
  "toc": {
   "nav_menu": {},
   "number_sections": true,
   "sideBar": true,
   "skip_h1_title": false,
   "title_cell": "Table of Contents",
   "title_sidebar": "Contents",
   "toc_cell": false,
   "toc_position": {},
   "toc_section_display": true,
   "toc_window_display": false
  }
 },
 "nbformat": 4,
 "nbformat_minor": 2
}
