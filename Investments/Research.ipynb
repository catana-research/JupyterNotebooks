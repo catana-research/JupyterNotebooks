{
 "cells": [
  {
   "cell_type": "markdown",
   "metadata": {},
   "source": [
    "<div style=\"float:left;font-size:20px;\">\n",
    "    <h1>Research</h1>\n",
    "</div><div style=\"float:right;\"><img src=\"../assets/banner.jpg\"></div>"
   ]
  },
  {
   "cell_type": "markdown",
   "metadata": {},
   "source": [
    "## Portfolio\n",
    "\n",
    "\n",
    "| Weight | Target |Region | Fund                                         | Fee   | Median market cap | P/E |Notes|\n",
    "|--------|--------|-------|----------------------------------------------|-------|-------------------|-----|-----|\n",
    "| 0.5 + 1.5 |   20%  |Global | Global FTSE Developed World UCITS ETF (VEVE) | 0.12% | 64.9 BN | 17.5x | Mid-cap |\n",
    "| 0   + 1.5 |   15%  |Global | Global Small-Cap Index Fund - Accumulation   | 0.29% | 2.1 BN  | 15.6x | Tracks MSCI World Small Cap Index |\n",
    "| 0   + 1.5 |   15%  |Europe | FTSE Developed Europe ex UK UCITS ETF (VERX) | 0.10% | 34.5 BN | 15.8x |  |\n",
    "| 0.5       |   5%   |Europe | Euro STOXX 50 UCITS ETF (VX5E)               | 0.10% | 64.9 BN | 16.3x | |\n",
    "| 1   + 1   |   15%  |UK     | FTSE 100 Index Unit Trust Accumulation       | 0.06% | 36 BN   | 15.4x | |\n",
    "| 0   + 0.5 |   5%   |UK     | FTSE 250 UCITS ETF (VMID)                    | 0.10% | 2 BN    | 14.4x | Mid-cap |\n",
    "| 1.5       |   15%  |US     | S&P 500 UCITS ETF (VUSA)                     | 0.07% | 123.5 BN| 19.7x | Mega-cap |\n",
    "| 0   + 1   |   10%  |EM     | FTSE Emerging Markets UCITS ETF (VFEM)       | 0.22% | 25.9 BN | 13x   | |"
   ]
  },
  {
   "cell_type": "markdown",
   "metadata": {},
   "source": [
    "# Picks\n",
    "\n",
    "## Global (X%)\n",
    "- FTSE Developed World UCITS ETF (VEVE) - 0.12% Mid-cap (64.9 BN, 17.5x P/E)\n",
    "   - FTSE All-World UCITS ETF (VWRL) - Global Mid-High cap 0.22% (59.5 BN, 16.9x P/E)\n",
    "- Global Small-Cap Index Fund - Accumulation  - 0.29% (2.1 BN, 15.6x) Tracks MSCI World Small Cap Index \n",
    "   - Global Minimum Volatility UCITS ETF (VMVL)  - 0.22% (6.7 BN, 18.4x)\n",
    "\n",
    "## Europe (B%)\n",
    "- FTSE Developed Europe ex UK UCITS ETF (VERX) - Large cap 0.10% (34.5BN, 15.8x P/E)\n",
    "\n",
    "## UK (A%)\n",
    "- FTSE 100 Index Unit Trust Accumulation - 0.06% (36BN, 15.4x P/E)\n",
    "  - FTSE U.K. All Share Index Unit Trust - Accumulation - 0.06% (25.5 BN. 15.x P/E)\n",
    "  - FTSE 250 UCITS ETF (VMID) - 0.1% Mid-cap (2BN, 14.4x P/E)\n",
    "\n",
    "## Americas (Y%)\n",
    "- S&P 500 UCITS ETF (VUSA) - S&P - 0.07% (123.5 BN, 19.7x P/E)\n",
    "   - FTSE North America UCITS ETF (VNRT) - 0.10% (106.4 BN, 19.4x P/E) Similar to S&P, Higher exposure to financials\n",
    " \n",
    "## EM  (Z%)\n",
    "- FTSE Emerging Markets UCITS ETF (VFEM) - 0.22% (25.9 BN, 13x P/E)\n"
   ]
  },
  {
   "cell_type": "markdown",
   "metadata": {},
   "source": [
    "## ETFs\n",
    "\n",
    "- American Mid-caps are a good investment, Vanguard [VEVE](https://www.vanguardinvestor.co.uk/investments/vanguard-ftse-developed-world-ucits-etf-usd-distributing) is sensitive to Midcaps.\n",
    "\n",
    "### Exposure to Europe \n",
    "- Europe [EURO STOXX 50 (VX5E)](https://www.vanguardinvestor.co.uk/investments/vanguard-euro-stoxx-50-ucits-etf-eur-distributing?intcmpgn=equityeurope_eurostoxx50ucitsetf_fund_link) - 56 stocks, [composition](https://www.vanguardinvestor.co.uk/investments/vanguard-euro-stoxx-50-ucits-etf-eur-distributing/portfolio-data?intcmpgn=equityeurope_eurostoxx50ucitsetf_fund_link)\n",
    "- Europe [FTSE Developed Europe ex UK UCITS ETF (VERX)](https://www.vanguardinvestor.co.uk/investments/vanguard-ftse-developed-europe-ex-uk-ucits-etf-eur-distributing?intcmpgn=equityeurope_ftsedevelopedeuropeexukucitsetf_fund_link), 475 stocks, [composition](https://www.vanguardinvestor.co.uk/investments/vanguard-ftse-developed-europe-ex-uk-ucits-etf-eur-distributing/portfolio-data?intcmpgn=equityeurope_ftsedevelopedeuropeexukucitsetf_fund_link)\n",
    "- Germany [DAX UCITS ETF (VDXX)](https://www.vanguardinvestor.co.uk/investments/vanguard-dax-ucits-etf-eur-distributing/portfolio-data?intcmpgn=equityeurope_daxucitsetf_fund_link), 30 stocks, [composition](https://www.vanguardinvestor.co.uk/investments/vanguard-dax-ucits-etf-eur-distributing/portfolio-data?intcmpgn=equityeurope_daxucitsetf_fund_link)\n",
    "\n",
    "### Exposure to Asia\n",
    "\n",
    "#### Developed\n",
    "- Japan [FTSE Japan UCITS ETF (VJPN)](https://www.vanguardinvestor.co.uk/investments/vanguard-ftse-japan-ucits-etf-usd-distributing?intcmpgn=equityjapan_ftsejapanucitsetf_fund_link)\n",
    "- Asia ex Japan [FTSE Developed Asia Pacific ex Japan UCITS ETF (VAPX)](https://www.vanguardinvestor.co.uk/investments/vanguard-ftse-developed-asia-pacific-ex-japan-ucits-etf-usd-distributing?intcmpgn=equityasia-pacific_ftsedevelopedasiapacificexjapanucitsetf_fund_link)\n",
    "\n",
    "#### EM\n",
    "- [FTSE Emerging Markets UCITS ETF (VFEM)](https://www.vanguardinvestor.co.uk/investments/vanguard-ftse-emerging-markets-ucits-etf-usd-distributing?intcmpgn=equityemerging%20markets_ftseemergingmarketsucitsetf_fund_link)\n"
   ]
  },
  {
   "cell_type": "markdown",
   "metadata": {},
   "source": [
    "## ETFs (Bonds)\n",
    "- Provide steady and predicatable returns that have low correlation to stocks, balancing a higher risk equity portfolio.\n",
    "- Maturity is maintained by adding new bonds as old ones roll off.\n",
    "- Bonds are typically illiquid, their ETFs are liquid.\n",
    "- When interest rates rise however, the value of the ETF will fall.\n",
    "\n",
    "- 3.04% (Fund) [U.S. Investment Grade Credit Index Fund - Hedged Accumulation](https://www.vanguardinvestor.co.uk/investments/vanguard-us-investment-grade-credit-index-fund-pound-sterling-hedged-accumulation-shares?intcmpgn=fixedincomeusa_usinvestmentgradecreditindexfund_fund_link)\n",
    "- 2.76% [USD Corporate 1-3 Year Bond UCITS ETF (VUSC)](https://www.vanguardinvestor.co.uk/investments/vanguard-usd-corporate-1-3-year-bond-ucits-etf-usd-distributing?intcmpgn=fixedincomeusa_usdcorporate13yearbonducitsetf_fund_link)\n",
    "- 3.25% [USD Corporate Bond UCITS ETF (VUCP)](https://www.vanguardinvestor.co.uk/investments/vanguard-usd-corporate-bond-ucits-etf-usd-distributing?intcmpgn=fixedincomeusa_usdcorporatebonducitsetf_fund_link)\n",
    "- 1.55% [FTSE North America UCITS ETF (VNRT)](https://www.vanguardinvestor.co.uk/investments/vanguard-ftse-north-america-ucits-etf-usd-distributing?intcmpgn=equityusa_ftsenorthamericaucitsetf_fund_link)\n",
    "- 2.24% [USD Treasury Bond UCITS ETF (VUTY)](https://www.vanguardinvestor.co.uk/investments/vanguard-usd-treasury-bond-ucits-etf-usd-distributing/distributions?intcmpgn=fixedincomeusa_usdtreasurybonducitsetf_fund_link)\n",
    "\n",
    "- 4.43% [USD Emerging Markets Government Bond UCITS ETF (VEMT)](https://www.vanguardinvestor.co.uk/investments/vanguard-usd-emerging-markets-government-bond-ucits-etf-usd-distributing/distributions?intcmpgn=fixedincomeemerging%20markets_usdemergingmarketsgovernmentbonducitsetf_fund_link)\n"
   ]
  },
  {
   "cell_type": "markdown",
   "metadata": {},
   "source": [
    "## Housing\n",
    "\n",
    "- House vacancy increases during a recession, peaking 1-2 years after the end\n",
    "- [RightMove](https://www.rightmove.co.uk/house-prices-in-my-area/marketTrendsTotalPropertiesSoldAndAveragePrice.html?searchLocation=se15&sellersPriceGuide=Start+Search) shows that the number of transactions decreases during a recession and prices start falling until June 2009\n",
    "\n"
   ]
  }
 ],
 "metadata": {
  "kernelspec": {
   "display_name": "Python 3",
   "language": "python",
   "name": "python3"
  },
  "language_info": {
   "codemirror_mode": {
    "name": "ipython",
    "version": 3
   },
   "file_extension": ".py",
   "mimetype": "text/x-python",
   "name": "python",
   "nbconvert_exporter": "python",
   "pygments_lexer": "ipython3",
   "version": "3.6.7"
  }
 },
 "nbformat": 4,
 "nbformat_minor": 4
}
