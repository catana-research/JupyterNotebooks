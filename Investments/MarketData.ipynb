{
 "cells": [
  {
   "cell_type": "markdown",
   "metadata": {},
   "source": [
    "<div style=\"float:left;font-size:20px;\">\n",
    "    <h1>Market Data</h1>\n",
    "</div><div style=\"float:right;\"><img src=\"../assets/banner.jpg\"></div>"
   ]
  },
  {
   "cell_type": "code",
   "execution_count": 2,
   "metadata": {},
   "outputs": [
    {
     "ename": "ModuleNotFoundError",
     "evalue": "No module named 'yfinance'",
     "output_type": "error",
     "traceback": [
      "\u001b[1;31m---------------------------------------------------------------------------\u001b[0m",
      "\u001b[1;31mModuleNotFoundError\u001b[0m                       Traceback (most recent call last)",
      "\u001b[1;32m<ipython-input-2-3a07110b7072>\u001b[0m in \u001b[0;36m<module>\u001b[1;34m\u001b[0m\n\u001b[0;32m      1\u001b[0m \u001b[1;31m# Import yfinance\u001b[0m\u001b[1;33m\u001b[0m\u001b[1;33m\u001b[0m\u001b[1;33m\u001b[0m\u001b[0m\n\u001b[1;32m----> 2\u001b[1;33m \u001b[1;32mimport\u001b[0m \u001b[0myfinance\u001b[0m \u001b[1;32mas\u001b[0m \u001b[0myf\u001b[0m\u001b[1;33m\u001b[0m\u001b[1;33m\u001b[0m\u001b[0m\n\u001b[0m\u001b[0;32m      3\u001b[0m \u001b[1;33m\u001b[0m\u001b[0m\n\u001b[0;32m      4\u001b[0m \u001b[1;31m# Get the data for the stock Apple by specifying the stock ticker, start date, and end date\u001b[0m\u001b[1;33m\u001b[0m\u001b[1;33m\u001b[0m\u001b[1;33m\u001b[0m\u001b[0m\n\u001b[0;32m      5\u001b[0m \u001b[0mdata\u001b[0m \u001b[1;33m=\u001b[0m \u001b[0myf\u001b[0m\u001b[1;33m.\u001b[0m\u001b[0mdownload\u001b[0m\u001b[1;33m(\u001b[0m\u001b[1;34m'AAPL'\u001b[0m\u001b[1;33m,\u001b[0m\u001b[1;34m'2016-01-01'\u001b[0m\u001b[1;33m,\u001b[0m\u001b[1;34m'2018-01-01'\u001b[0m\u001b[1;33m)\u001b[0m\u001b[1;33m\u001b[0m\u001b[1;33m\u001b[0m\u001b[0m\n",
      "\u001b[1;31mModuleNotFoundError\u001b[0m: No module named 'yfinance'"
     ]
    }
   ],
   "source": [
    "# Import yfinance\n",
    "import yfinance as yf  \n",
    " \n",
    "# Get the data for the stock Apple by specifying the stock ticker, start date, and end date\n",
    "data = yf.download('AAPL','2016-01-01','2018-01-01')\n",
    "\n",
    "snp = yf.download('^GSPC','2016-01-01','2018-01-01')\n",
    "nasdaq = yf.download('^IXIC','2016-01-01','2018-01-01')\n",
    "dow = yf.download('^DJI','2016-01-01','2018-01-01')\n",
    "ftse = yf.download('^DJI','2016-01-01','2018-01-01')\n",
    "\n",
    "v_snp =yf.download('VUSA.L','2016-01-01','2018-01-01')\n",
    "v_ftse100 = yf.download('0P00018XAP.L','2016-01-01','2020-03-10')\n",
    "\n",
    "# ETFs\n",
    "['VDXX'] = 'DAX UCITS ETF' # https://www.vanguardinvestor.co.uk/investments/vanguard-dax-ucits-etf-eur-distributing?intcmpgn=equityeurope_daxucitsetf_fund_link\n",
    "['VUSC'] = 'USD Corporate 1-3 Year Bond UCITS ETF'\n",
    "['VX5E'] = 'Euro STOXX 50 UCITS ETF' # https://www.vanguardinvestor.co.uk/investments/vanguard-euro-stoxx-50-ucits-etf-eur-distributing?intcmpgn=equityeurope_eurostoxx50ucitsetf_fund_link\n",
    "['VAPX'] = 'FTSE Developed Asia Pacific ex Japan UCITS ETF' # https://www.vanguardinvestor.co.uk/investments/vanguard-ftse-developed-asia-pacific-ex-japan-ucits-etf-usd-distributing?intcmpgn=equityasia-pacific_ftsedevelopedasiapacificexjapanucitsetf_fund_link\n",
    "['VFEM'] = 'FTSE Emerging Markets UCITS ETF'  # https://www.vanguardinvestor.co.uk/investments/vanguard-ftse-emerging-markets-ucits-etf-usd-distributing?intcmpgn=equityemerging%20markets_ftseemergingmarketsucitsetf_fund_link\n",
    "\n",
    "# Funds\n",
    "= 'Japan Stock Index Fund - Accumulation' # https://www.vanguardinvestor.co.uk/investments/vanguard-japan-stock-index-fund-accumulation-shares?intcmpgn=equityjapan_japanstockindexfund_fund_link\n",
    "\n",
    "# Plot the close prices\n",
    "import matplotlib.pyplot as plt\n",
    "data.Close.plot();"
   ]
  }
 ],
 "metadata": {
  "kernelspec": {
   "display_name": "Python 3",
   "language": "python",
   "name": "python3"
  },
  "language_info": {
   "codemirror_mode": {
    "name": "ipython",
    "version": 3
   },
   "file_extension": ".py",
   "mimetype": "text/x-python",
   "name": "python",
   "nbconvert_exporter": "python",
   "pygments_lexer": "ipython3",
   "version": "3.6.7"
  }
 },
 "nbformat": 4,
 "nbformat_minor": 4
}
