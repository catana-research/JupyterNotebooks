{
 "cells": [
  {
   "cell_type": "markdown",
   "metadata": {},
   "source": [
    "<div style=\"float:left;font-size:20px;\">\n",
    "    <h1>SQL Basics</h1>\n",
    "</div><div style=\"float:right;\"><img src=\"../assets/banner.jpg\"></div>"
   ]
  },
  {
   "cell_type": "markdown",
   "metadata": {},
   "source": [
    "<hr>"
   ]
  },
  {
   "cell_type": "markdown",
   "metadata": {},
   "source": [
    "# SQL"
   ]
  },
  {
   "cell_type": "markdown",
   "metadata": {},
   "source": [
    "Some good example SQL code in:    P:\\SQL\\HomeDB"
   ]
  },
  {
   "cell_type": "code",
   "execution_count": null,
   "metadata": {},
   "outputs": [],
   "source": [
    "SELECT radius, t_eff FROM Star\n",
    "  WHERE radius > 1;"
   ]
  },
  {
   "cell_type": "code",
   "execution_count": null,
   "metadata": {},
   "outputs": [],
   "source": [
    "SELECT kepler_id, t_eff FROM Star\n",
    "  WHERE t_eff >= 5000 and t_eff <= 6000;"
   ]
  },
  {
   "cell_type": "code",
   "execution_count": null,
   "metadata": {},
   "outputs": [],
   "source": [
    "-- Shows what columns and datatypes are for a table\n",
    "\\d Planet;"
   ]
  },
  {
   "cell_type": "code",
   "execution_count": null,
   "metadata": {},
   "outputs": [],
   "source": [
    "# Aggregate functions\n",
    "COUNT, MIN, MAX, SUM, AVG, STDDEV\n",
    "\n",
    "SELECT COUNT(*);\n",
    "\n",
    "# Pick 5 small planets\n",
    "SELECT koi_name, radius FROM Planet \n",
    "ORDER BY radius DESC\n",
    "LIMIT 5;"
   ]
  },
  {
   "cell_type": "code",
   "execution_count": null,
   "metadata": {},
   "outputs": [],
   "source": [
    "SELECT MIN(radius), MAX(radius), AVG(radius), STDDEV(radius) FROM Planet\n",
    "  WHERE kepler_name is NULL;"
   ]
  },
  {
   "cell_type": "code",
   "execution_count": null,
   "metadata": {},
   "outputs": [],
   "source": [
    "SELECT kepler_id, COUNT(*) FROM Planet\n",
    "  GROUP BY kepler_id\n",
    "  HAVING COUNT(koi_name) > 1\n",
    "  ORDER BY COUNT(*) DESC;"
   ]
  },
  {
   "cell_type": "markdown",
   "metadata": {},
   "source": [
    "### Joins"
   ]
  },
  {
   "cell_type": "markdown",
   "metadata": {},
   "source": [
    "<table1> LEFT OUTER JOIN <table2>\n",
    "Here all rows from <table1> are kept and missing matches from <table2> are replaced with NULL values.\n",
    "\n",
    "<table1> RIGHT OUTER JOIN <table2>\n",
    "All rows from <table2> are kept and missing matches from <table1> are replaced with NULL values.\n",
    "\n",
    "<table1> FULL OUTER JOIN <table2>\n",
    "All rows from both tables are kept."
   ]
  },
  {
   "cell_type": "code",
   "execution_count": null,
   "metadata": {},
   "outputs": [],
   "source": [
    "# Join stars and planets on their kepler radius and require a star-planet radius ratio greater than sun-earth\n",
    "SELECT s.radius AS sun_radius, p.radius AS planet_radius FROM Star as s\n",
    "  INNER JOIN Planet as p ON s.kepler_id = p.kepler_id\n",
    "  WHERE s.radius/p.radius > 1\n",
    "  ORDER BY s.radius DESC"
   ]
  },
  {
   "cell_type": "code",
   "execution_count": null,
   "metadata": {},
   "outputs": [],
   "source": [
    "SELECT s.radius, COUNT(*) FROM Planet as p\n",
    "  INNER JOIN Star as s ON p.kepler_id = s.kepler_id\n",
    "  WHERE s.radius >= 1\n",
    "  GROUP BY s.kepler_id\n",
    "  HAVING COUNT(p.koi_name) > 1\n",
    "  ORDER BY s.radius DESC"
   ]
  },
  {
   "cell_type": "markdown",
   "metadata": {},
   "source": [
    "To practise your outer joins, write a query which returns the kepler_id, t_eff and radius for all stars in the Star table which haven't got a planet as join partner. Order the resulting table based on the t_eff attribute in descending order."
   ]
  },
  {
   "cell_type": "code",
   "execution_count": null,
   "metadata": {},
   "outputs": [],
   "source": [
    "SELECT s.kepler_id, s.t_eff, s.radius FROM Star as s\n",
    "  LEFT OUTER JOIN Planet as p ON s.kepler_id = p.kepler_id\n",
    "  WHERE p.koi_name IS NULL\n",
    "  ORDER BY t_eff DESC"
   ]
  },
  {
   "cell_type": "markdown",
   "metadata": {},
   "source": [
    "### Subqueries"
   ]
  },
  {
   "cell_type": "markdown",
   "metadata": {},
   "source": [
    "_Co-related_: the subquery is executed for each element of the outer query.\n",
    "\n",
    "_Non-co-related_: the subquery is executed only once.\n",
    "    \n",
    "    If an attribute in the encapsulating query is used in the nested query, it's going to be a co-related subquery."
   ]
  },
  {
   "cell_type": "code",
   "execution_count": null,
   "metadata": {},
   "outputs": [],
   "source": [
    "SELECT * FROM Star\n",
    "WHERE Star.radius > (\n",
    "  SELECT AVG(radius) FROM Star\n",
    ");"
   ]
  },
  {
   "cell_type": "code",
   "execution_count": null,
   "metadata": {},
   "outputs": [],
   "source": [
    "SELECT ROUND(AVG(p.t_eq), 1), MIN(s.t_eff), MAX(s.t_eff) FROM Planet as p\n",
    "  INNER JOIN Star as s USING(kepler_id)\n",
    "  WHERE s.t_eff > (SELECT AVG(t_eff) FROM Star)"
   ]
  },
  {
   "cell_type": "markdown",
   "metadata": {},
   "source": [
    "### Timing"
   ]
  },
  {
   "cell_type": "code",
   "execution_count": null,
   "metadata": {},
   "outputs": [],
   "source": [
    "\\timing\n",
    "-- Join with subqueries\n",
    "SELECT s.kepler_id \n",
    "FROM Star s\n",
    "WHERE s.kepler_id IN (\n",
    "  SELECT p.kepler_id FROM Planet p\n",
    "  WHERE p.radius < 1\n",
    ");\n",
    "\n",
    "-- Join with JOIN operator\n",
    "SELECT DISTINCT(s.kepler_id)\n",
    "FROM Star s\n",
    "JOIN Planet p USING (kepler_id)\n",
    "WHERE p.radius < 1;"
   ]
  },
  {
   "cell_type": "markdown",
   "metadata": {},
   "source": [
    "### Setting up a database"
   ]
  },
  {
   "cell_type": "markdown",
   "metadata": {},
   "source": [
    "Manipulating table content:\n",
    "    \n",
    "INSERT: inserts a new row into a table;\n",
    "\n",
    "DELETE: deletes a specified row;\n",
    "\n",
    "UPDATE: changes attributes within a row."
   ]
  },
  {
   "cell_type": "code",
   "execution_count": null,
   "metadata": {},
   "outputs": [],
   "source": [
    "INSERT INTO Star (kepler_id, t_eff, radius)\n",
    "VALUES (7115384, 3789, 27.384), (8106973, 5810, 0.811), \n",
    "      (9391817, 6200, 0.958)"
   ]
  },
  {
   "cell_type": "code",
   "execution_count": null,
   "metadata": {},
   "outputs": [],
   "source": [
    "DELETE FROM Planet\n",
    "WHERE kepler_id = 2713049;"
   ]
  },
  {
   "cell_type": "code",
   "execution_count": null,
   "metadata": {},
   "outputs": [],
   "source": [
    "UPDATE Star\n",
    "SET t_eff = 6000\n",
    "WHERE kepler_id = 2713049;"
   ]
  },
  {
   "cell_type": "code",
   "execution_count": null,
   "metadata": {},
   "outputs": [],
   "source": [
    "DELETE FROM Planet \n",
    "  WHERE radius < 0;\n",
    "  \n",
    "UPDATE Planet\n",
    "  SET kepler_name = NULL\n",
    "  WHERE status <> 'CONFIRMED';"
   ]
  },
  {
   "cell_type": "markdown",
   "metadata": {},
   "source": [
    "### Create table\n",
    "\n",
    "`CREATE TABLE <tablename> (\n",
    "  <attribute1>  <type1>(size1) <constraint1>,\n",
    "  <attribute2>  <type2>(size2) <constraint2>,\n",
    "  ...\n",
    ");`"
   ]
  },
  {
   "cell_type": "markdown",
   "metadata": {},
   "source": [
    "|Data type | Description|\n",
    "|----------|------------|\n",
    "|SMALLINT | Signed two-byte integer|\n",
    "|INTEGER  | Signed four-byte integer|\n",
    "|FLOAT|Eight-byte floating-point number|\n",
    "|CHAR(n)|Fixed-length string with n characters|\n",
    "|VARCHAR(n)|Variable-length string with maximum n characters|"
   ]
  },
  {
   "cell_type": "markdown",
   "metadata": {},
   "source": [
    "|Constraint type|Description|\n",
    "|---------------|-----------|\n",
    "|NOT NULL|Value cannot be NULL|\n",
    "|UNIQUE|Value must be unique in the table|\n",
    "|DEFAULT|Specifies a default if the field is left blank|\n",
    "|CHECK|Ensures that the value meets a specific condition|\n",
    "|PRIMARY KEY|Combination of NOT NULL and UNIQUE|\n",
    "|FOREIGN KEY|Ensures the data matches the specified attribute in another table|"
   ]
  },
  {
   "cell_type": "markdown",
   "metadata": {},
   "source": [
    "### Create table\n",
    "\n",
    "`CREATE TABLE Star (\n",
    "  kepler_id INTEGER,\n",
    "  t_eff INTEGER,\n",
    "  radius FLOAT\n",
    ");`\n",
    "\n",
    "`INSERT INTO Star VALUES\n",
    "  (10341777, 6302, 0.815);`\n",
    " \n",
    "#### With constraints\n",
    "`CREATE TABLE Star (\n",
    "  kepler_id INTEGER CHECK(kepler_id > 10)\n",
    ");`"
   ]
  },
  {
   "cell_type": "markdown",
   "metadata": {},
   "source": [
    "### Example\n",
    "`CREATE TABLE Planet (\n",
    "  kepler_id INTEGER NOT NULL,\n",
    "  koi_name  VARCHAR(15) UNIQUE NOT NULL,\n",
    "  kepler_name VARCHAR(15),\n",
    "  status VARCHAR(20) NOT NULL,\n",
    "  radius FLOAT NOT NULL\n",
    ");`\n",
    "\n",
    "`INSERT INTO Planet VALUES\n",
    "  (6862328,\t  'K00865.01',\tNULL,           'CANDIDATE', 119.021),\n",
    "  (10187017,\t'K00082.05',\t'Kepler-102 b',\t'CONFIRMED', 5.286),\n",
    "  (10187017,\t'K00082.04',\t'Kepler-102 c',\t'CONFIRMED', 7.071);`"
   ]
  },
  {
   "cell_type": "markdown",
   "metadata": {},
   "source": [
    "### Keys\n",
    "\n",
    "#### Primary key\n",
    "`CREATE TABLE Star (\n",
    "  kepler_id INTEGER PRIMARY KEY \n",
    ");`\n",
    "  \n",
    "#### Foreign key\n",
    "`CREATE TABLE Planet (\n",
    "  kepler_id INTEGER REFERENCES Star (kepler_id)\n",
    ");`\n",
    "  \n",
    "`INSERT INTO Star VALUES (10341777);\n",
    "INSERT INTO Planet VALUES (10341777);`"
   ]
  },
  {
   "cell_type": "markdown",
   "metadata": {},
   "source": [
    "#### Insert from CSV\n",
    "\n",
    "`CREATE TABLE Star (\n",
    "  kepler_id INTEGER PRIMARY KEY,\n",
    "  t_eff INTEGER,\n",
    "  radius FLOAT\n",
    ");`\n",
    "\n",
    "`COPY Star (kepler_id, t_eff, radius) \n",
    "  FROM 'stars.csv' CSV;`\n",
    "\n",
    "`SELECT * FROM Star;`"
   ]
  },
  {
   "cell_type": "markdown",
   "metadata": {},
   "source": [
    "#### Example\n",
    "\n",
    "`CREATE TABLE Star (\n",
    "  kepler_id INTEGER PRIMARY KEY,\n",
    "  t_eff INTEGER NOT NULL,\n",
    "  radius FLOAT NOT NULL\n",
    ");`\n",
    "\n",
    "`CREATE TABLE Planet (\n",
    "  kepler_id INTEGER REFERENCES Star (kepler_id),\n",
    "  koi_name  VARCHAR(20) PRIMARY KEY,\n",
    "  kepler_name VARCHAR(20),\n",
    "  status VARCHAR(20) NOT NULL,\n",
    "  period FLOAT,\n",
    "  radius FLOAT,\n",
    "  t_eq INTEGER\n",
    ");`\n",
    "\n",
    "`COPY Star (kepler_id, t_eff, radius) \n",
    "  FROM 'stars.csv' CSV;`\n",
    "\n",
    "`COPY Planet (kepler_id, koi_name, kepler_name, status, period, radius, t_eq) \n",
    "  FROM 'planets.csv' CSV;`"
   ]
  },
  {
   "cell_type": "markdown",
   "metadata": {},
   "source": [
    "#### ALTER\n",
    "\n",
    "`SELECT * FROM Star LIMIT 1;`\n",
    "\n",
    "`ALTER TABLE Star\n",
    "ADD COLUMN ra FLOAT,\n",
    "ADD COLUMN decl FLOAT;`\n",
    " \n",
    "`SELECT * FROM Star LIMIT 1;`\n",
    "\n",
    "`ALTER TABLE Star\n",
    "DROP COLUMN ra, \n",
    "DROP COLUMN decl;`\n",
    " \n",
    "`ALTER TABLE Star\n",
    " ALTER COLUMN t_eff SET DATA TYPE FLOAT;`\n",
    " \n",
    "`ALTER TABLE Star\n",
    "  ADD CONSTRAINT radius CHECK(radius > 0);`"
   ]
  },
  {
   "cell_type": "markdown",
   "metadata": {},
   "source": [
    "#### Example\n",
    "\n",
    "`DELETE FROM Star;`\n",
    "\n",
    "`ALTER TABLE Star\n",
    "ADD COLUMN ra FLOAT,\n",
    "ADD COLUMN decl FLOAT;`\n",
    "\n",
    "`COPY Star (kepler_id, t_eff, radius, ra, decl)\n",
    "  FROM 'stars_full.csv' CSV;`"
   ]
  },
  {
   "cell_type": "markdown",
   "metadata": {},
   "source": [
    "### Python + PostgreSQL"
   ]
  },
  {
   "cell_type": "code",
   "execution_count": null,
   "metadata": {},
   "outputs": [],
   "source": [
    "import psycopg2\n",
    "\n",
    "# Establish the connection\n",
    "conn = psycopg2.connect(dbname='db', user='grok')\n",
    "cursor = conn.cursor()\n",
    "\n",
    "# Execute an SQL query and receive the output\n",
    "cursor.execute('SELECT 2 + 3;')\n",
    "records = cursor.fetchall()\n",
    "\n",
    "print(records)"
   ]
  },
  {
   "cell_type": "code",
   "execution_count": null,
   "metadata": {},
   "outputs": [],
   "source": [
    "### Example\n",
    "\n",
    "import psycopg2\n",
    "\n",
    "def select_all(table):\n",
    "\n",
    "  conn = psycopg2.connect('dbname=db user=grok')\n",
    "  cursor = conn.cursor()\n",
    "\n",
    "  query = 'SELECT * FROM ' + table + ';'\n",
    "  \n",
    "  cursor.execute(query)\n",
    "  records = cursor.fetchall()\n",
    "\n",
    "  return records\n",
    "\n",
    "\n",
    "def column_stats(table, column):\n",
    "  conn = psycopg2.connect(dbname='db', user='grok')\n",
    "  cursor = conn.cursor()\n",
    "\n",
    "  query = f'SELECT {column}  FROM {table};'\n",
    "  cursor.execute(query)\n",
    "\n",
    "  records = cursor.fetchall()\n",
    "  array = np.array(records)\n",
    "\n",
    "  return array.mean(), np.median(array)\n"
   ]
  }
 ],
 "metadata": {
  "kernelspec": {
   "display_name": "Python 3",
   "language": "python",
   "name": "python3"
  },
  "language_info": {
   "codemirror_mode": {
    "name": "ipython",
    "version": 3
   },
   "file_extension": ".py",
   "mimetype": "text/x-python",
   "name": "python",
   "nbconvert_exporter": "python",
   "pygments_lexer": "ipython3",
   "version": "3.6.7"
  }
 },
 "nbformat": 4,
 "nbformat_minor": 4
}
