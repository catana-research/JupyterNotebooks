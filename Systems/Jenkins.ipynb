{
 "cells": [
  {
   "cell_type": "markdown",
   "metadata": {},
   "source": [
    "<div style=\"float:left;font-size:20px;\">\n",
    "    <h1>Jenkins</h1>\n",
    "</div><div style=\"float:right;\"><img src=\"../assets/banner.jpg\"></div>"
   ]
  },
  {
   "cell_type": "markdown",
   "metadata": {},
   "source": [
    "Jenkins is an open source continous integration system that enables you to run automated builds of software and documentation with each code commit."
   ]
  },
  {
   "cell_type": "markdown",
   "metadata": {},
   "source": [
    "References:\n",
    "- https://www.guru99.com/jenkins-github-integration.html"
   ]
  },
  {
   "cell_type": "markdown",
   "metadata": {},
   "source": [
    "## Setting up Jenkins to work with Private GitHub repos\n",
    "\n",
    "To work with private GitHub repos you will need to create an RSA public/private key pair, add it to your GitHub repo and configure your Jenkins build server to use the key for your builds.\n",
    "\n",
    "### Create RSA key\n",
    "To work with GitHub Jenkins needs SSH authentication to ensure that all transactions are secure and authorised. To do so, first generate a RSA private/public key pair with:  \n",
    "    `ssh-keygen -t rsa`\n",
    "take care to ensure that you never disclose your private key to anyone.\n",
    "\n",
    "Copy this to your Jenkins .ssh directory, for Windows this is: `C:\\Windows\\System32\\config\\systemprofile\\.ssh`.\n",
    "\n",
    "### Add RSA key to GitHub repo\n",
    "Next for every repo you need to enable remote access using your Jenkins server. \n",
    "- Go to your chosen repository and select Settings > Deploy keys.\n",
    "- Specify *Title* as Jenkins and *Key* as the contents of the SSH public key e.g. `id_rsa.pub`. For windows by default you will find this in `C:\\Windows\\System32\\config\\systemprofile\\.ssh`\n",
    "- Do not click *Allow write access*as Jenkins will only need to pull data.\n",
    "- Click *Add key*.\n",
    "    \n",
    "### Configure Jenkins credentials\n",
    "- Open Jenkins dashboard and select: Credentials -> System -> Global credentials -> Add credentials.\n",
    "- Set *Kind*: SHH Username with private key.\n",
    "- Username as Jenkins or whatever you prefer.\n",
    "- Under *Key*, paste the contents of your private key, e.g. *id_rsa*."
   ]
  },
  {
   "cell_type": "markdown",
   "metadata": {},
   "source": [
    "## Setup project with PyCharm and Git intergration"
   ]
  },
  {
   "cell_type": "markdown",
   "metadata": {},
   "source": [
    "- Open Jenkins dashboard and create a new Job.\n",
    "- Enter a suitable name for your project under Item name and select Freestyle project.\n",
    "\n",
    "- On the next page set the following:\n",
    "    - Under *Source Code Management* select the Git radiobutton. \n",
    "    - Then copy the SSH connection string of the repository you wish to run Jenkins for. E.g. git@github.com:*MyUserName*/*MyRepo*.\n",
    "    - Under Credentials, select the Jenkins credentials you configured for the repository.\n",
    "    - Under *Branches to build* you can specify which branches you wish to build, this can be left as */master.\n",
    "    \n",
    "    - Under *Build Triggers* select *GitHub hook trigger for GITScm polling*, this will cause a build to be automatically run on every commit to the specified branches. This will only work if your Jenkins server is exposed to the internet and the GitHub webhooks are assigned."
   ]
  }
 ],
 "metadata": {
  "kernelspec": {
   "display_name": "Python 3",
   "language": "python",
   "name": "python3"
  },
  "language_info": {
   "codemirror_mode": {
    "name": "ipython",
    "version": 3
   },
   "file_extension": ".py",
   "mimetype": "text/x-python",
   "name": "python",
   "nbconvert_exporter": "python",
   "pygments_lexer": "ipython3",
   "version": "3.7.6"
  }
 },
 "nbformat": 4,
 "nbformat_minor": 4
}
