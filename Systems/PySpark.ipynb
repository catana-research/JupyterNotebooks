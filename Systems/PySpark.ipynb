{
 "cells": [
  {
   "cell_type": "markdown",
   "metadata": {},
   "source": [
    "<div style=\"float:left;font-size:20px;\">\n",
    "    <h1>PySpark</h1>\n",
    "</div><div style=\"float:right;\"><img src=\"../assets/banner.jpg\"></div>"
   ]
  },
  {
   "cell_type": "markdown",
   "metadata": {},
   "source": [
    "<hr>"
   ]
  },
  {
   "cell_type": "markdown",
   "metadata": {},
   "source": [
    "## Adding a CSV table to a Spark DataFrame"
   ]
  },
  {
   "cell_type": "markdown",
   "metadata": {},
   "source": [
    "Execute the following in a `pyspark` console:"
   ]
  },
  {
   "cell_type": "code",
   "execution_count": 1,
   "metadata": {},
   "outputs": [
    {
     "ename": "ModuleNotFoundError",
     "evalue": "No module named 'pyspark'",
     "output_type": "error",
     "traceback": [
      "\u001b[1;31m---------------------------------------------------------------------------\u001b[0m",
      "\u001b[1;31mModuleNotFoundError\u001b[0m                       Traceback (most recent call last)",
      "\u001b[1;32m<ipython-input-1-5e82b9eb11cc>\u001b[0m in \u001b[0;36m<module>\u001b[1;34m\u001b[0m\n\u001b[1;32m----> 1\u001b[1;33m \u001b[1;32mfrom\u001b[0m \u001b[0mpyspark\u001b[0m\u001b[1;33m.\u001b[0m\u001b[0msql\u001b[0m \u001b[1;32mimport\u001b[0m \u001b[0mHiveContext\u001b[0m\u001b[1;33m\u001b[0m\u001b[1;33m\u001b[0m\u001b[0m\n\u001b[0m\u001b[0;32m      2\u001b[0m \u001b[1;32mfrom\u001b[0m \u001b[0mpyspark\u001b[0m\u001b[1;33m.\u001b[0m\u001b[0msql\u001b[0m\u001b[1;33m.\u001b[0m\u001b[0mtypes\u001b[0m \u001b[1;32mimport\u001b[0m \u001b[1;33m*\u001b[0m\u001b[1;33m\u001b[0m\u001b[1;33m\u001b[0m\u001b[0m\n\u001b[0;32m      3\u001b[0m \u001b[1;32mfrom\u001b[0m \u001b[0mpyspark\u001b[0m\u001b[1;33m.\u001b[0m\u001b[0msql\u001b[0m \u001b[1;32mimport\u001b[0m \u001b[0mRow\u001b[0m\u001b[1;33m\u001b[0m\u001b[1;33m\u001b[0m\u001b[0m\n",
      "\u001b[1;31mModuleNotFoundError\u001b[0m: No module named 'pyspark'"
     ]
    }
   ],
   "source": [
    "from pyspark.sql import HiveContext\n",
    "from pyspark.sql.types import *\n",
    "from pyspark.sql import Row\n",
    "\n",
    "csv_data = sc.textFile(\"file:///C:/Temp/iris.csv\")\n",
    "csv_data = csv_data.map(lambda p: p.split(\",\"))\n",
    "\n",
    "header = csv_data.first()\n",
    "csv_data = csv_data.filter(lambda p:p != header)\n",
    "\n",
    "df_csv = csv_data.map(lambda p: Row(sepal_length=float(p[0]), sepal_width\n",
    "=float(p[1]), petal_length=float(p[2]), petal_width=float(p[3]), species=p[4])).toDF()\n",
    "\n",
    "# View the contents:\n",
    "df_csv.show(5)\n",
    "\"\"\"\n",
    "+------------+-----------+------------+-----------+--------+\n",
    "|sepal_length|sepal_width|petal_length|petal_width| species|\n",
    "+------------+-----------+------------+-----------+--------+\n",
    "|         5.1|        3.5|         1.4|        0.2|\"Setosa\"|\n",
    "|         4.9|        3.0|         1.4|        0.2|\"Setosa\"|\n",
    "|         4.7|        3.2|         1.3|        0.2|\"Setosa\"|\n",
    "|         4.6|        3.1|         1.5|        0.2|\"Setosa\"|\n",
    "|         5.0|        3.6|         1.4|        0.2|\"Setosa\"|\n",
    "+------------+-----------+------------+-----------+--------+\n",
    "\"\"\"\n",
    "\n",
    "# Show the schema\n",
    "df_csv.printSchema()\n",
    "\"\"\"\n",
    "root\n",
    " |-- sepal_length: double (nullable = true)\n",
    " |-- sepal_width: double (nullable = true)\n",
    " |-- petal_length: double (nullable = true)\n",
    " |-- petal_width: double (nullable = true)\n",
    " |-- species: string (nullable = true)\n",
    "\n",
    "\"\"\"\n",
    "\n",
    "# Save in a Hive table in ORC dataformat\n",
    "from pyspark.sql import HiveContext\n",
    "hc = HiveContext(sc)\n",
    "df_csv.write.format(\"orc\").saveAsTable(\"employees\")"
   ]
  },
  {
   "cell_type": "code",
   "execution_count": null,
   "metadata": {},
   "outputs": [],
   "source": []
  }
 ],
 "metadata": {
  "kernelspec": {
   "display_name": "Python 3",
   "language": "python",
   "name": "python3"
  },
  "language_info": {
   "codemirror_mode": {
    "name": "ipython",
    "version": 3
   },
   "file_extension": ".py",
   "mimetype": "text/x-python",
   "name": "python",
   "nbconvert_exporter": "python",
   "pygments_lexer": "ipython3",
   "version": "3.6.7"
  }
 },
 "nbformat": 4,
 "nbformat_minor": 4
}
