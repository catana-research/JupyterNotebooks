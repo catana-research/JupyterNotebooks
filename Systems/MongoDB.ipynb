{
 "cells": [
  {
   "cell_type": "markdown",
   "metadata": {},
   "source": [
    "<div style=\"float:left;font-size:20px;\">\n",
    "    <h1>MongoDB</h1>\n",
    "</div><div style=\"float:right;\"><img src=\"../assets/banner.jpg\"></div>"
   ]
  },
  {
   "cell_type": "markdown",
   "metadata": {},
   "source": [
    "<hr>"
   ]
  },
  {
   "cell_type": "markdown",
   "metadata": {},
   "source": [
    "Key features of MongoDB:\n",
    "\n",
    "- Schemaless, unlike relational databases. This gives greater flexibility however can make maintainence of data difficult.\n",
    "- Uses JSON (BSON) for storing data and can both power high-volume applications. \n",
    "- There are drivers for nearly any language including C/C++, Python, PHP, Ruby, Perl, .NET, even Node.js.\n",
    "- Stores data in _collections_, rather than tables.\n",
    "- A _collection_ may be considered a table except there are no aligned columns. Each entry (row) can use varying dynamic schemas in key-value pairs.\n",
    "- Each of these entries or rows inside a collection is called a _document_. \n",
    "\n",
    "Further reading: https://www.hongkiat.com/blog/webdev-with-mongodb-part1/\n"
   ]
  },
  {
   "cell_type": "markdown",
   "metadata": {},
   "source": [
    "## Setup\n",
    "\n",
    "Setup configuration script: C:\\Program Files\\MongoDB\\Server\\4.0\\bin\\mongod.cfg\n",
    "\n",
    "Run the server with the config: \n",
    "\n",
    "`cd C:\\Program Files\\MongoDB\\Server\\4.0\\bin\n",
    "mongod --config mongod.cfg`   \n",
    " \n",
    " \n",
    "Connect to the DB with either Python or MongoDB Compass:\n",
    "\n",
    "`\n",
    "from pymongo import MongoClient\n",
    "client = MongoClient('mongodb://localhost:27017/')\n",
    "client['dev'].list_collection_names()\n",
    "client['dev']['test'].find_one() # Get one element\n",
    "client['dev']['test'].find() # Get lazy list of all elements\n",
    "`\n",
    "\n",
    "More examples in:\n",
    "\n",
    "*R:\\Dropbox\\Python\\CatAna\\examples\\data\\mongodb\\mongo.py*"
   ]
  },
  {
   "cell_type": "markdown",
   "metadata": {},
   "source": [
    "__Note:__ Maximum document size ~ 16MB."
   ]
  },
  {
   "cell_type": "markdown",
   "metadata": {},
   "source": [
    "# PyMongo\n",
    "http://api.mongodb.com/python/current/tutorial.html\n",
    "    \n",
    "An important note about collections (and databases) in MongoDB is that they are created lazily - none of the above commands have actually performed any operations on the MongoDB server. Collections and databases are created when the first document is inserted into them.\n",
    "\n",
    "- MongoDB stores data in BSON format. BSON strings are UTF-8 encoded so PyMongo must ensure that any strings it stores contain only valid UTF-8 data."
   ]
  },
  {
   "cell_type": "markdown",
   "metadata": {},
   "source": [
    "## Examples"
   ]
  },
  {
   "cell_type": "code",
   "execution_count": 2,
   "metadata": {},
   "outputs": [
    {
     "data": {
      "text/plain": [
       "['admin', 'arctic', 'config', 'local', 'meta_db']"
      ]
     },
     "execution_count": 2,
     "metadata": {},
     "output_type": "execute_result"
    }
   ],
   "source": [
    "from pymongo import MongoClient\n",
    "\n",
    "# Connect to MongoDB\n",
    "client = MongoClient('mongodb://localhost:27017/')\n",
    "\n",
    "# List available DBs\n",
    "client.list_database_names()"
   ]
  },
  {
   "cell_type": "code",
   "execution_count": 3,
   "metadata": {},
   "outputs": [
    {
     "data": {
      "text/plain": [
       "Database(MongoClient(host=['localhost:27017'], document_class=dict, tz_aware=False, connect=True), 'admin')"
      ]
     },
     "execution_count": 3,
     "metadata": {},
     "output_type": "execute_result"
    }
   ],
   "source": []
  },
  {
   "cell_type": "code",
   "execution_count": 14,
   "metadata": {},
   "outputs": [
    {
     "data": {
      "text/plain": [
       "['posts']"
      ]
     },
     "execution_count": 14,
     "metadata": {},
     "output_type": "execute_result"
    }
   ],
   "source": [
    "# Connect to a DB and list collections\n",
    "dev = client['dev']\n",
    "dev = MongoClient().dev  # Alternatively\n",
    "dev.list_collection_names()"
   ]
  },
  {
   "cell_type": "code",
   "execution_count": 13,
   "metadata": {},
   "outputs": [
    {
     "data": {
      "text/plain": [
       "<pymongo.results.InsertOneResult at 0x27f1abdb2c8>"
      ]
     },
     "execution_count": 13,
     "metadata": {},
     "output_type": "execute_result"
    }
   ],
   "source": [
    "# Writing data\n",
    "dev = MongoClient().dev\n",
    "\n",
    "import datetime\n",
    "post = {\"author\": \"Mike\",\n",
    "        \"text\": \"My first blog post!\",\n",
    "        \"tags\": [\"mongodb\", \"python\", \"pymongo\"],\n",
    "        \"date\": datetime.datetime.utcnow()}\n",
    "\n",
    "id = dev.posts.insert_one(post)\n",
    "id  # ID of the stored data element"
   ]
  },
  {
   "cell_type": "code",
   "execution_count": 18,
   "metadata": {},
   "outputs": [
    {
     "data": {
      "text/plain": [
       "{'_id': ObjectId('5e850256b5ec12a738d3515c'),\n",
       " 'author': 'Mike',\n",
       " 'text': 'My first blog post!',\n",
       " 'tags': ['mongodb', 'python', 'pymongo'],\n",
       " 'date': datetime.datetime(2020, 4, 1, 21, 6, 30, 290000)}"
      ]
     },
     "execution_count": 18,
     "metadata": {},
     "output_type": "execute_result"
    }
   ],
   "source": [
    "# Retrieve data by ID\n",
    "stored_post = dev.posts.find_one(id.inserted_id)\n",
    "stored_post"
   ]
  },
  {
   "cell_type": "code",
   "execution_count": 19,
   "metadata": {},
   "outputs": [
    {
     "data": {
      "text/plain": [
       "{'_id': ObjectId('5e850256b5ec12a738d3515c'),\n",
       " 'author': 'Mike',\n",
       " 'text': 'My first blog post!',\n",
       " 'tags': ['mongodb', 'python', 'pymongo'],\n",
       " 'date': datetime.datetime(2020, 4, 1, 21, 6, 30, 290000)}"
      ]
     },
     "execution_count": 19,
     "metadata": {},
     "output_type": "execute_result"
    }
   ],
   "source": [
    "# Retrieve data by search\n",
    "dev.posts.find_one({'author': 'Mike'})"
   ]
  },
  {
   "cell_type": "markdown",
   "metadata": {},
   "source": [
    "### Bulk inserts"
   ]
  },
  {
   "cell_type": "code",
   "execution_count": 27,
   "metadata": {},
   "outputs": [
    {
     "data": {
      "text/plain": [
       "<pymongo.results.InsertManyResult at 0x27f1b68e488>"
      ]
     },
     "execution_count": 27,
     "metadata": {},
     "output_type": "execute_result"
    }
   ],
   "source": [
    "# Create a collection of cats and insert 1000 new documents\n",
    "if not dev.get_collection('cats'):\n",
    "    dev.create_collection('cats')\n",
    "\n",
    "import numpy as np\n",
    "n_cats = 1000\n",
    "ages = np.random.uniform(0, 10, n_cats)\n",
    "weights = np.random.uniform(4, 1, n_cats)\n",
    "breeds = ['Tabby', 'Bombay', 'Calico', 'Siamese']\n",
    "\n",
    "cat_data = [{'age': age, 'weight': weight, 'breed': np.random.choice(breeds)} for age, weight in zip(ages, weights)]\n",
    "    \n",
    "dev.cats.insert_many(cat_data)"
   ]
  },
  {
   "cell_type": "code",
   "execution_count": 37,
   "metadata": {},
   "outputs": [
    {
     "data": {
      "text/plain": [
       "pymongo.cursor.Cursor"
      ]
     },
     "execution_count": 37,
     "metadata": {},
     "output_type": "execute_result"
    }
   ],
   "source": [
    "# Find multiple data elements, result is a lazy Cursor object\n",
    "tabby_cats = dev.cats.find({'breed': 'Tabby'})\n",
    "type(tabby_cats)"
   ]
  },
  {
   "cell_type": "code",
   "execution_count": 38,
   "metadata": {},
   "outputs": [
    {
     "data": {
      "text/plain": [
       "[{'_id': ObjectId('5e8505eeb5ec12a738d3554b'),\n",
       "  'age': 6.0873644412467085,\n",
       "  'weight': 3.517296448453242,\n",
       "  'breed': 'Tabby'},\n",
       " {'_id': ObjectId('5e8505eeb5ec12a738d3554c'),\n",
       "  'age': 3.4481095661142436,\n",
       "  'weight': 1.1312420890279995,\n",
       "  'breed': 'Tabby'}]"
      ]
     },
     "execution_count": 38,
     "metadata": {},
     "output_type": "execute_result"
    }
   ],
   "source": [
    "# First two elements\n",
    "list(tabby_cats)[:2]"
   ]
  },
  {
   "cell_type": "code",
   "execution_count": 43,
   "metadata": {},
   "outputs": [],
   "source": [
    "# Filtering by comparison operators and sorting\n",
    "filtered_cats = dev.cats.find({'age': {'$lt': 2}}).sort(\"weight\")"
   ]
  },
  {
   "cell_type": "code",
   "execution_count": 44,
   "metadata": {},
   "outputs": [
    {
     "data": {
      "text/plain": [
       "[{'_id': ObjectId('5e850438b5ec12a738d35470'),\n",
       "  'age': 0.06707121053268095,\n",
       "  'weight': 1.0072234368744741},\n",
       " {'_id': ObjectId('5e850438b5ec12a738d3530d'),\n",
       "  'age': 0.23598394793078015,\n",
       "  'weight': 1.0101494189603266},\n",
       " {'_id': ObjectId('5e8505eeb5ec12a738d35616'),\n",
       "  'age': 0.9181937282119534,\n",
       "  'weight': 1.0129457898180672,\n",
       "  'breed': 'Siamese'}]"
      ]
     },
     "execution_count": 44,
     "metadata": {},
     "output_type": "execute_result"
    }
   ],
   "source": [
    "list(filtered_cats)[:3]"
   ]
  },
  {
   "cell_type": "markdown",
   "metadata": {},
   "source": [
    "### Aggregation"
   ]
  },
  {
   "cell_type": "code",
   "execution_count": 55,
   "metadata": {},
   "outputs": [
    {
     "name": "stdout",
     "output_type": "stream",
     "text": [
      "[{'_id': 'Calico', 'count': 268},\n",
      " {'_id': 'Tabby', 'count': 252},\n",
      " {'_id': 'Siamese', 'count': 241},\n",
      " {'_id': 'Bombay', 'count': 239}]\n"
     ]
    }
   ],
   "source": [
    "from bson.son import SON\n",
    "pipeline = [\n",
    "     {\"$unwind\": \"$breed\"},\n",
    "     {\"$group\": {\"_id\": \"$breed\", \"count\": {\"$sum\": 1}}},\n",
    "     {\"$sort\": SON([(\"count\", -1), (\"_id\", -1)])}  # SON is used a python dictionaries don’t maintain order. ALternatively use collections.OrderedDict where explicit ordering is required eg “$sort”:\n",
    "]\n",
    "\n",
    "import pprint\n",
    "pprint.pprint(list(dev.cats.aggregate(pipeline)))"
   ]
  },
  {
   "cell_type": "markdown",
   "metadata": {},
   "source": [
    "### Aggregation - Map/Reduce"
   ]
  },
  {
   "cell_type": "code",
   "execution_count": 65,
   "metadata": {},
   "outputs": [],
   "source": [
    "from bson.code import Code\n",
    "mapper = Code(\"\"\"\n",
    "              function () {\n",
    "                this.age.forEach(function(z) {\n",
    "                  emit(z, 1);\n",
    "                });\n",
    "              }\n",
    "              \"\"\")\n",
    "\n",
    "reducer = Code(\"\"\"\n",
    "               function (key, values) {\n",
    "                 var total = 0;\n",
    "                 for (var i = 0; i < values.length; i++) {\n",
    "                   total += values[i];\n",
    "                 }\n",
    "                 return total;\n",
    "               }\n",
    "               \"\"\")"
   ]
  },
  {
   "cell_type": "code",
   "execution_count": 71,
   "metadata": {},
   "outputs": [],
   "source": [
    "from bson.code import Code\n",
    "mapper = Code(\"\"\"\n",
    "              function () {\n",
    "                  emit(this.breed, this.age);\n",
    "              };\n",
    "              \"\"\")\n",
    "\n",
    "reducer = Code(\"\"\"\n",
    "               function (key, values) {\n",
    "                  return Array.sum(values);\n",
    "               }\n",
    "               \"\"\")"
   ]
  },
  {
   "cell_type": "code",
   "execution_count": 72,
   "metadata": {},
   "outputs": [
    {
     "name": "stdout",
     "output_type": "stream",
     "text": [
      "{'_id': None, 'value': 5045.712360692306}\n",
      "{'_id': 'Bombay', 'value': 1198.8239883284687}\n",
      "{'_id': 'Calico', 'value': 1400.349592126633}\n",
      "{'_id': 'Siamese', 'value': 1271.5255462473976}\n",
      "{'_id': 'Tabby', 'value': 1308.4953704555014}\n"
     ]
    }
   ],
   "source": [
    "result = dev.cats.map_reduce(mapper, reducer, \"myresults\")\n",
    "for doc in result.find():\n",
    "  pprint.pprint(doc)"
   ]
  },
  {
   "cell_type": "markdown",
   "metadata": {},
   "source": [
    "### Views"
   ]
  },
  {
   "cell_type": "code",
   "execution_count": 49,
   "metadata": {},
   "outputs": [
    {
     "ename": "TypeError",
     "evalue": "'Collection' object is not callable. If you meant to call the 'createView' method on a 'Database' object it is failing because no such method exists.",
     "output_type": "error",
     "traceback": [
      "\u001b[1;31m---------------------------------------------------------------------------\u001b[0m",
      "\u001b[1;31mTypeError\u001b[0m                                 Traceback (most recent call last)",
      "\u001b[1;32m<ipython-input-49-6d647454c420>\u001b[0m in \u001b[0;36m<module>\u001b[1;34m\u001b[0m\n\u001b[1;32m----> 1\u001b[1;33m \u001b[0mdev\u001b[0m\u001b[1;33m.\u001b[0m\u001b[0mcreateView\u001b[0m\u001b[1;33m(\u001b[0m\u001b[1;34m'catView'\u001b[0m\u001b[1;33m,\u001b[0m \u001b[1;34m'cats'\u001b[0m\u001b[1;33m)\u001b[0m\u001b[1;33m\u001b[0m\u001b[1;33m\u001b[0m\u001b[0m\n\u001b[0m",
      "\u001b[1;32m~\\.conda\\envs\\CatAna\\lib\\site-packages\\pymongo\\collection.py\u001b[0m in \u001b[0;36m__call__\u001b[1;34m(self, *args, **kwargs)\u001b[0m\n\u001b[0;32m   3337\u001b[0m                             \u001b[1;34m\"object it is failing because no such method \"\u001b[0m\u001b[1;33m\u001b[0m\u001b[1;33m\u001b[0m\u001b[0m\n\u001b[0;32m   3338\u001b[0m                             \u001b[1;34m\"exists.\"\u001b[0m \u001b[1;33m%\u001b[0m\u001b[1;33m\u001b[0m\u001b[1;33m\u001b[0m\u001b[0m\n\u001b[1;32m-> 3339\u001b[1;33m                             self.__name)\n\u001b[0m\u001b[0;32m   3340\u001b[0m         raise TypeError(\"'Collection' object is not callable. If you meant to \"\n\u001b[0;32m   3341\u001b[0m                         \u001b[1;34m\"call the '%s' method on a 'Collection' object it is \"\u001b[0m\u001b[1;33m\u001b[0m\u001b[1;33m\u001b[0m\u001b[0m\n",
      "\u001b[1;31mTypeError\u001b[0m: 'Collection' object is not callable. If you meant to call the 'createView' method on a 'Database' object it is failing because no such method exists."
     ]
    }
   ],
   "source": [
    "dev.createView('catView', 'cats',\n",
    "              )"
   ]
  },
  {
   "cell_type": "markdown",
   "metadata": {},
   "source": [
    "# Arctic"
   ]
  },
  {
   "cell_type": "markdown",
   "metadata": {},
   "source": [
    "Python wrapper for MongoDB that supports serialization of a number of datatypes for storage in the mongo document model. Data is compressed using LZ4, reducing both the disk an IO utilisation.\n",
    "\n",
    "Features:\n",
    "- Version Store (historised data with snapshot functionality)\n",
    "- DataFrame Store\n",
    "- NdArray Store\n",
    "- Pickle Store"
   ]
  },
  {
   "cell_type": "markdown",
   "metadata": {},
   "source": [
    "## Documentation\n",
    "https://www.mongodb.com/press/man-ahl-arctic-open-source\n",
    "\n",
    "https://github.com/manahl/arctic\n",
    "\n",
    "https://arctic.readthedocs.io/en/latest/\n",
    "\n",
    "### Examples\n",
    "https://github.com/manahl/arctic/blob/master/howtos/how_to_use_arctic.py\n",
    "https://github.com/manahl/arctic/blob/master/howtos/how_to_custom_arctic_library.py\n",
    "http://api.mongodb.com/python/current/api/pymongo/collection.html"
   ]
  },
  {
   "cell_type": "code",
   "execution_count": 12,
   "metadata": {},
   "outputs": [],
   "source": [
    "# Connect to MongoDB cluster\n",
    "from arctic import Arctic\n",
    "conn = Arctic('localhost')"
   ]
  },
  {
   "cell_type": "code",
   "execution_count": 14,
   "metadata": {},
   "outputs": [
    {
     "data": {
      "text/plain": [
       "['data', 'HomeUI', 'random', 'bigdata', 'home']"
      ]
     },
     "execution_count": 14,
     "metadata": {},
     "output_type": "execute_result"
    }
   ],
   "source": [
    "# List libraries on cluster\n",
    "conn.list_libraries()"
   ]
  },
  {
   "cell_type": "code",
   "execution_count": 18,
   "metadata": {},
   "outputs": [
    {
     "data": {
      "text/plain": [
       "['pythia/qqbar_Zgamma_fs_1000',\n",
       " 'pythia/qqbar_Zgamma_full',\n",
       " 'pythia/qqbar_Zgamma_full_1000',\n",
       " 'pythia/qqbar_Zgamma_mu_100k',\n",
       " 'pythia/qqbar_Zgamma_mu_10k']"
      ]
     },
     "execution_count": 18,
     "metadata": {},
     "output_type": "execute_result"
    }
   ],
   "source": [
    "# List all data entries (symbols)\n",
    "conn['data'].list_symbols()"
   ]
  },
  {
   "cell_type": "code",
   "execution_count": 20,
   "metadata": {},
   "outputs": [],
   "source": [
    "# Create a new library\n",
    "if 'home' not in conn.list_libraries():\n",
    "    conn.initialize_library('home')"
   ]
  },
  {
   "cell_type": "markdown",
   "metadata": {},
   "source": [
    "```python\n",
    "# Write new data\n",
    "conn['data'].write('pythia/qqbar_Zgamma_fs_1000', df)\n",
    "\n",
    "data = conn['data']\n",
    "data.write('pythia/qqbar_Zgamma_fs_1000', df, metadata={'process': 'qqbar_Zgamma',\n",
    "                                                        'generator': 'pythia',\n",
    "                                                        'simulation': 'full',\n",
    "                                                        'events': 1000})\n",
    "```"
   ]
  },
  {
   "cell_type": "markdown",
   "metadata": {},
   "source": [
    "### Catana DataStore"
   ]
  },
  {
   "cell_type": "code",
   "execution_count": null,
   "metadata": {},
   "outputs": [],
   "source": [
    "db = DataStore().connect('catana')\n",
    "db.ls()\n",
    "# Data is written in the format: 'project.category.name'\n",
    "db.write(data=a, name='numbers')\n",
    "\n",
    "\n"
   ]
  },
  {
   "cell_type": "markdown",
   "metadata": {},
   "source": [
    "Data access is lazy\n",
    "```python\n",
    ">>> db['scratch.root.numbers']\n",
    " VersionedItem(symbol=scratch.root.cheese,library=arctic.catana,data=<class 'numpy.ndarray'>,version=1,metadata=None,host=localhost)\n",
    "```\n",
    "Read data by:\n",
    "```python\n",
    "numbers = db['scratch.root.cheese'].data\n",
    "```\n"
   ]
  }
 ],
 "metadata": {
  "kernelspec": {
   "display_name": "Python 3",
   "language": "python",
   "name": "python3"
  },
  "language_info": {
   "codemirror_mode": {
    "name": "ipython",
    "version": 3
   },
   "file_extension": ".py",
   "mimetype": "text/x-python",
   "name": "python",
   "nbconvert_exporter": "python",
   "pygments_lexer": "ipython3",
   "version": "3.6.7"
  }
 },
 "nbformat": 4,
 "nbformat_minor": 4
}
