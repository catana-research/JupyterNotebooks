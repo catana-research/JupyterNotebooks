{
 "cells": [
  {
   "cell_type": "markdown",
   "metadata": {},
   "source": [
    "<div style=\"float:left;font-size:20px;\">\n",
    "    <h1>Design</h1>\n",
    "</div><div style=\"float:rigaht;\"><img src=\"../assets/banner.jpg\"></div>"
   ]
  },
  {
   "cell_type": "markdown",
   "metadata": {},
   "source": [
    "- UML of class diagram design\n",
    "- Componentised design\n",
    "- Design patterns: Factory, Strategy, Hollywood\n",
    "- YAML configuration\n",
    "- CI with Jenkins/Travis"
   ]
  },
  {
   "cell_type": "markdown",
   "metadata": {},
   "source": [
    "_Principle:_ Components designed to an interface specification. Flow and operation of components is controlled by configuration."
   ]
  },
  {
   "cell_type": "markdown",
   "metadata": {},
   "source": [
    "Examples: https://python-3-patterns-idioms-test.readthedocs.io/en/latest/AppFrameworks.html"
   ]
  },
  {
   "cell_type": "markdown",
   "metadata": {},
   "source": [
    "## Examples"
   ]
  },
  {
   "cell_type": "code",
   "execution_count": 25,
   "metadata": {},
   "outputs": [],
   "source": [
    "import abc\n",
    "\n",
    "class BaseClass(abc.ABC):\n",
    "    \"\"\"Base processing class providing an interface\"\"\"\n",
    "    \n",
    "    def __init__(self, cfg):\n",
    "        self.data = None\n",
    "        self._cfg = cfg\n",
    "    \n",
    "    def run(self):\n",
    "        \"\"\"Main function controlling flow of class\"\"\"\n",
    "        self._load(self._cfg)\n",
    "        self._process(self.data)\n",
    "        self._output()\n",
    "    \n",
    "    def _output(self):\n",
    "        \"\"\"Output the computed results\"\"\"\n",
    "        print(self.data)\n",
    "    \n",
    "    @abc.abstractmethod\n",
    "    def _load(self, cfg):\n",
    "        \"\"\"Load data from source\"\"\"\n",
    "        raise NotImplemented('Must be implemented in contrete subclass')\n",
    "        \n",
    "    @abc.abstractmethod\n",
    "    def _process(self, data):\n",
    "        \"\"\"Process data\"\"\"\n",
    "        raise NotImplemented('Must be implemented in contrete subclass')"
   ]
  },
  {
   "cell_type": "code",
   "execution_count": 28,
   "metadata": {},
   "outputs": [],
   "source": [
    "import pandas as pd\n",
    "\n",
    "class ProcessClass(BaseClass):\n",
    "    \"\"\"Processing class\"\"\"\n",
    "    \n",
    "    def __init__(self, cfg):\n",
    "        super().__init__(cfg)\n",
    "\n",
    "    def _load(self, cfg):\n",
    "        \"\"\"Load data from source\"\"\"\n",
    "        self.data = pd.read_csv(cfg['path'])\n",
    "        \n",
    "    def _process(self, data):\n",
    "        \"\"\"Process data\"\"\"\n",
    "        self.data['x'] *= 2"
   ]
  },
  {
   "cell_type": "code",
   "execution_count": 29,
   "metadata": {},
   "outputs": [
    {
     "name": "stdout",
     "output_type": "stream",
     "text": [
      "   x\n",
      "0  2\n",
      "1  6\n",
      "2  8\n",
      "3  2\n"
     ]
    }
   ],
   "source": [
    "cfg = {'path': 'C:/Temp/data.csv'}\n",
    "\n",
    "process = ProcessClass(cfg)\n",
    "process.run()"
   ]
  }
 ],
 "metadata": {
  "kernelspec": {
   "display_name": "Python 3",
   "language": "python",
   "name": "python3"
  },
  "language_info": {
   "codemirror_mode": {
    "name": "ipython",
    "version": 3
   },
   "file_extension": ".py",
   "mimetype": "text/x-python",
   "name": "python",
   "nbconvert_exporter": "python",
   "pygments_lexer": "ipython3",
   "version": "3.6.7"
  }
 },
 "nbformat": 4,
 "nbformat_minor": 4
}
